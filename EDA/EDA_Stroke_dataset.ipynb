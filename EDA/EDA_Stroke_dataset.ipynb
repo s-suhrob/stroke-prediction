{
  "cells": [
    {
      "cell_type": "code",
      "execution_count": 1,
      "metadata": {
        "id": "fGll134Depn7"
      },
      "outputs": [],
      "source": [
        "# Импортируем нужные библиотеки для анализа данных\n",
        "import pandas as pd\n",
        "import matplotlib.pyplot as plt\n",
        "import plotly.express as px\n",
        "import seaborn as sns\n",
        "import csv\n",
        "from sklearn.preprocessing import OneHotEncoder\n",
        "encoder = OneHotEncoder(handle_unknown='ignore')\n",
        "from sklearn.model_selection import train_test_split"
      ]
    },
    {
      "cell_type": "code",
      "execution_count": 16,
      "metadata": {
        "id": "CwdqH9gVm4DG"
      },
      "outputs": [],
      "source": [
        "stroke_dataset = pd.read_csv(r\"C:\\Users\\User\\Desktop\\my-projects\\stroke-prediction\\dataset\\stroke-data.csv\")"
      ]
    },
    {
      "cell_type": "markdown",
      "metadata": {
        "id": "plsaSbkQnlK3"
      },
      "source": [
        "# EDA"
      ]
    },
    {
      "cell_type": "code",
      "execution_count": 17,
      "metadata": {
        "colab": {
          "base_uri": "https://localhost:8080/",
          "height": 206
        },
        "id": "9plRlH1pnITu",
        "outputId": "86bf8934-6cfc-4539-9748-4ebb83b3c17e"
      },
      "outputs": [
        {
          "data": {
            "text/html": [
              "<div>\n",
              "<style scoped>\n",
              "    .dataframe tbody tr th:only-of-type {\n",
              "        vertical-align: middle;\n",
              "    }\n",
              "\n",
              "    .dataframe tbody tr th {\n",
              "        vertical-align: top;\n",
              "    }\n",
              "\n",
              "    .dataframe thead th {\n",
              "        text-align: right;\n",
              "    }\n",
              "</style>\n",
              "<table border=\"1\" class=\"dataframe\">\n",
              "  <thead>\n",
              "    <tr style=\"text-align: right;\">\n",
              "      <th></th>\n",
              "      <th>id</th>\n",
              "      <th>gender</th>\n",
              "      <th>age</th>\n",
              "      <th>hypertension</th>\n",
              "      <th>heart_disease</th>\n",
              "      <th>ever_married</th>\n",
              "      <th>work_type</th>\n",
              "      <th>Residence_type</th>\n",
              "      <th>avg_glucose_level</th>\n",
              "      <th>bmi</th>\n",
              "      <th>smoking_status</th>\n",
              "      <th>stroke</th>\n",
              "    </tr>\n",
              "  </thead>\n",
              "  <tbody>\n",
              "    <tr>\n",
              "      <th>0</th>\n",
              "      <td>9046</td>\n",
              "      <td>Male</td>\n",
              "      <td>67.0</td>\n",
              "      <td>0</td>\n",
              "      <td>1</td>\n",
              "      <td>Yes</td>\n",
              "      <td>Private</td>\n",
              "      <td>Urban</td>\n",
              "      <td>228.69</td>\n",
              "      <td>36.6</td>\n",
              "      <td>formerly smoked</td>\n",
              "      <td>1</td>\n",
              "    </tr>\n",
              "    <tr>\n",
              "      <th>1</th>\n",
              "      <td>51676</td>\n",
              "      <td>Female</td>\n",
              "      <td>61.0</td>\n",
              "      <td>0</td>\n",
              "      <td>0</td>\n",
              "      <td>Yes</td>\n",
              "      <td>Self-employed</td>\n",
              "      <td>Rural</td>\n",
              "      <td>202.21</td>\n",
              "      <td>NaN</td>\n",
              "      <td>never smoked</td>\n",
              "      <td>1</td>\n",
              "    </tr>\n",
              "    <tr>\n",
              "      <th>2</th>\n",
              "      <td>31112</td>\n",
              "      <td>Male</td>\n",
              "      <td>80.0</td>\n",
              "      <td>0</td>\n",
              "      <td>1</td>\n",
              "      <td>Yes</td>\n",
              "      <td>Private</td>\n",
              "      <td>Rural</td>\n",
              "      <td>105.92</td>\n",
              "      <td>32.5</td>\n",
              "      <td>never smoked</td>\n",
              "      <td>1</td>\n",
              "    </tr>\n",
              "    <tr>\n",
              "      <th>3</th>\n",
              "      <td>60182</td>\n",
              "      <td>Female</td>\n",
              "      <td>49.0</td>\n",
              "      <td>0</td>\n",
              "      <td>0</td>\n",
              "      <td>Yes</td>\n",
              "      <td>Private</td>\n",
              "      <td>Urban</td>\n",
              "      <td>171.23</td>\n",
              "      <td>34.4</td>\n",
              "      <td>smokes</td>\n",
              "      <td>1</td>\n",
              "    </tr>\n",
              "    <tr>\n",
              "      <th>4</th>\n",
              "      <td>1665</td>\n",
              "      <td>Female</td>\n",
              "      <td>79.0</td>\n",
              "      <td>1</td>\n",
              "      <td>0</td>\n",
              "      <td>Yes</td>\n",
              "      <td>Self-employed</td>\n",
              "      <td>Rural</td>\n",
              "      <td>174.12</td>\n",
              "      <td>24.0</td>\n",
              "      <td>never smoked</td>\n",
              "      <td>1</td>\n",
              "    </tr>\n",
              "  </tbody>\n",
              "</table>\n",
              "</div>"
            ],
            "text/plain": [
              "      id  gender   age  hypertension  heart_disease ever_married  \\\n",
              "0   9046    Male  67.0             0              1          Yes   \n",
              "1  51676  Female  61.0             0              0          Yes   \n",
              "2  31112    Male  80.0             0              1          Yes   \n",
              "3  60182  Female  49.0             0              0          Yes   \n",
              "4   1665  Female  79.0             1              0          Yes   \n",
              "\n",
              "       work_type Residence_type  avg_glucose_level   bmi   smoking_status  \\\n",
              "0        Private          Urban             228.69  36.6  formerly smoked   \n",
              "1  Self-employed          Rural             202.21   NaN     never smoked   \n",
              "2        Private          Rural             105.92  32.5     never smoked   \n",
              "3        Private          Urban             171.23  34.4           smokes   \n",
              "4  Self-employed          Rural             174.12  24.0     never smoked   \n",
              "\n",
              "   stroke  \n",
              "0       1  \n",
              "1       1  \n",
              "2       1  \n",
              "3       1  \n",
              "4       1  "
            ]
          },
          "execution_count": 17,
          "metadata": {},
          "output_type": "execute_result"
        }
      ],
      "source": [
        "stroke_dataset.head()"
      ]
    },
    {
      "cell_type": "code",
      "execution_count": 18,
      "metadata": {
        "colab": {
          "base_uri": "https://localhost:8080/",
          "height": 206
        },
        "id": "PJtkGa29nKxO",
        "outputId": "c72d2b1c-5c5d-433b-dea9-2ccbfadd6abf"
      },
      "outputs": [
        {
          "data": {
            "text/html": [
              "<div>\n",
              "<style scoped>\n",
              "    .dataframe tbody tr th:only-of-type {\n",
              "        vertical-align: middle;\n",
              "    }\n",
              "\n",
              "    .dataframe tbody tr th {\n",
              "        vertical-align: top;\n",
              "    }\n",
              "\n",
              "    .dataframe thead th {\n",
              "        text-align: right;\n",
              "    }\n",
              "</style>\n",
              "<table border=\"1\" class=\"dataframe\">\n",
              "  <thead>\n",
              "    <tr style=\"text-align: right;\">\n",
              "      <th></th>\n",
              "      <th>id</th>\n",
              "      <th>gender</th>\n",
              "      <th>age</th>\n",
              "      <th>hypertension</th>\n",
              "      <th>heart_disease</th>\n",
              "      <th>ever_married</th>\n",
              "      <th>work_type</th>\n",
              "      <th>Residence_type</th>\n",
              "      <th>avg_glucose_level</th>\n",
              "      <th>bmi</th>\n",
              "      <th>smoking_status</th>\n",
              "      <th>stroke</th>\n",
              "    </tr>\n",
              "  </thead>\n",
              "  <tbody>\n",
              "    <tr>\n",
              "      <th>5105</th>\n",
              "      <td>18234</td>\n",
              "      <td>Female</td>\n",
              "      <td>80.0</td>\n",
              "      <td>1</td>\n",
              "      <td>0</td>\n",
              "      <td>Yes</td>\n",
              "      <td>Private</td>\n",
              "      <td>Urban</td>\n",
              "      <td>83.75</td>\n",
              "      <td>NaN</td>\n",
              "      <td>never smoked</td>\n",
              "      <td>0</td>\n",
              "    </tr>\n",
              "    <tr>\n",
              "      <th>5106</th>\n",
              "      <td>44873</td>\n",
              "      <td>Female</td>\n",
              "      <td>81.0</td>\n",
              "      <td>0</td>\n",
              "      <td>0</td>\n",
              "      <td>Yes</td>\n",
              "      <td>Self-employed</td>\n",
              "      <td>Urban</td>\n",
              "      <td>125.20</td>\n",
              "      <td>40.0</td>\n",
              "      <td>never smoked</td>\n",
              "      <td>0</td>\n",
              "    </tr>\n",
              "    <tr>\n",
              "      <th>5107</th>\n",
              "      <td>19723</td>\n",
              "      <td>Female</td>\n",
              "      <td>35.0</td>\n",
              "      <td>0</td>\n",
              "      <td>0</td>\n",
              "      <td>Yes</td>\n",
              "      <td>Self-employed</td>\n",
              "      <td>Rural</td>\n",
              "      <td>82.99</td>\n",
              "      <td>30.6</td>\n",
              "      <td>never smoked</td>\n",
              "      <td>0</td>\n",
              "    </tr>\n",
              "    <tr>\n",
              "      <th>5108</th>\n",
              "      <td>37544</td>\n",
              "      <td>Male</td>\n",
              "      <td>51.0</td>\n",
              "      <td>0</td>\n",
              "      <td>0</td>\n",
              "      <td>Yes</td>\n",
              "      <td>Private</td>\n",
              "      <td>Rural</td>\n",
              "      <td>166.29</td>\n",
              "      <td>25.6</td>\n",
              "      <td>formerly smoked</td>\n",
              "      <td>0</td>\n",
              "    </tr>\n",
              "    <tr>\n",
              "      <th>5109</th>\n",
              "      <td>44679</td>\n",
              "      <td>Female</td>\n",
              "      <td>44.0</td>\n",
              "      <td>0</td>\n",
              "      <td>0</td>\n",
              "      <td>Yes</td>\n",
              "      <td>Govt_job</td>\n",
              "      <td>Urban</td>\n",
              "      <td>85.28</td>\n",
              "      <td>26.2</td>\n",
              "      <td>Unknown</td>\n",
              "      <td>0</td>\n",
              "    </tr>\n",
              "  </tbody>\n",
              "</table>\n",
              "</div>"
            ],
            "text/plain": [
              "         id  gender   age  hypertension  heart_disease ever_married  \\\n",
              "5105  18234  Female  80.0             1              0          Yes   \n",
              "5106  44873  Female  81.0             0              0          Yes   \n",
              "5107  19723  Female  35.0             0              0          Yes   \n",
              "5108  37544    Male  51.0             0              0          Yes   \n",
              "5109  44679  Female  44.0             0              0          Yes   \n",
              "\n",
              "          work_type Residence_type  avg_glucose_level   bmi   smoking_status  \\\n",
              "5105        Private          Urban              83.75   NaN     never smoked   \n",
              "5106  Self-employed          Urban             125.20  40.0     never smoked   \n",
              "5107  Self-employed          Rural              82.99  30.6     never smoked   \n",
              "5108        Private          Rural             166.29  25.6  formerly smoked   \n",
              "5109       Govt_job          Urban              85.28  26.2          Unknown   \n",
              "\n",
              "      stroke  \n",
              "5105       0  \n",
              "5106       0  \n",
              "5107       0  \n",
              "5108       0  \n",
              "5109       0  "
            ]
          },
          "execution_count": 18,
          "metadata": {},
          "output_type": "execute_result"
        }
      ],
      "source": [
        "stroke_dataset.tail()"
      ]
    },
    {
      "cell_type": "code",
      "execution_count": 19,
      "metadata": {
        "colab": {
          "base_uri": "https://localhost:8080/"
        },
        "id": "rFnrHrf5nSye",
        "outputId": "aa1e492e-fb4d-427b-dea2-442ad58d1af4"
      },
      "outputs": [
        {
          "name": "stdout",
          "output_type": "stream",
          "text": [
            "<class 'pandas.core.frame.DataFrame'>\n",
            "RangeIndex: 5110 entries, 0 to 5109\n",
            "Data columns (total 12 columns):\n",
            " #   Column             Non-Null Count  Dtype  \n",
            "---  ------             --------------  -----  \n",
            " 0   id                 5110 non-null   int64  \n",
            " 1   gender             5110 non-null   object \n",
            " 2   age                5110 non-null   float64\n",
            " 3   hypertension       5110 non-null   int64  \n",
            " 4   heart_disease      5110 non-null   int64  \n",
            " 5   ever_married       5110 non-null   object \n",
            " 6   work_type          5110 non-null   object \n",
            " 7   Residence_type     5110 non-null   object \n",
            " 8   avg_glucose_level  5110 non-null   float64\n",
            " 9   bmi                4909 non-null   float64\n",
            " 10  smoking_status     5110 non-null   object \n",
            " 11  stroke             5110 non-null   int64  \n",
            "dtypes: float64(3), int64(4), object(5)\n",
            "memory usage: 479.2+ KB\n"
          ]
        }
      ],
      "source": [
        "stroke_dataset.info()"
      ]
    },
    {
      "cell_type": "markdown",
      "metadata": {
        "id": "AWJ2gtcYnvE3"
      },
      "source": [
        "**По данным Всемирной организации здравоохранения (ВОЗ), инсульт является второй ведущей причиной смерти в мире, ответственной примерно за 11% всех смертей.\n",
        "Этот набор данных используется для прогнозирования вероятности возникновения инсульта у пациента на основе таких входных параметров, как пол, возраст, различные заболевания и статус курения. Каждая строка в данных содержит соответствующую информацию о пациенте.**\n",
        "\n",
        "\n",
        "\n",
        "1. **Пол(gender)**: \"Мужской\", \"Женский\"\n",
        "2. **Возраст(age)**: возраст пациента\n",
        "3. **Гипертония(hypertension)**: 0 - если у пациента нет гипертонии, 1 - если у пациента есть гипертония\n",
        "4. **Болезнь сердца (heart_disease)**: 0, если у пациента нет никаких заболеваний сердца, 1, если у пациента есть заболевание сердца\n",
        "5. **Когда-либо состоял в браке(ever_married)**: \"Нет\" или \"Да\"\n",
        "6. **Тип работы(work_type)**: \"дети\", \"гос_джов\", \"никогда_не_работал\", \"частный\" или \"самозанятый\".\n",
        "7. **Тип_жительства(Residence_type)**: \"Сельская\" или \"Городская\"\n",
        "8. **Средний уровень глюкозы(avg_glucose_level)**: средний уровень глюкозы в крови\n",
        "9. **bmi**: индекс массы тела\n",
        "10. **Cтатус курения(smoking_status)**: \"ранее курил\", \"никогда не курил\", \"курит\" или \"неизвестно \"*.\n",
        "11. **Инсульт(stroke)**: 1, если у пациента был инсульт, или 0, если нет"
      ]
    },
    {
      "cell_type": "code",
      "execution_count": 20,
      "metadata": {
        "id": "hOskp6QWnubm"
      },
      "outputs": [],
      "source": [
        "#deletinig var id\n",
        "stroke_dataset.drop(['id'], axis=1,inplace=True)"
      ]
    },
    {
      "cell_type": "code",
      "execution_count": 21,
      "metadata": {
        "colab": {
          "base_uri": "https://localhost:8080/",
          "height": 424
        },
        "id": "D-GO5isTnrBf",
        "outputId": "ad69a5a8-1568-4014-e641-5741cbfce014"
      },
      "outputs": [
        {
          "data": {
            "text/plain": [
              "never smoked       1892\n",
              "Unknown            1544\n",
              "formerly smoked     885\n",
              "smokes              789\n",
              "Name: smoking_status, dtype: int64"
            ]
          },
          "execution_count": 21,
          "metadata": {},
          "output_type": "execute_result"
        }
      ],
      "source": [
        "stroke_dataset.smoking_status.value_counts()"
      ]
    },
    {
      "cell_type": "markdown",
      "metadata": {
        "id": "wbvca0O4ttAE"
      },
      "source": [
        "**Var Gender**"
      ]
    },
    {
      "cell_type": "code",
      "execution_count": 22,
      "metadata": {
        "colab": {
          "base_uri": "https://localhost:8080/"
        },
        "id": "ymVQVOtXtJA2",
        "outputId": "d7ce5ccb-b28a-481b-a8ec-91ababade716"
      },
      "outputs": [
        {
          "data": {
            "text/plain": [
              "count       5110\n",
              "unique         3\n",
              "top       Female\n",
              "freq        2994\n",
              "Name: gender, dtype: object"
            ]
          },
          "execution_count": 22,
          "metadata": {},
          "output_type": "execute_result"
        }
      ],
      "source": [
        "stroke_dataset['gender'].describe()"
      ]
    },
    {
      "cell_type": "code",
      "execution_count": 23,
      "metadata": {
        "colab": {
          "base_uri": "https://localhost:8080/"
        },
        "id": "dKrbKoSKt8V3",
        "outputId": "b4704015-2dd0-4f48-b9f2-a8a11159d4c9"
      },
      "outputs": [
        {
          "data": {
            "text/plain": [
              "Female    2994\n",
              "Male      2115\n",
              "Other        1\n",
              "Name: gender, dtype: int64"
            ]
          },
          "execution_count": 23,
          "metadata": {},
          "output_type": "execute_result"
        }
      ],
      "source": [
        "stroke_dataset['gender'].value_counts()"
      ]
    },
    {
      "cell_type": "code",
      "execution_count": 24,
      "metadata": {
        "id": "qEh7XusevTNG"
      },
      "outputs": [],
      "source": [
        "gender=['Female','Male']\n",
        "stroke_dataset=stroke_dataset[(stroke_dataset[\"gender\"].isin(gender))]\n"
      ]
    },
    {
      "cell_type": "code",
      "execution_count": 25,
      "metadata": {
        "colab": {
          "base_uri": "https://localhost:8080/"
        },
        "id": "QRQtbGXZzdNt",
        "outputId": "27bd1fcc-7340-4676-b2f6-adddc4a8810a"
      },
      "outputs": [
        {
          "data": {
            "text/plain": [
              "Female    2994\n",
              "Male      2115\n",
              "Name: gender, dtype: int64"
            ]
          },
          "execution_count": 25,
          "metadata": {},
          "output_type": "execute_result"
        }
      ],
      "source": [
        "stroke_dataset['gender'].value_counts()"
      ]
    },
    {
      "cell_type": "code",
      "execution_count": 26,
      "metadata": {
        "colab": {
          "base_uri": "https://localhost:8080/"
        },
        "id": "xideHcXgz94U",
        "outputId": "25a2ca65-090e-4590-e13f-7e7ddc845001"
      },
      "outputs": [
        {
          "name": "stdout",
          "output_type": "stream",
          "text": [
            "Percent of males in dataset is 41.39753376394598\n",
            "Percent of females in dataset is 58.60246623605402\n"
          ]
        }
      ],
      "source": [
        "def gender_per():\n",
        "\n",
        "  fem_count = stroke_dataset.gender.value_counts()['Female']\n",
        "  male_count = stroke_dataset.gender.value_counts()['Male']\n",
        "  sum_count = fem_count + male_count\n",
        "\n",
        "  print(f\"Percent of males in dataset is {(100*male_count)/sum_count}\")\n",
        "  print(f\"Percent of females in dataset is {(100*fem_count)/sum_count}\")\n",
        "\n",
        "gender_per()"
      ]
    },
    {
      "cell_type": "markdown",
      "metadata": {
        "id": "XvDq6GXit5-i"
      },
      "source": [
        "У нас в базе из **5110** людей **2994 (59%)** это женщини а **2115(41%)** это мужчини. "
      ]
    },
    {
      "cell_type": "code",
      "execution_count": 27,
      "metadata": {
        "colab": {
          "base_uri": "https://localhost:8080/",
          "height": 514
        },
        "id": "RfyA2YfV2xmD",
        "outputId": "685a825c-2ac6-488f-8439-b6e061d82c08"
      },
      "outputs": [
        {
          "data": {
            "text/plain": [
              "<AxesSubplot:xlabel='gender', ylabel='Count'>"
            ]
          },
          "execution_count": 27,
          "metadata": {},
          "output_type": "execute_result"
        },
        {
          "data": {
            "image/png": "[encoded data removed]",
            "text/plain": [
              "<Figure size 1080x576 with 1 Axes>"
            ]
          },
          "metadata": {
            "needs_background": "light"
          },
          "output_type": "display_data"
        }
      ],
      "source": [
        "plt.figure(figsize=(15, 8))\n",
        "sns.histplot(stroke_dataset, x='gender')"
      ]
    },
    {
      "cell_type": "code",
      "execution_count": 28,
      "metadata": {
        "colab": {
          "base_uri": "https://localhost:8080/",
          "height": 296
        },
        "id": "ncYrSdkz3sEZ",
        "outputId": "2d459093-7251-469d-c2c6-4eb91c6053b0"
      },
      "outputs": [
        {
          "data": {
            "text/plain": [
              "<AxesSubplot:xlabel='stroke', ylabel='count'>"
            ]
          },
          "execution_count": 28,
          "metadata": {},
          "output_type": "execute_result"
        },
        {
          "data": {
            "image/png": "[encoded data removed]",
            "text/plain": [
              "<Figure size 1080x576 with 1 Axes>"
            ]
          },
          "metadata": {
            "needs_background": "light"
          },
          "output_type": "display_data"
        }
      ],
      "source": [
        "plt.figure(figsize=(15, 8))\n",
        "sns.countplot(x='stroke', hue='gender', data=stroke_dataset)"
      ]
    },
    {
      "cell_type": "markdown",
      "metadata": {
        "id": "tJksFMZA6Mvl"
      },
      "source": [
        "Исходя из ситуации больше строке была у женщин (141) случаев а у мажчин (108) случаев."
      ]
    },
    {
      "cell_type": "markdown",
      "metadata": {
        "id": "qYxGz37W6znS"
      },
      "source": [
        "**Var Age**"
      ]
    },
    {
      "cell_type": "code",
      "execution_count": 29,
      "metadata": {
        "colab": {
          "base_uri": "https://localhost:8080/"
        },
        "id": "5toIrhYw629p",
        "outputId": "3f3ddfa5-c747-4e3b-ee90-c2adf4e11ed3"
      },
      "outputs": [
        {
          "data": {
            "text/plain": [
              "count    5109.000000\n",
              "mean       43.229986\n",
              "std        22.613575\n",
              "min         0.080000\n",
              "25%        25.000000\n",
              "50%        45.000000\n",
              "75%        61.000000\n",
              "max        82.000000\n",
              "Name: age, dtype: float64"
            ]
          },
          "execution_count": 29,
          "metadata": {},
          "output_type": "execute_result"
        }
      ],
      "source": [
        "stroke_dataset.age.describe()"
      ]
    },
    {
      "cell_type": "code",
      "execution_count": 30,
      "metadata": {
        "colab": {
          "base_uri": "https://localhost:8080/",
          "height": 296
        },
        "id": "pZCaDGah6687",
        "outputId": "39c5dc40-ebf2-4078-cb7e-347a4e019eee"
      },
      "outputs": [
        {
          "data": {
            "text/plain": [
              "<AxesSubplot:xlabel='age', ylabel='Count'>"
            ]
          },
          "execution_count": 30,
          "metadata": {},
          "output_type": "execute_result"
        },
        {
          "data": {
            "image/png": "[encoded data removed]",
            "text/plain": [
              "<Figure size 1080x576 with 1 Axes>"
            ]
          },
          "metadata": {
            "needs_background": "light"
          },
          "output_type": "display_data"
        }
      ],
      "source": [
        "plt.figure(figsize=(15, 8))\n",
        "sns.histplot(data=stroke_dataset, x='age')"
      ]
    },
    {
      "cell_type": "code",
      "execution_count": 31,
      "metadata": {
        "id": "wJpYrPR57FAC"
      },
      "outputs": [],
      "source": [
        "stroke_dataset = stroke_dataset[stroke_dataset['age'] >= 18]"
      ]
    },
    {
      "cell_type": "code",
      "execution_count": 32,
      "metadata": {
        "colab": {
          "base_uri": "https://localhost:8080/",
          "height": 296
        },
        "id": "7ofd2Tj57hsk",
        "outputId": "c3ac6429-e645-4ca5-dd60-0ffdce0b325a"
      },
      "outputs": [
        {
          "data": {
            "text/plain": [
              "<AxesSubplot:xlabel='age', ylabel='Count'>"
            ]
          },
          "execution_count": 32,
          "metadata": {},
          "output_type": "execute_result"
        },
        {
          "data": {
            "image/png": "[encoded data removed]",
            "text/plain": [
              "<Figure size 1080x576 with 1 Axes>"
            ]
          },
          "metadata": {
            "needs_background": "light"
          },
          "output_type": "display_data"
        }
      ],
      "source": [
        "plt.figure(figsize=(15, 8))\n",
        "sns.histplot(data=stroke_dataset, x='age')"
      ]
    },
    {
      "cell_type": "code",
      "execution_count": 33,
      "metadata": {
        "id": "P1OHBKgu7kGL"
      },
      "outputs": [],
      "source": [
        "age_stroke = stroke_dataset.groupby('age', as_index=False)['stroke'].count()\n",
        "age_stroke['age'] = age_stroke['age'].astype('int64')"
      ]
    },
    {
      "cell_type": "code",
      "execution_count": 34,
      "metadata": {},
      "outputs": [
        {
          "data": {
            "text/html": [
              "<div>\n",
              "<style scoped>\n",
              "    .dataframe tbody tr th:only-of-type {\n",
              "        vertical-align: middle;\n",
              "    }\n",
              "\n",
              "    .dataframe tbody tr th {\n",
              "        vertical-align: top;\n",
              "    }\n",
              "\n",
              "    .dataframe thead th {\n",
              "        text-align: right;\n",
              "    }\n",
              "</style>\n",
              "<table border=\"1\" class=\"dataframe\">\n",
              "  <thead>\n",
              "    <tr style=\"text-align: right;\">\n",
              "      <th></th>\n",
              "      <th>age</th>\n",
              "      <th>stroke</th>\n",
              "    </tr>\n",
              "  </thead>\n",
              "  <tbody>\n",
              "    <tr>\n",
              "      <th>0</th>\n",
              "      <td>18</td>\n",
              "      <td>60</td>\n",
              "    </tr>\n",
              "    <tr>\n",
              "      <th>1</th>\n",
              "      <td>19</td>\n",
              "      <td>50</td>\n",
              "    </tr>\n",
              "    <tr>\n",
              "      <th>2</th>\n",
              "      <td>20</td>\n",
              "      <td>59</td>\n",
              "    </tr>\n",
              "    <tr>\n",
              "      <th>3</th>\n",
              "      <td>21</td>\n",
              "      <td>47</td>\n",
              "    </tr>\n",
              "    <tr>\n",
              "      <th>4</th>\n",
              "      <td>22</td>\n",
              "      <td>45</td>\n",
              "    </tr>\n",
              "    <tr>\n",
              "      <th>...</th>\n",
              "      <td>...</td>\n",
              "      <td>...</td>\n",
              "    </tr>\n",
              "    <tr>\n",
              "      <th>60</th>\n",
              "      <td>78</td>\n",
              "      <td>102</td>\n",
              "    </tr>\n",
              "    <tr>\n",
              "      <th>61</th>\n",
              "      <td>79</td>\n",
              "      <td>85</td>\n",
              "    </tr>\n",
              "    <tr>\n",
              "      <th>62</th>\n",
              "      <td>80</td>\n",
              "      <td>70</td>\n",
              "    </tr>\n",
              "    <tr>\n",
              "      <th>63</th>\n",
              "      <td>81</td>\n",
              "      <td>60</td>\n",
              "    </tr>\n",
              "    <tr>\n",
              "      <th>64</th>\n",
              "      <td>82</td>\n",
              "      <td>56</td>\n",
              "    </tr>\n",
              "  </tbody>\n",
              "</table>\n",
              "<p>65 rows × 2 columns</p>\n",
              "</div>"
            ],
            "text/plain": [
              "    age  stroke\n",
              "0    18      60\n",
              "1    19      50\n",
              "2    20      59\n",
              "3    21      47\n",
              "4    22      45\n",
              "..  ...     ...\n",
              "60   78     102\n",
              "61   79      85\n",
              "62   80      70\n",
              "63   81      60\n",
              "64   82      56\n",
              "\n",
              "[65 rows x 2 columns]"
            ]
          },
          "execution_count": 34,
          "metadata": {},
          "output_type": "execute_result"
        }
      ],
      "source": [
        "age_stroke"
      ]
    },
    {
      "cell_type": "code",
      "execution_count": 35,
      "metadata": {},
      "outputs": [
        {
          "data": {
            "text/plain": [
              "<AxesSubplot:xlabel='age', ylabel='count'>"
            ]
          },
          "execution_count": 35,
          "metadata": {},
          "output_type": "execute_result"
        },
        {
          "data": {
            "image/png": "[encoded data removed]",
            "text/plain": [
              "<Figure size 1440x720 with 1 Axes>"
            ]
          },
          "metadata": {
            "needs_background": "light"
          },
          "output_type": "display_data"
        }
      ],
      "source": [
        "plt.figure(figsize=(20, 10))\n",
        "sns.countplot(x='age', hue='stroke', data=stroke_dataset)"
      ]
    },
    {
      "cell_type": "markdown",
      "metadata": {},
      "source": [
        "Исхоя из анализа переменную **Возраст** можно сказать что большиство людей не имели инсульта с возраста **18**  до **40**. С **40** уже начинаеться случаться инсулть. Можно сделать вывод что перемнная **Возраст** имееть положительная корреляция с перенной **Инсульт**."
      ]
    },
    {
      "cell_type": "markdown",
      "metadata": {},
      "source": [
        "Var  Hypertension:\n",
        "\n",
        "    Гипертония - или повышенное кровяное давление — серьезное патологическое состояние, значительно повышающее риск развития заболеваний сердечно-сосудистой системы, головного мозга, почек и других болезней"
      ]
    },
    {
      "cell_type": "code",
      "execution_count": 36,
      "metadata": {},
      "outputs": [
        {
          "data": {
            "text/plain": [
              "count    4253.000000\n",
              "mean        0.116859\n",
              "std         0.321290\n",
              "min         0.000000\n",
              "25%         0.000000\n",
              "50%         0.000000\n",
              "75%         0.000000\n",
              "max         1.000000\n",
              "Name: hypertension, dtype: float64"
            ]
          },
          "execution_count": 36,
          "metadata": {},
          "output_type": "execute_result"
        }
      ],
      "source": [
        "stroke_dataset['hypertension'].describe(\n",
        "\n",
        "    \n",
        ")"
      ]
    },
    {
      "cell_type": "code",
      "execution_count": 37,
      "metadata": {},
      "outputs": [
        {
          "data": {
            "text/plain": [
              "<AxesSubplot:xlabel='hypertension', ylabel='count'>"
            ]
          },
          "execution_count": 37,
          "metadata": {},
          "output_type": "execute_result"
        },
        {
          "data": {
            "image/png": "[encoded data removed]",
            "text/plain": [
              "<Figure size 1080x576 with 1 Axes>"
            ]
          },
          "metadata": {
            "needs_background": "light"
          },
          "output_type": "display_data"
        }
      ],
      "source": [
        "plt.figure(figsize=(15, 8))\n",
        "sns.countplot(x='hypertension', data=stroke_dataset)"
      ]
    },
    {
      "cell_type": "code",
      "execution_count": 38,
      "metadata": {},
      "outputs": [
        {
          "data": {
            "text/plain": [
              "0    3756\n",
              "1     497\n",
              "Name: hypertension, dtype: int64"
            ]
          },
          "execution_count": 38,
          "metadata": {},
          "output_type": "execute_result"
        }
      ],
      "source": [
        "stroke_dataset.hypertension.value_counts()"
      ]
    },
    {
      "cell_type": "code",
      "execution_count": 39,
      "metadata": {},
      "outputs": [
        {
          "data": {
            "text/plain": [
              "<AxesSubplot:xlabel='hypertension', ylabel='count'>"
            ]
          },
          "execution_count": 39,
          "metadata": {},
          "output_type": "execute_result"
        },
        {
          "data": {
            "image/png": "[encoded data removed]",
            "text/plain": [
              "<Figure size 1080x576 with 1 Axes>"
            ]
          },
          "metadata": {
            "needs_background": "light"
          },
          "output_type": "display_data"
        }
      ],
      "source": [
        "plt.figure(figsize=(15, 8))\n",
        "sns.countplot(x='hypertension', hue='gender', data=stroke_dataset)"
      ]
    },
    {
      "cell_type": "code",
      "execution_count": 40,
      "metadata": {},
      "outputs": [
        {
          "data": {
            "text/plain": [
              "<AxesSubplot:xlabel='age', ylabel='count'>"
            ]
          },
          "execution_count": 40,
          "metadata": {},
          "output_type": "execute_result"
        },
        {
          "data": {
            "image/png": "[encoded data removed]",
            "text/plain": [
              "<Figure size 1440x720 with 1 Axes>"
            ]
          },
          "metadata": {
            "needs_background": "light"
          },
          "output_type": "display_data"
        }
      ],
      "source": [
        "plt.figure(figsize=(20, 10))\n",
        "sns.countplot(x='age', hue='hypertension', data=stroke_dataset)"
      ]
    },
    {
      "cell_type": "markdown",
      "metadata": {},
      "source": [
        "Var Heart_disease"
      ]
    },
    {
      "cell_type": "code",
      "execution_count": 41,
      "metadata": {},
      "outputs": [
        {
          "data": {
            "text/plain": [
              "<AxesSubplot:xlabel='heart_disease', ylabel='count'>"
            ]
          },
          "execution_count": 41,
          "metadata": {},
          "output_type": "execute_result"
        },
        {
          "data": {
            "image/png": "[encoded data removed]",
            "text/plain": [
              "<Figure size 1080x576 with 1 Axes>"
            ]
          },
          "metadata": {
            "needs_background": "light"
          },
          "output_type": "display_data"
        }
      ],
      "source": [
        "plt.figure(figsize=(15, 8))\n",
        "sns.countplot(x='heart_disease', data=stroke_dataset)"
      ]
    },
    {
      "cell_type": "code",
      "execution_count": 42,
      "metadata": {},
      "outputs": [
        {
          "data": {
            "text/plain": [
              "0    3978\n",
              "1     275\n",
              "Name: heart_disease, dtype: int64"
            ]
          },
          "execution_count": 42,
          "metadata": {},
          "output_type": "execute_result"
        }
      ],
      "source": [
        "stroke_dataset.heart_disease.value_counts()"
      ]
    },
    {
      "cell_type": "code",
      "execution_count": 43,
      "metadata": {},
      "outputs": [
        {
          "data": {
            "text/plain": [
              "<AxesSubplot:xlabel='heart_disease', ylabel='count'>"
            ]
          },
          "execution_count": 43,
          "metadata": {},
          "output_type": "execute_result"
        },
        {
          "data": {
            "image/png": "[encoded data removed]",
            "text/plain": [
              "<Figure size 1080x576 with 1 Axes>"
            ]
          },
          "metadata": {
            "needs_background": "light"
          },
          "output_type": "display_data"
        }
      ],
      "source": [
        "plt.figure(figsize=(15, 8))\n",
        "sns.countplot(x='heart_disease', hue='gender', data=stroke_dataset)"
      ]
    },
    {
      "cell_type": "code",
      "execution_count": 44,
      "metadata": {},
      "outputs": [
        {
          "data": {
            "text/plain": [
              "<AxesSubplot:xlabel='age', ylabel='count'>"
            ]
          },
          "execution_count": 44,
          "metadata": {},
          "output_type": "execute_result"
        },
        {
          "data": {
            "image/png": "[encoded data removed]",
            "text/plain": [
              "<Figure size 1440x720 with 1 Axes>"
            ]
          },
          "metadata": {
            "needs_background": "light"
          },
          "output_type": "display_data"
        }
      ],
      "source": [
        "plt.figure(figsize=(20, 10))\n",
        "sns.countplot(x='age', hue='heart_disease', data=stroke_dataset)"
      ]
    },
    {
      "cell_type": "markdown",
      "metadata": {},
      "source": [
        "Var Ever_Married"
      ]
    },
    {
      "cell_type": "code",
      "execution_count": 45,
      "metadata": {},
      "outputs": [
        {
          "data": {
            "text/plain": [
              "count     4253\n",
              "unique       2\n",
              "top        Yes\n",
              "freq      3353\n",
              "Name: ever_married, dtype: object"
            ]
          },
          "execution_count": 45,
          "metadata": {},
          "output_type": "execute_result"
        }
      ],
      "source": [
        "stroke_dataset.ever_married.describe()"
      ]
    },
    {
      "cell_type": "code",
      "execution_count": 47,
      "metadata": {},
      "outputs": [
        {
          "data": {
            "text/plain": [
              "Yes    3353\n",
              "No      900\n",
              "Name: ever_married, dtype: int64"
            ]
          },
          "execution_count": 47,
          "metadata": {},
          "output_type": "execute_result"
        }
      ],
      "source": [
        "stroke_dataset.ever_married.value_counts()"
      ]
    },
    {
      "cell_type": "code",
      "execution_count": 48,
      "metadata": {},
      "outputs": [
        {
          "data": {
            "text/plain": [
              "<AxesSubplot:xlabel='ever_married', ylabel='count'>"
            ]
          },
          "execution_count": 48,
          "metadata": {},
          "output_type": "execute_result"
        },
        {
          "data": {
            "image/png": "[encoded data removed]",
            "text/plain": [
              "<Figure size 1080x576 with 1 Axes>"
            ]
          },
          "metadata": {
            "needs_background": "light"
          },
          "output_type": "display_data"
        }
      ],
      "source": [
        "plt.figure(figsize=(15, 8))\n",
        "sns.countplot(x='ever_married', data=stroke_dataset)"
      ]
    },
    {
      "cell_type": "code",
      "execution_count": 49,
      "metadata": {},
      "outputs": [
        {
          "data": {
            "text/plain": [
              "<AxesSubplot:xlabel='ever_married', ylabel='count'>"
            ]
          },
          "execution_count": 49,
          "metadata": {},
          "output_type": "execute_result"
        },
        {
          "data": {
            "image/png": "[encoded data removed]",
            "text/plain": [
              "<Figure size 1080x576 with 1 Axes>"
            ]
          },
          "metadata": {
            "needs_background": "light"
          },
          "output_type": "display_data"
        }
      ],
      "source": [
        "plt.figure(figsize=(15, 8))\n",
        "sns.countplot(x='ever_married',hue='gender', data=stroke_dataset)"
      ]
    },
    {
      "cell_type": "code",
      "execution_count": 50,
      "metadata": {},
      "outputs": [
        {
          "data": {
            "text/plain": [
              "<AxesSubplot:xlabel='age', ylabel='count'>"
            ]
          },
          "execution_count": 50,
          "metadata": {},
          "output_type": "execute_result"
        },
        {
          "data": {
            "image/png": "[encoded data removed]",
            "text/plain": [
              "<Figure size 1440x720 with 1 Axes>"
            ]
          },
          "metadata": {
            "needs_background": "light"
          },
          "output_type": "display_data"
        }
      ],
      "source": [
        "plt.figure(figsize=(20, 10))\n",
        "sns.countplot(x='age', hue='ever_married', data=stroke_dataset)"
      ]
    },
    {
      "cell_type": "code",
      "execution_count": 51,
      "metadata": {},
      "outputs": [
        {
          "data": {
            "text/plain": [
              "<AxesSubplot:xlabel='ever_married', ylabel='count'>"
            ]
          },
          "execution_count": 51,
          "metadata": {},
          "output_type": "execute_result"
        },
        {
          "data": {
            "image/png": "[encoded data removed]",
            "text/plain": [
              "<Figure size 1080x576 with 1 Axes>"
            ]
          },
          "metadata": {
            "needs_background": "light"
          },
          "output_type": "display_data"
        }
      ],
      "source": [
        "plt.figure(figsize=(15, 8))\n",
        "sns.countplot(x='ever_married',hue='hypertension', data=stroke_dataset)"
      ]
    },
    {
      "cell_type": "code",
      "execution_count": 52,
      "metadata": {},
      "outputs": [
        {
          "data": {
            "text/plain": [
              "<AxesSubplot:xlabel='ever_married', ylabel='count'>"
            ]
          },
          "execution_count": 52,
          "metadata": {},
          "output_type": "execute_result"
        },
        {
          "data": {
            "image/png": "[encoded data removed]",
            "text/plain": [
              "<Figure size 1080x576 with 1 Axes>"
            ]
          },
          "metadata": {
            "needs_background": "light"
          },
          "output_type": "display_data"
        }
      ],
      "source": [
        "plt.figure(figsize=(15, 8))\n",
        "sns.countplot(x='ever_married',hue='heart_disease', data=stroke_dataset)"
      ]
    },
    {
      "cell_type": "code",
      "execution_count": 53,
      "metadata": {},
      "outputs": [
        {
          "data": {
            "text/html": [
              "<div>\n",
              "<style scoped>\n",
              "    .dataframe tbody tr th:only-of-type {\n",
              "        vertical-align: middle;\n",
              "    }\n",
              "\n",
              "    .dataframe tbody tr th {\n",
              "        vertical-align: top;\n",
              "    }\n",
              "\n",
              "    .dataframe thead th {\n",
              "        text-align: right;\n",
              "    }\n",
              "</style>\n",
              "<table border=\"1\" class=\"dataframe\">\n",
              "  <thead>\n",
              "    <tr style=\"text-align: right;\">\n",
              "      <th></th>\n",
              "      <th>gender</th>\n",
              "      <th>age</th>\n",
              "      <th>hypertension</th>\n",
              "      <th>heart_disease</th>\n",
              "      <th>ever_married</th>\n",
              "      <th>work_type</th>\n",
              "      <th>Residence_type</th>\n",
              "      <th>avg_glucose_level</th>\n",
              "      <th>bmi</th>\n",
              "      <th>smoking_status</th>\n",
              "      <th>stroke</th>\n",
              "    </tr>\n",
              "  </thead>\n",
              "  <tbody>\n",
              "    <tr>\n",
              "      <th>0</th>\n",
              "      <td>Male</td>\n",
              "      <td>67.0</td>\n",
              "      <td>0</td>\n",
              "      <td>1</td>\n",
              "      <td>Yes</td>\n",
              "      <td>Private</td>\n",
              "      <td>Urban</td>\n",
              "      <td>228.69</td>\n",
              "      <td>36.6</td>\n",
              "      <td>formerly smoked</td>\n",
              "      <td>1</td>\n",
              "    </tr>\n",
              "    <tr>\n",
              "      <th>1</th>\n",
              "      <td>Female</td>\n",
              "      <td>61.0</td>\n",
              "      <td>0</td>\n",
              "      <td>0</td>\n",
              "      <td>Yes</td>\n",
              "      <td>Self-employed</td>\n",
              "      <td>Rural</td>\n",
              "      <td>202.21</td>\n",
              "      <td>NaN</td>\n",
              "      <td>never smoked</td>\n",
              "      <td>1</td>\n",
              "    </tr>\n",
              "    <tr>\n",
              "      <th>2</th>\n",
              "      <td>Male</td>\n",
              "      <td>80.0</td>\n",
              "      <td>0</td>\n",
              "      <td>1</td>\n",
              "      <td>Yes</td>\n",
              "      <td>Private</td>\n",
              "      <td>Rural</td>\n",
              "      <td>105.92</td>\n",
              "      <td>32.5</td>\n",
              "      <td>never smoked</td>\n",
              "      <td>1</td>\n",
              "    </tr>\n",
              "    <tr>\n",
              "      <th>3</th>\n",
              "      <td>Female</td>\n",
              "      <td>49.0</td>\n",
              "      <td>0</td>\n",
              "      <td>0</td>\n",
              "      <td>Yes</td>\n",
              "      <td>Private</td>\n",
              "      <td>Urban</td>\n",
              "      <td>171.23</td>\n",
              "      <td>34.4</td>\n",
              "      <td>smokes</td>\n",
              "      <td>1</td>\n",
              "    </tr>\n",
              "    <tr>\n",
              "      <th>4</th>\n",
              "      <td>Female</td>\n",
              "      <td>79.0</td>\n",
              "      <td>1</td>\n",
              "      <td>0</td>\n",
              "      <td>Yes</td>\n",
              "      <td>Self-employed</td>\n",
              "      <td>Rural</td>\n",
              "      <td>174.12</td>\n",
              "      <td>24.0</td>\n",
              "      <td>never smoked</td>\n",
              "      <td>1</td>\n",
              "    </tr>\n",
              "    <tr>\n",
              "      <th>...</th>\n",
              "      <td>...</td>\n",
              "      <td>...</td>\n",
              "      <td>...</td>\n",
              "      <td>...</td>\n",
              "      <td>...</td>\n",
              "      <td>...</td>\n",
              "      <td>...</td>\n",
              "      <td>...</td>\n",
              "      <td>...</td>\n",
              "      <td>...</td>\n",
              "      <td>...</td>\n",
              "    </tr>\n",
              "    <tr>\n",
              "      <th>5105</th>\n",
              "      <td>Female</td>\n",
              "      <td>80.0</td>\n",
              "      <td>1</td>\n",
              "      <td>0</td>\n",
              "      <td>Yes</td>\n",
              "      <td>Private</td>\n",
              "      <td>Urban</td>\n",
              "      <td>83.75</td>\n",
              "      <td>NaN</td>\n",
              "      <td>never smoked</td>\n",
              "      <td>0</td>\n",
              "    </tr>\n",
              "    <tr>\n",
              "      <th>5106</th>\n",
              "      <td>Female</td>\n",
              "      <td>81.0</td>\n",
              "      <td>0</td>\n",
              "      <td>0</td>\n",
              "      <td>Yes</td>\n",
              "      <td>Self-employed</td>\n",
              "      <td>Urban</td>\n",
              "      <td>125.20</td>\n",
              "      <td>40.0</td>\n",
              "      <td>never smoked</td>\n",
              "      <td>0</td>\n",
              "    </tr>\n",
              "    <tr>\n",
              "      <th>5107</th>\n",
              "      <td>Female</td>\n",
              "      <td>35.0</td>\n",
              "      <td>0</td>\n",
              "      <td>0</td>\n",
              "      <td>Yes</td>\n",
              "      <td>Self-employed</td>\n",
              "      <td>Rural</td>\n",
              "      <td>82.99</td>\n",
              "      <td>30.6</td>\n",
              "      <td>never smoked</td>\n",
              "      <td>0</td>\n",
              "    </tr>\n",
              "    <tr>\n",
              "      <th>5108</th>\n",
              "      <td>Male</td>\n",
              "      <td>51.0</td>\n",
              "      <td>0</td>\n",
              "      <td>0</td>\n",
              "      <td>Yes</td>\n",
              "      <td>Private</td>\n",
              "      <td>Rural</td>\n",
              "      <td>166.29</td>\n",
              "      <td>25.6</td>\n",
              "      <td>formerly smoked</td>\n",
              "      <td>0</td>\n",
              "    </tr>\n",
              "    <tr>\n",
              "      <th>5109</th>\n",
              "      <td>Female</td>\n",
              "      <td>44.0</td>\n",
              "      <td>0</td>\n",
              "      <td>0</td>\n",
              "      <td>Yes</td>\n",
              "      <td>Govt_job</td>\n",
              "      <td>Urban</td>\n",
              "      <td>85.28</td>\n",
              "      <td>26.2</td>\n",
              "      <td>Unknown</td>\n",
              "      <td>0</td>\n",
              "    </tr>\n",
              "  </tbody>\n",
              "</table>\n",
              "<p>4253 rows × 11 columns</p>\n",
              "</div>"
            ],
            "text/plain": [
              "      gender   age  hypertension  heart_disease ever_married      work_type  \\\n",
              "0       Male  67.0             0              1          Yes        Private   \n",
              "1     Female  61.0             0              0          Yes  Self-employed   \n",
              "2       Male  80.0             0              1          Yes        Private   \n",
              "3     Female  49.0             0              0          Yes        Private   \n",
              "4     Female  79.0             1              0          Yes  Self-employed   \n",
              "...      ...   ...           ...            ...          ...            ...   \n",
              "5105  Female  80.0             1              0          Yes        Private   \n",
              "5106  Female  81.0             0              0          Yes  Self-employed   \n",
              "5107  Female  35.0             0              0          Yes  Self-employed   \n",
              "5108    Male  51.0             0              0          Yes        Private   \n",
              "5109  Female  44.0             0              0          Yes       Govt_job   \n",
              "\n",
              "     Residence_type  avg_glucose_level   bmi   smoking_status  stroke  \n",
              "0             Urban             228.69  36.6  formerly smoked       1  \n",
              "1             Rural             202.21   NaN     never smoked       1  \n",
              "2             Rural             105.92  32.5     never smoked       1  \n",
              "3             Urban             171.23  34.4           smokes       1  \n",
              "4             Rural             174.12  24.0     never smoked       1  \n",
              "...             ...                ...   ...              ...     ...  \n",
              "5105          Urban              83.75   NaN     never smoked       0  \n",
              "5106          Urban             125.20  40.0     never smoked       0  \n",
              "5107          Rural              82.99  30.6     never smoked       0  \n",
              "5108          Rural             166.29  25.6  formerly smoked       0  \n",
              "5109          Urban              85.28  26.2          Unknown       0  \n",
              "\n",
              "[4253 rows x 11 columns]"
            ]
          },
          "execution_count": 53,
          "metadata": {},
          "output_type": "execute_result"
        }
      ],
      "source": [
        "stroke_dataset"
      ]
    },
    {
      "cell_type": "markdown",
      "metadata": {},
      "source": [
        "Data preproc"
      ]
    },
    {
      "cell_type": "code",
      "execution_count": 54,
      "metadata": {},
      "outputs": [],
      "source": [
        "stroke_dataset['age']= stroke_dataset['age'].astype('int64')"
      ]
    },
    {
      "cell_type": "code",
      "execution_count": 55,
      "metadata": {},
      "outputs": [
        {
          "data": {
            "text/html": [
              "<div>\n",
              "<style scoped>\n",
              "    .dataframe tbody tr th:only-of-type {\n",
              "        vertical-align: middle;\n",
              "    }\n",
              "\n",
              "    .dataframe tbody tr th {\n",
              "        vertical-align: top;\n",
              "    }\n",
              "\n",
              "    .dataframe thead th {\n",
              "        text-align: right;\n",
              "    }\n",
              "</style>\n",
              "<table border=\"1\" class=\"dataframe\">\n",
              "  <thead>\n",
              "    <tr style=\"text-align: right;\">\n",
              "      <th></th>\n",
              "      <th>gender</th>\n",
              "      <th>age</th>\n",
              "      <th>hypertension</th>\n",
              "      <th>heart_disease</th>\n",
              "      <th>ever_married</th>\n",
              "      <th>work_type</th>\n",
              "      <th>Residence_type</th>\n",
              "      <th>avg_glucose_level</th>\n",
              "      <th>bmi</th>\n",
              "      <th>smoking_status</th>\n",
              "      <th>stroke</th>\n",
              "    </tr>\n",
              "  </thead>\n",
              "  <tbody>\n",
              "    <tr>\n",
              "      <th>0</th>\n",
              "      <td>Male</td>\n",
              "      <td>67</td>\n",
              "      <td>0</td>\n",
              "      <td>1</td>\n",
              "      <td>Yes</td>\n",
              "      <td>Private</td>\n",
              "      <td>Urban</td>\n",
              "      <td>228.69</td>\n",
              "      <td>36.6</td>\n",
              "      <td>formerly smoked</td>\n",
              "      <td>1</td>\n",
              "    </tr>\n",
              "    <tr>\n",
              "      <th>1</th>\n",
              "      <td>Female</td>\n",
              "      <td>61</td>\n",
              "      <td>0</td>\n",
              "      <td>0</td>\n",
              "      <td>Yes</td>\n",
              "      <td>Self-employed</td>\n",
              "      <td>Rural</td>\n",
              "      <td>202.21</td>\n",
              "      <td>NaN</td>\n",
              "      <td>never smoked</td>\n",
              "      <td>1</td>\n",
              "    </tr>\n",
              "    <tr>\n",
              "      <th>2</th>\n",
              "      <td>Male</td>\n",
              "      <td>80</td>\n",
              "      <td>0</td>\n",
              "      <td>1</td>\n",
              "      <td>Yes</td>\n",
              "      <td>Private</td>\n",
              "      <td>Rural</td>\n",
              "      <td>105.92</td>\n",
              "      <td>32.5</td>\n",
              "      <td>never smoked</td>\n",
              "      <td>1</td>\n",
              "    </tr>\n",
              "    <tr>\n",
              "      <th>3</th>\n",
              "      <td>Female</td>\n",
              "      <td>49</td>\n",
              "      <td>0</td>\n",
              "      <td>0</td>\n",
              "      <td>Yes</td>\n",
              "      <td>Private</td>\n",
              "      <td>Urban</td>\n",
              "      <td>171.23</td>\n",
              "      <td>34.4</td>\n",
              "      <td>smokes</td>\n",
              "      <td>1</td>\n",
              "    </tr>\n",
              "    <tr>\n",
              "      <th>4</th>\n",
              "      <td>Female</td>\n",
              "      <td>79</td>\n",
              "      <td>1</td>\n",
              "      <td>0</td>\n",
              "      <td>Yes</td>\n",
              "      <td>Self-employed</td>\n",
              "      <td>Rural</td>\n",
              "      <td>174.12</td>\n",
              "      <td>24.0</td>\n",
              "      <td>never smoked</td>\n",
              "      <td>1</td>\n",
              "    </tr>\n",
              "    <tr>\n",
              "      <th>...</th>\n",
              "      <td>...</td>\n",
              "      <td>...</td>\n",
              "      <td>...</td>\n",
              "      <td>...</td>\n",
              "      <td>...</td>\n",
              "      <td>...</td>\n",
              "      <td>...</td>\n",
              "      <td>...</td>\n",
              "      <td>...</td>\n",
              "      <td>...</td>\n",
              "      <td>...</td>\n",
              "    </tr>\n",
              "    <tr>\n",
              "      <th>5105</th>\n",
              "      <td>Female</td>\n",
              "      <td>80</td>\n",
              "      <td>1</td>\n",
              "      <td>0</td>\n",
              "      <td>Yes</td>\n",
              "      <td>Private</td>\n",
              "      <td>Urban</td>\n",
              "      <td>83.75</td>\n",
              "      <td>NaN</td>\n",
              "      <td>never smoked</td>\n",
              "      <td>0</td>\n",
              "    </tr>\n",
              "    <tr>\n",
              "      <th>5106</th>\n",
              "      <td>Female</td>\n",
              "      <td>81</td>\n",
              "      <td>0</td>\n",
              "      <td>0</td>\n",
              "      <td>Yes</td>\n",
              "      <td>Self-employed</td>\n",
              "      <td>Urban</td>\n",
              "      <td>125.20</td>\n",
              "      <td>40.0</td>\n",
              "      <td>never smoked</td>\n",
              "      <td>0</td>\n",
              "    </tr>\n",
              "    <tr>\n",
              "      <th>5107</th>\n",
              "      <td>Female</td>\n",
              "      <td>35</td>\n",
              "      <td>0</td>\n",
              "      <td>0</td>\n",
              "      <td>Yes</td>\n",
              "      <td>Self-employed</td>\n",
              "      <td>Rural</td>\n",
              "      <td>82.99</td>\n",
              "      <td>30.6</td>\n",
              "      <td>never smoked</td>\n",
              "      <td>0</td>\n",
              "    </tr>\n",
              "    <tr>\n",
              "      <th>5108</th>\n",
              "      <td>Male</td>\n",
              "      <td>51</td>\n",
              "      <td>0</td>\n",
              "      <td>0</td>\n",
              "      <td>Yes</td>\n",
              "      <td>Private</td>\n",
              "      <td>Rural</td>\n",
              "      <td>166.29</td>\n",
              "      <td>25.6</td>\n",
              "      <td>formerly smoked</td>\n",
              "      <td>0</td>\n",
              "    </tr>\n",
              "    <tr>\n",
              "      <th>5109</th>\n",
              "      <td>Female</td>\n",
              "      <td>44</td>\n",
              "      <td>0</td>\n",
              "      <td>0</td>\n",
              "      <td>Yes</td>\n",
              "      <td>Govt_job</td>\n",
              "      <td>Urban</td>\n",
              "      <td>85.28</td>\n",
              "      <td>26.2</td>\n",
              "      <td>Unknown</td>\n",
              "      <td>0</td>\n",
              "    </tr>\n",
              "  </tbody>\n",
              "</table>\n",
              "<p>4253 rows × 11 columns</p>\n",
              "</div>"
            ],
            "text/plain": [
              "      gender  age  hypertension  heart_disease ever_married      work_type  \\\n",
              "0       Male   67             0              1          Yes        Private   \n",
              "1     Female   61             0              0          Yes  Self-employed   \n",
              "2       Male   80             0              1          Yes        Private   \n",
              "3     Female   49             0              0          Yes        Private   \n",
              "4     Female   79             1              0          Yes  Self-employed   \n",
              "...      ...  ...           ...            ...          ...            ...   \n",
              "5105  Female   80             1              0          Yes        Private   \n",
              "5106  Female   81             0              0          Yes  Self-employed   \n",
              "5107  Female   35             0              0          Yes  Self-employed   \n",
              "5108    Male   51             0              0          Yes        Private   \n",
              "5109  Female   44             0              0          Yes       Govt_job   \n",
              "\n",
              "     Residence_type  avg_glucose_level   bmi   smoking_status  stroke  \n",
              "0             Urban             228.69  36.6  formerly smoked       1  \n",
              "1             Rural             202.21   NaN     never smoked       1  \n",
              "2             Rural             105.92  32.5     never smoked       1  \n",
              "3             Urban             171.23  34.4           smokes       1  \n",
              "4             Rural             174.12  24.0     never smoked       1  \n",
              "...             ...                ...   ...              ...     ...  \n",
              "5105          Urban              83.75   NaN     never smoked       0  \n",
              "5106          Urban             125.20  40.0     never smoked       0  \n",
              "5107          Rural              82.99  30.6     never smoked       0  \n",
              "5108          Rural             166.29  25.6  formerly smoked       0  \n",
              "5109          Urban              85.28  26.2          Unknown       0  \n",
              "\n",
              "[4253 rows x 11 columns]"
            ]
          },
          "execution_count": 55,
          "metadata": {},
          "output_type": "execute_result"
        }
      ],
      "source": [
        "stroke_dataset"
      ]
    },
    {
      "cell_type": "code",
      "execution_count": 56,
      "metadata": {},
      "outputs": [
        {
          "data": {
            "text/plain": [
              "gender                 0\n",
              "age                    0\n",
              "hypertension           0\n",
              "heart_disease          0\n",
              "ever_married           0\n",
              "work_type              0\n",
              "Residence_type         0\n",
              "avg_glucose_level      0\n",
              "bmi                  181\n",
              "smoking_status         0\n",
              "stroke                 0\n",
              "dtype: int64"
            ]
          },
          "execution_count": 56,
          "metadata": {},
          "output_type": "execute_result"
        }
      ],
      "source": [
        "stroke_dataset.isnull().sum()"
      ]
    },
    {
      "cell_type": "code",
      "execution_count": 57,
      "metadata": {},
      "outputs": [],
      "source": [
        "stroke_dataset.dropna(axis=0, inplace=True)"
      ]
    },
    {
      "cell_type": "code",
      "execution_count": 58,
      "metadata": {},
      "outputs": [
        {
          "data": {
            "text/html": [
              "<div>\n",
              "<style scoped>\n",
              "    .dataframe tbody tr th:only-of-type {\n",
              "        vertical-align: middle;\n",
              "    }\n",
              "\n",
              "    .dataframe tbody tr th {\n",
              "        vertical-align: top;\n",
              "    }\n",
              "\n",
              "    .dataframe thead th {\n",
              "        text-align: right;\n",
              "    }\n",
              "</style>\n",
              "<table border=\"1\" class=\"dataframe\">\n",
              "  <thead>\n",
              "    <tr style=\"text-align: right;\">\n",
              "      <th></th>\n",
              "      <th>gender</th>\n",
              "      <th>age</th>\n",
              "      <th>hypertension</th>\n",
              "      <th>heart_disease</th>\n",
              "      <th>ever_married</th>\n",
              "      <th>work_type</th>\n",
              "      <th>Residence_type</th>\n",
              "      <th>avg_glucose_level</th>\n",
              "      <th>bmi</th>\n",
              "      <th>smoking_status</th>\n",
              "      <th>stroke</th>\n",
              "    </tr>\n",
              "  </thead>\n",
              "  <tbody>\n",
              "    <tr>\n",
              "      <th>0</th>\n",
              "      <td>Male</td>\n",
              "      <td>67</td>\n",
              "      <td>0</td>\n",
              "      <td>1</td>\n",
              "      <td>Yes</td>\n",
              "      <td>Private</td>\n",
              "      <td>Urban</td>\n",
              "      <td>228.69</td>\n",
              "      <td>36.6</td>\n",
              "      <td>formerly smoked</td>\n",
              "      <td>1</td>\n",
              "    </tr>\n",
              "    <tr>\n",
              "      <th>2</th>\n",
              "      <td>Male</td>\n",
              "      <td>80</td>\n",
              "      <td>0</td>\n",
              "      <td>1</td>\n",
              "      <td>Yes</td>\n",
              "      <td>Private</td>\n",
              "      <td>Rural</td>\n",
              "      <td>105.92</td>\n",
              "      <td>32.5</td>\n",
              "      <td>never smoked</td>\n",
              "      <td>1</td>\n",
              "    </tr>\n",
              "    <tr>\n",
              "      <th>3</th>\n",
              "      <td>Female</td>\n",
              "      <td>49</td>\n",
              "      <td>0</td>\n",
              "      <td>0</td>\n",
              "      <td>Yes</td>\n",
              "      <td>Private</td>\n",
              "      <td>Urban</td>\n",
              "      <td>171.23</td>\n",
              "      <td>34.4</td>\n",
              "      <td>smokes</td>\n",
              "      <td>1</td>\n",
              "    </tr>\n",
              "    <tr>\n",
              "      <th>4</th>\n",
              "      <td>Female</td>\n",
              "      <td>79</td>\n",
              "      <td>1</td>\n",
              "      <td>0</td>\n",
              "      <td>Yes</td>\n",
              "      <td>Self-employed</td>\n",
              "      <td>Rural</td>\n",
              "      <td>174.12</td>\n",
              "      <td>24.0</td>\n",
              "      <td>never smoked</td>\n",
              "      <td>1</td>\n",
              "    </tr>\n",
              "    <tr>\n",
              "      <th>5</th>\n",
              "      <td>Male</td>\n",
              "      <td>81</td>\n",
              "      <td>0</td>\n",
              "      <td>0</td>\n",
              "      <td>Yes</td>\n",
              "      <td>Private</td>\n",
              "      <td>Urban</td>\n",
              "      <td>186.21</td>\n",
              "      <td>29.0</td>\n",
              "      <td>formerly smoked</td>\n",
              "      <td>1</td>\n",
              "    </tr>\n",
              "    <tr>\n",
              "      <th>...</th>\n",
              "      <td>...</td>\n",
              "      <td>...</td>\n",
              "      <td>...</td>\n",
              "      <td>...</td>\n",
              "      <td>...</td>\n",
              "      <td>...</td>\n",
              "      <td>...</td>\n",
              "      <td>...</td>\n",
              "      <td>...</td>\n",
              "      <td>...</td>\n",
              "      <td>...</td>\n",
              "    </tr>\n",
              "    <tr>\n",
              "      <th>5103</th>\n",
              "      <td>Female</td>\n",
              "      <td>18</td>\n",
              "      <td>0</td>\n",
              "      <td>0</td>\n",
              "      <td>No</td>\n",
              "      <td>Private</td>\n",
              "      <td>Urban</td>\n",
              "      <td>82.85</td>\n",
              "      <td>46.9</td>\n",
              "      <td>Unknown</td>\n",
              "      <td>0</td>\n",
              "    </tr>\n",
              "    <tr>\n",
              "      <th>5106</th>\n",
              "      <td>Female</td>\n",
              "      <td>81</td>\n",
              "      <td>0</td>\n",
              "      <td>0</td>\n",
              "      <td>Yes</td>\n",
              "      <td>Self-employed</td>\n",
              "      <td>Urban</td>\n",
              "      <td>125.20</td>\n",
              "      <td>40.0</td>\n",
              "      <td>never smoked</td>\n",
              "      <td>0</td>\n",
              "    </tr>\n",
              "    <tr>\n",
              "      <th>5107</th>\n",
              "      <td>Female</td>\n",
              "      <td>35</td>\n",
              "      <td>0</td>\n",
              "      <td>0</td>\n",
              "      <td>Yes</td>\n",
              "      <td>Self-employed</td>\n",
              "      <td>Rural</td>\n",
              "      <td>82.99</td>\n",
              "      <td>30.6</td>\n",
              "      <td>never smoked</td>\n",
              "      <td>0</td>\n",
              "    </tr>\n",
              "    <tr>\n",
              "      <th>5108</th>\n",
              "      <td>Male</td>\n",
              "      <td>51</td>\n",
              "      <td>0</td>\n",
              "      <td>0</td>\n",
              "      <td>Yes</td>\n",
              "      <td>Private</td>\n",
              "      <td>Rural</td>\n",
              "      <td>166.29</td>\n",
              "      <td>25.6</td>\n",
              "      <td>formerly smoked</td>\n",
              "      <td>0</td>\n",
              "    </tr>\n",
              "    <tr>\n",
              "      <th>5109</th>\n",
              "      <td>Female</td>\n",
              "      <td>44</td>\n",
              "      <td>0</td>\n",
              "      <td>0</td>\n",
              "      <td>Yes</td>\n",
              "      <td>Govt_job</td>\n",
              "      <td>Urban</td>\n",
              "      <td>85.28</td>\n",
              "      <td>26.2</td>\n",
              "      <td>Unknown</td>\n",
              "      <td>0</td>\n",
              "    </tr>\n",
              "  </tbody>\n",
              "</table>\n",
              "<p>4072 rows × 11 columns</p>\n",
              "</div>"
            ],
            "text/plain": [
              "      gender  age  hypertension  heart_disease ever_married      work_type  \\\n",
              "0       Male   67             0              1          Yes        Private   \n",
              "2       Male   80             0              1          Yes        Private   \n",
              "3     Female   49             0              0          Yes        Private   \n",
              "4     Female   79             1              0          Yes  Self-employed   \n",
              "5       Male   81             0              0          Yes        Private   \n",
              "...      ...  ...           ...            ...          ...            ...   \n",
              "5103  Female   18             0              0           No        Private   \n",
              "5106  Female   81             0              0          Yes  Self-employed   \n",
              "5107  Female   35             0              0          Yes  Self-employed   \n",
              "5108    Male   51             0              0          Yes        Private   \n",
              "5109  Female   44             0              0          Yes       Govt_job   \n",
              "\n",
              "     Residence_type  avg_glucose_level   bmi   smoking_status  stroke  \n",
              "0             Urban             228.69  36.6  formerly smoked       1  \n",
              "2             Rural             105.92  32.5     never smoked       1  \n",
              "3             Urban             171.23  34.4           smokes       1  \n",
              "4             Rural             174.12  24.0     never smoked       1  \n",
              "5             Urban             186.21  29.0  formerly smoked       1  \n",
              "...             ...                ...   ...              ...     ...  \n",
              "5103          Urban              82.85  46.9          Unknown       0  \n",
              "5106          Urban             125.20  40.0     never smoked       0  \n",
              "5107          Rural              82.99  30.6     never smoked       0  \n",
              "5108          Rural             166.29  25.6  formerly smoked       0  \n",
              "5109          Urban              85.28  26.2          Unknown       0  \n",
              "\n",
              "[4072 rows x 11 columns]"
            ]
          },
          "execution_count": 58,
          "metadata": {},
          "output_type": "execute_result"
        }
      ],
      "source": [
        "stroke_dataset"
      ]
    },
    {
      "cell_type": "code",
      "execution_count": 59,
      "metadata": {},
      "outputs": [],
      "source": [
        "stroke_dataset.reset_index(drop=True, inplace=True)"
      ]
    },
    {
      "cell_type": "code",
      "execution_count": null,
      "metadata": {},
      "outputs": [],
      "source": []
    },
    {
      "cell_type": "markdown",
      "metadata": {},
      "source": [
        "WorkType"
      ]
    },
    {
      "cell_type": "code",
      "execution_count": 61,
      "metadata": {},
      "outputs": [
        {
          "data": {
            "text/plain": [
              "count        4072\n",
              "unique          4\n",
              "top       Private\n",
              "freq         2680\n",
              "Name: work_type, dtype: object"
            ]
          },
          "execution_count": 61,
          "metadata": {},
          "output_type": "execute_result"
        }
      ],
      "source": [
        "stroke_dataset['work_type'].describe()"
      ]
    },
    {
      "cell_type": "code",
      "execution_count": 70,
      "metadata": {},
      "outputs": [
        {
          "data": {
            "text/plain": [
              "Private          2680\n",
              "Self-employed     763\n",
              "Govt_job          624\n",
              "Never_worked        5\n",
              "Name: work_type, dtype: int64"
            ]
          },
          "execution_count": 70,
          "metadata": {},
          "output_type": "execute_result"
        }
      ],
      "source": [
        "stroke_dataset.work_type.value_counts()"
      ]
    },
    {
      "cell_type": "code",
      "execution_count": 87,
      "metadata": {},
      "outputs": [
        {
          "data": {
            "text/plain": [
              "<AxesSubplot:xlabel='work_type', ylabel='count'>"
            ]
          },
          "execution_count": 87,
          "metadata": {},
          "output_type": "execute_result"
        },
        {
          "data": {
            "image/png": "[encoded data removed]",
            "text/plain": [
              "<Figure size 432x288 with 1 Axes>"
            ]
          },
          "metadata": {
            "needs_background": "light"
          },
          "output_type": "display_data"
        }
      ],
      "source": [
        "sns.countplot(x='work_type',hue='stroke', data=stroke_dataset)"
      ]
    },
    {
      "cell_type": "code",
      "execution_count": 98,
      "metadata": {},
      "outputs": [
        {
          "data": {
            "text/plain": [
              "<AxesSubplot:xlabel='work_type', ylabel='count'>"
            ]
          },
          "execution_count": 98,
          "metadata": {},
          "output_type": "execute_result"
        },
        {
          "data": {
            "image/png": "[encoded data removed]",
            "text/plain": [
              "<Figure size 432x288 with 1 Axes>"
            ]
          },
          "metadata": {
            "needs_background": "light"
          },
          "output_type": "display_data"
        }
      ],
      "source": [
        "sns.countplot(x='work_type',hue='heart_disease', data=stroke_dataset)"
      ]
    },
    {
      "cell_type": "code",
      "execution_count": 66,
      "metadata": {},
      "outputs": [
        {
          "data": {
            "text/plain": [
              "work_type      stroke\n",
              "Govt_job       0          596\n",
              "               1           28\n",
              "Never_worked   0            5\n",
              "Private        0         2553\n",
              "               1          127\n",
              "Self-employed  0          710\n",
              "               1           53\n",
              "Name: stroke, dtype: int64"
            ]
          },
          "execution_count": 66,
          "metadata": {},
          "output_type": "execute_result"
        }
      ],
      "source": [
        "stroke_dataset.groupby(['work_type', 'stroke'])['stroke'].count()"
      ]
    },
    {
      "cell_type": "markdown",
      "metadata": {},
      "source": [
        "У нас в данных больше людей который у них тип работы Private - 2680, Self-employed - 763, Govt_job - 624,  Never_worked - 5.\n",
        "По визуализации видно что больше всего у тех кто работают Private у них случаеться инсульт."
      ]
    },
    {
      "cell_type": "markdown",
      "metadata": {},
      "source": [
        "Residence_type"
      ]
    },
    {
      "cell_type": "code",
      "execution_count": 90,
      "metadata": {},
      "outputs": [
        {
          "data": {
            "text/plain": [
              "count      4072\n",
              "unique        2\n",
              "top       Urban\n",
              "freq       2074\n",
              "Name: Residence_type, dtype: object"
            ]
          },
          "execution_count": 90,
          "metadata": {},
          "output_type": "execute_result"
        }
      ],
      "source": [
        "stroke_dataset.Residence_type.describe()"
      ]
    },
    {
      "cell_type": "code",
      "execution_count": 91,
      "metadata": {},
      "outputs": [
        {
          "data": {
            "text/plain": [
              "Urban    2074\n",
              "Rural    1998\n",
              "Name: Residence_type, dtype: int64"
            ]
          },
          "execution_count": 91,
          "metadata": {},
          "output_type": "execute_result"
        }
      ],
      "source": [
        "stroke_dataset.Residence_type.value_counts()"
      ]
    },
    {
      "cell_type": "markdown",
      "metadata": {},
      "source": [
        "Rural - Сельские\n",
        "\n",
        "Urban - Городской\n",
        "\n",
        "У нас в базе почти одинаковое количество людей живуших в городе и в селе."
      ]
    },
    {
      "cell_type": "code",
      "execution_count": 95,
      "metadata": {},
      "outputs": [
        {
          "data": {
            "text/plain": [
              "Residence_type  stroke\n",
              "Rural           0         1899\n",
              "                1           99\n",
              "Urban           0         1965\n",
              "                1          109\n",
              "Name: stroke, dtype: int64"
            ]
          },
          "execution_count": 95,
          "metadata": {},
          "output_type": "execute_result"
        }
      ],
      "source": [
        "stroke_dataset.groupby(['Residence_type', 'stroke'])['stroke'].count()"
      ]
    },
    {
      "cell_type": "code",
      "execution_count": 94,
      "metadata": {},
      "outputs": [
        {
          "data": {
            "application/vnd.plotly.v1+json": {
              "config": {
                "plotlyServerURL": "https://plot.ly"
              },
              "data": [
                {
                  "alignmentgroup": "True",
                  "hovertemplate": "variable=Residence_type<br>index=%{x}<br>value=%{y}<extra></extra>",
                  "legendgroup": "Residence_type",
                  "marker": {
                    "color": "#636efa",
                    "pattern": {
                      "shape": ""
                    }
                  },
                  "name": "Residence_type",
                  "offsetgroup": "Residence_type",
                  "orientation": "v",
                  "showlegend": true,
                  "textposition": "auto",
                  "type": "bar",
                  "x": [
                    "Urban",
                    "Rural"
                  ],
                  "xaxis": "x",
                  "y": [
                    2074,
                    1998
                  ],
                  "yaxis": "y"
                }
              ],
              "layout": {
                "barmode": "relative",
                "legend": {
                  "title": {
                    "text": "variable"
                  },
                  "tracegroupgap": 0
                },
                "margin": {
                  "t": 60
                },
                "template": {
                  "data": {
                    "bar": [
                      {
                        "error_x": {
                          "color": "#2a3f5f"
                        },
                        "error_y": {
                          "color": "#2a3f5f"
                        },
                        "marker": {
                          "line": {
                            "color": "#E5ECF6",
                            "width": 0.5
                          },
                          "pattern": {
                            "fillmode": "overlay",
                            "size": 10,
                            "solidity": 0.2
                          }
                        },
                        "type": "bar"
                      }
                    ],
                    "barpolar": [
                      {
                        "marker": {
                          "line": {
                            "color": "#E5ECF6",
                            "width": 0.5
                          },
                          "pattern": {
                            "fillmode": "overlay",
                            "size": 10,
                            "solidity": 0.2
                          }
                        },
                        "type": "barpolar"
                      }
                    ],
                    "carpet": [
                      {
                        "aaxis": {
                          "endlinecolor": "#2a3f5f",
                          "gridcolor": "white",
                          "linecolor": "white",
                          "minorgridcolor": "white",
                          "startlinecolor": "#2a3f5f"
                        },
                        "baxis": {
                          "endlinecolor": "#2a3f5f",
                          "gridcolor": "white",
                          "linecolor": "white",
                          "minorgridcolor": "white",
                          "startlinecolor": "#2a3f5f"
                        },
                        "type": "carpet"
                      }
                    ],
                    "choropleth": [
                      {
                        "colorbar": {
                          "outlinewidth": 0,
                          "ticks": ""
                        },
                        "type": "choropleth"
                      }
                    ],
                    "contour": [
                      {
                        "colorbar": {
                          "outlinewidth": 0,
                          "ticks": ""
                        },
                        "colorscale": [
                          [
                            0,
                            "#0d0887"
                          ],
                          [
                            0.1111111111111111,
                            "#46039f"
                          ],
                          [
                            0.2222222222222222,
                            "#7201a8"
                          ],
                          [
                            0.3333333333333333,
                            "#9c179e"
                          ],
                          [
                            0.4444444444444444,
                            "#bd3786"
                          ],
                          [
                            0.5555555555555556,
                            "#d8576b"
                          ],
                          [
                            0.6666666666666666,
                            "#ed7953"
                          ],
                          [
                            0.7777777777777778,
                            "#fb9f3a"
                          ],
                          [
                            0.8888888888888888,
                            "#fdca26"
                          ],
                          [
                            1,
                            "#f0f921"
                          ]
                        ],
                        "type": "contour"
                      }
                    ],
                    "contourcarpet": [
                      {
                        "colorbar": {
                          "outlinewidth": 0,
                          "ticks": ""
                        },
                        "type": "contourcarpet"
                      }
                    ],
                    "heatmap": [
                      {
                        "colorbar": {
                          "outlinewidth": 0,
                          "ticks": ""
                        },
                        "colorscale": [
                          [
                            0,
                            "#0d0887"
                          ],
                          [
                            0.1111111111111111,
                            "#46039f"
                          ],
                          [
                            0.2222222222222222,
                            "#7201a8"
                          ],
                          [
                            0.3333333333333333,
                            "#9c179e"
                          ],
                          [
                            0.4444444444444444,
                            "#bd3786"
                          ],
                          [
                            0.5555555555555556,
                            "#d8576b"
                          ],
                          [
                            0.6666666666666666,
                            "#ed7953"
                          ],
                          [
                            0.7777777777777778,
                            "#fb9f3a"
                          ],
                          [
                            0.8888888888888888,
                            "#fdca26"
                          ],
                          [
                            1,
                            "#f0f921"
                          ]
                        ],
                        "type": "heatmap"
                      }
                    ],
                    "heatmapgl": [
                      {
                        "colorbar": {
                          "outlinewidth": 0,
                          "ticks": ""
                        },
                        "colorscale": [
                          [
                            0,
                            "#0d0887"
                          ],
                          [
                            0.1111111111111111,
                            "#46039f"
                          ],
                          [
                            0.2222222222222222,
                            "#7201a8"
                          ],
                          [
                            0.3333333333333333,
                            "#9c179e"
                          ],
                          [
                            0.4444444444444444,
                            "#bd3786"
                          ],
                          [
                            0.5555555555555556,
                            "#d8576b"
                          ],
                          [
                            0.6666666666666666,
                            "#ed7953"
                          ],
                          [
                            0.7777777777777778,
                            "#fb9f3a"
                          ],
                          [
                            0.8888888888888888,
                            "#fdca26"
                          ],
                          [
                            1,
                            "#f0f921"
                          ]
                        ],
                        "type": "heatmapgl"
                      }
                    ],
                    "histogram": [
                      {
                        "marker": {
                          "pattern": {
                            "fillmode": "overlay",
                            "size": 10,
                            "solidity": 0.2
                          }
                        },
                        "type": "histogram"
                      }
                    ],
                    "histogram2d": [
                      {
                        "colorbar": {
                          "outlinewidth": 0,
                          "ticks": ""
                        },
                        "colorscale": [
                          [
                            0,
                            "#0d0887"
                          ],
                          [
                            0.1111111111111111,
                            "#46039f"
                          ],
                          [
                            0.2222222222222222,
                            "#7201a8"
                          ],
                          [
                            0.3333333333333333,
                            "#9c179e"
                          ],
                          [
                            0.4444444444444444,
                            "#bd3786"
                          ],
                          [
                            0.5555555555555556,
                            "#d8576b"
                          ],
                          [
                            0.6666666666666666,
                            "#ed7953"
                          ],
                          [
                            0.7777777777777778,
                            "#fb9f3a"
                          ],
                          [
                            0.8888888888888888,
                            "#fdca26"
                          ],
                          [
                            1,
                            "#f0f921"
                          ]
                        ],
                        "type": "histogram2d"
                      }
                    ],
                    "histogram2dcontour": [
                      {
                        "colorbar": {
                          "outlinewidth": 0,
                          "ticks": ""
                        },
                        "colorscale": [
                          [
                            0,
                            "#0d0887"
                          ],
                          [
                            0.1111111111111111,
                            "#46039f"
                          ],
                          [
                            0.2222222222222222,
                            "#7201a8"
                          ],
                          [
                            0.3333333333333333,
                            "#9c179e"
                          ],
                          [
                            0.4444444444444444,
                            "#bd3786"
                          ],
                          [
                            0.5555555555555556,
                            "#d8576b"
                          ],
                          [
                            0.6666666666666666,
                            "#ed7953"
                          ],
                          [
                            0.7777777777777778,
                            "#fb9f3a"
                          ],
                          [
                            0.8888888888888888,
                            "#fdca26"
                          ],
                          [
                            1,
                            "#f0f921"
                          ]
                        ],
                        "type": "histogram2dcontour"
                      }
                    ],
                    "mesh3d": [
                      {
                        "colorbar": {
                          "outlinewidth": 0,
                          "ticks": ""
                        },
                        "type": "mesh3d"
                      }
                    ],
                    "parcoords": [
                      {
                        "line": {
                          "colorbar": {
                            "outlinewidth": 0,
                            "ticks": ""
                          }
                        },
                        "type": "parcoords"
                      }
                    ],
                    "pie": [
                      {
                        "automargin": true,
                        "type": "pie"
                      }
                    ],
                    "scatter": [
                      {
                        "fillpattern": {
                          "fillmode": "overlay",
                          "size": 10,
                          "solidity": 0.2
                        },
                        "type": "scatter"
                      }
                    ],
                    "scatter3d": [
                      {
                        "line": {
                          "colorbar": {
                            "outlinewidth": 0,
                            "ticks": ""
                          }
                        },
                        "marker": {
                          "colorbar": {
                            "outlinewidth": 0,
                            "ticks": ""
                          }
                        },
                        "type": "scatter3d"
                      }
                    ],
                    "scattercarpet": [
                      {
                        "marker": {
                          "colorbar": {
                            "outlinewidth": 0,
                            "ticks": ""
                          }
                        },
                        "type": "scattercarpet"
                      }
                    ],
                    "scattergeo": [
                      {
                        "marker": {
                          "colorbar": {
                            "outlinewidth": 0,
                            "ticks": ""
                          }
                        },
                        "type": "scattergeo"
                      }
                    ],
                    "scattergl": [
                      {
                        "marker": {
                          "colorbar": {
                            "outlinewidth": 0,
                            "ticks": ""
                          }
                        },
                        "type": "scattergl"
                      }
                    ],
                    "scattermapbox": [
                      {
                        "marker": {
                          "colorbar": {
                            "outlinewidth": 0,
                            "ticks": ""
                          }
                        },
                        "type": "scattermapbox"
                      }
                    ],
                    "scatterpolar": [
                      {
                        "marker": {
                          "colorbar": {
                            "outlinewidth": 0,
                            "ticks": ""
                          }
                        },
                        "type": "scatterpolar"
                      }
                    ],
                    "scatterpolargl": [
                      {
                        "marker": {
                          "colorbar": {
                            "outlinewidth": 0,
                            "ticks": ""
                          }
                        },
                        "type": "scatterpolargl"
                      }
                    ],
                    "scatterternary": [
                      {
                        "marker": {
                          "colorbar": {
                            "outlinewidth": 0,
                            "ticks": ""
                          }
                        },
                        "type": "scatterternary"
                      }
                    ],
                    "surface": [
                      {
                        "colorbar": {
                          "outlinewidth": 0,
                          "ticks": ""
                        },
                        "colorscale": [
                          [
                            0,
                            "#0d0887"
                          ],
                          [
                            0.1111111111111111,
                            "#46039f"
                          ],
                          [
                            0.2222222222222222,
                            "#7201a8"
                          ],
                          [
                            0.3333333333333333,
                            "#9c179e"
                          ],
                          [
                            0.4444444444444444,
                            "#bd3786"
                          ],
                          [
                            0.5555555555555556,
                            "#d8576b"
                          ],
                          [
                            0.6666666666666666,
                            "#ed7953"
                          ],
                          [
                            0.7777777777777778,
                            "#fb9f3a"
                          ],
                          [
                            0.8888888888888888,
                            "#fdca26"
                          ],
                          [
                            1,
                            "#f0f921"
                          ]
                        ],
                        "type": "surface"
                      }
                    ],
                    "table": [
                      {
                        "cells": {
                          "fill": {
                            "color": "#EBF0F8"
                          },
                          "line": {
                            "color": "white"
                          }
                        },
                        "header": {
                          "fill": {
                            "color": "#C8D4E3"
                          },
                          "line": {
                            "color": "white"
                          }
                        },
                        "type": "table"
                      }
                    ]
                  },
                  "layout": {
                    "annotationdefaults": {
                      "arrowcolor": "#2a3f5f",
                      "arrowhead": 0,
                      "arrowwidth": 1
                    },
                    "autotypenumbers": "strict",
                    "coloraxis": {
                      "colorbar": {
                        "outlinewidth": 0,
                        "ticks": ""
                      }
                    },
                    "colorscale": {
                      "diverging": [
                        [
                          0,
                          "#8e0152"
                        ],
                        [
                          0.1,
                          "#c51b7d"
                        ],
                        [
                          0.2,
                          "#de77ae"
                        ],
                        [
                          0.3,
                          "#f1b6da"
                        ],
                        [
                          0.4,
                          "#fde0ef"
                        ],
                        [
                          0.5,
                          "#f7f7f7"
                        ],
                        [
                          0.6,
                          "#e6f5d0"
                        ],
                        [
                          0.7,
                          "#b8e186"
                        ],
                        [
                          0.8,
                          "#7fbc41"
                        ],
                        [
                          0.9,
                          "#4d9221"
                        ],
                        [
                          1,
                          "#276419"
                        ]
                      ],
                      "sequential": [
                        [
                          0,
                          "#0d0887"
                        ],
                        [
                          0.1111111111111111,
                          "#46039f"
                        ],
                        [
                          0.2222222222222222,
                          "#7201a8"
                        ],
                        [
                          0.3333333333333333,
                          "#9c179e"
                        ],
                        [
                          0.4444444444444444,
                          "#bd3786"
                        ],
                        [
                          0.5555555555555556,
                          "#d8576b"
                        ],
                        [
                          0.6666666666666666,
                          "#ed7953"
                        ],
                        [
                          0.7777777777777778,
                          "#fb9f3a"
                        ],
                        [
                          0.8888888888888888,
                          "#fdca26"
                        ],
                        [
                          1,
                          "#f0f921"
                        ]
                      ],
                      "sequentialminus": [
                        [
                          0,
                          "#0d0887"
                        ],
                        [
                          0.1111111111111111,
                          "#46039f"
                        ],
                        [
                          0.2222222222222222,
                          "#7201a8"
                        ],
                        [
                          0.3333333333333333,
                          "#9c179e"
                        ],
                        [
                          0.4444444444444444,
                          "#bd3786"
                        ],
                        [
                          0.5555555555555556,
                          "#d8576b"
                        ],
                        [
                          0.6666666666666666,
                          "#ed7953"
                        ],
                        [
                          0.7777777777777778,
                          "#fb9f3a"
                        ],
                        [
                          0.8888888888888888,
                          "#fdca26"
                        ],
                        [
                          1,
                          "#f0f921"
                        ]
                      ]
                    },
                    "colorway": [
                      "#636efa",
                      "#EF553B",
                      "#00cc96",
                      "#ab63fa",
                      "#FFA15A",
                      "#19d3f3",
                      "#FF6692",
                      "#B6E880",
                      "#FF97FF",
                      "#FECB52"
                    ],
                    "font": {
                      "color": "#2a3f5f"
                    },
                    "geo": {
                      "bgcolor": "white",
                      "lakecolor": "white",
                      "landcolor": "#E5ECF6",
                      "showlakes": true,
                      "showland": true,
                      "subunitcolor": "white"
                    },
                    "hoverlabel": {
                      "align": "left"
                    },
                    "hovermode": "closest",
                    "mapbox": {
                      "style": "light"
                    },
                    "paper_bgcolor": "white",
                    "plot_bgcolor": "#E5ECF6",
                    "polar": {
                      "angularaxis": {
                        "gridcolor": "white",
                        "linecolor": "white",
                        "ticks": ""
                      },
                      "bgcolor": "#E5ECF6",
                      "radialaxis": {
                        "gridcolor": "white",
                        "linecolor": "white",
                        "ticks": ""
                      }
                    },
                    "scene": {
                      "xaxis": {
                        "backgroundcolor": "#E5ECF6",
                        "gridcolor": "white",
                        "gridwidth": 2,
                        "linecolor": "white",
                        "showbackground": true,
                        "ticks": "",
                        "zerolinecolor": "white"
                      },
                      "yaxis": {
                        "backgroundcolor": "#E5ECF6",
                        "gridcolor": "white",
                        "gridwidth": 2,
                        "linecolor": "white",
                        "showbackground": true,
                        "ticks": "",
                        "zerolinecolor": "white"
                      },
                      "zaxis": {
                        "backgroundcolor": "#E5ECF6",
                        "gridcolor": "white",
                        "gridwidth": 2,
                        "linecolor": "white",
                        "showbackground": true,
                        "ticks": "",
                        "zerolinecolor": "white"
                      }
                    },
                    "shapedefaults": {
                      "line": {
                        "color": "#2a3f5f"
                      }
                    },
                    "ternary": {
                      "aaxis": {
                        "gridcolor": "white",
                        "linecolor": "white",
                        "ticks": ""
                      },
                      "baxis": {
                        "gridcolor": "white",
                        "linecolor": "white",
                        "ticks": ""
                      },
                      "bgcolor": "#E5ECF6",
                      "caxis": {
                        "gridcolor": "white",
                        "linecolor": "white",
                        "ticks": ""
                      }
                    },
                    "title": {
                      "x": 0.05
                    },
                    "xaxis": {
                      "automargin": true,
                      "gridcolor": "white",
                      "linecolor": "white",
                      "ticks": "",
                      "title": {
                        "standoff": 15
                      },
                      "zerolinecolor": "white",
                      "zerolinewidth": 2
                    },
                    "yaxis": {
                      "automargin": true,
                      "gridcolor": "white",
                      "linecolor": "white",
                      "ticks": "",
                      "title": {
                        "standoff": 15
                      },
                      "zerolinecolor": "white",
                      "zerolinewidth": 2
                    }
                  }
                },
                "xaxis": {
                  "anchor": "y",
                  "domain": [
                    0,
                    1
                  ],
                  "title": {
                    "text": "index"
                  }
                },
                "yaxis": {
                  "anchor": "x",
                  "domain": [
                    0,
                    1
                  ],
                  "title": {
                    "text": "value"
                  }
                }
              }
            }
          },
          "metadata": {},
          "output_type": "display_data"
        }
      ],
      "source": [
        "fig = px.bar(stroke_dataset.Residence_type.value_counts())\n",
        "fig.show()"
      ]
    },
    {
      "cell_type": "code",
      "execution_count": 96,
      "metadata": {},
      "outputs": [
        {
          "data": {
            "text/plain": [
              "<AxesSubplot:xlabel='Residence_type', ylabel='count'>"
            ]
          },
          "execution_count": 96,
          "metadata": {},
          "output_type": "execute_result"
        },
        {
          "data": {
            "image/png": "[encoded data removed]",
            "text/plain": [
              "<Figure size 432x288 with 1 Axes>"
            ]
          },
          "metadata": {
            "needs_background": "light"
          },
          "output_type": "display_data"
        }
      ],
      "source": [
        "sns.countplot(x='Residence_type', hue='stroke', data=stroke_dataset)"
      ]
    },
    {
      "cell_type": "code",
      "execution_count": 97,
      "metadata": {},
      "outputs": [
        {
          "data": {
            "text/plain": [
              "<AxesSubplot:xlabel='Residence_type', ylabel='count'>"
            ]
          },
          "execution_count": 97,
          "metadata": {},
          "output_type": "execute_result"
        },
        {
          "data": {
            "image/png": "[encoded data removed]",
            "text/plain": [
              "<Figure size 432x288 with 1 Axes>"
            ]
          },
          "metadata": {
            "needs_background": "light"
          },
          "output_type": "display_data"
        }
      ],
      "source": [
        "sns.countplot(x='Residence_type', hue='heart_disease', data=stroke_dataset)"
      ]
    },
    {
      "cell_type": "markdown",
      "metadata": {},
      "source": [
        "Исходя из выше сделанных анализов можно сделать вывод что где жыветь человек не влияеть на получение инсульта"
      ]
    },
    {
      "cell_type": "code",
      "execution_count": 99,
      "metadata": {},
      "outputs": [
        {
          "data": {
            "text/html": [
              "<div>\n",
              "<style scoped>\n",
              "    .dataframe tbody tr th:only-of-type {\n",
              "        vertical-align: middle;\n",
              "    }\n",
              "\n",
              "    .dataframe tbody tr th {\n",
              "        vertical-align: top;\n",
              "    }\n",
              "\n",
              "    .dataframe thead th {\n",
              "        text-align: right;\n",
              "    }\n",
              "</style>\n",
              "<table border=\"1\" class=\"dataframe\">\n",
              "  <thead>\n",
              "    <tr style=\"text-align: right;\">\n",
              "      <th></th>\n",
              "      <th>gender</th>\n",
              "      <th>age</th>\n",
              "      <th>hypertension</th>\n",
              "      <th>heart_disease</th>\n",
              "      <th>ever_married</th>\n",
              "      <th>work_type</th>\n",
              "      <th>Residence_type</th>\n",
              "      <th>avg_glucose_level</th>\n",
              "      <th>bmi</th>\n",
              "      <th>smoking_status</th>\n",
              "      <th>stroke</th>\n",
              "    </tr>\n",
              "  </thead>\n",
              "  <tbody>\n",
              "    <tr>\n",
              "      <th>0</th>\n",
              "      <td>Male</td>\n",
              "      <td>67</td>\n",
              "      <td>0</td>\n",
              "      <td>1</td>\n",
              "      <td>Yes</td>\n",
              "      <td>Private</td>\n",
              "      <td>Urban</td>\n",
              "      <td>228.69</td>\n",
              "      <td>36.6</td>\n",
              "      <td>formerly smoked</td>\n",
              "      <td>1</td>\n",
              "    </tr>\n",
              "    <tr>\n",
              "      <th>1</th>\n",
              "      <td>Male</td>\n",
              "      <td>80</td>\n",
              "      <td>0</td>\n",
              "      <td>1</td>\n",
              "      <td>Yes</td>\n",
              "      <td>Private</td>\n",
              "      <td>Rural</td>\n",
              "      <td>105.92</td>\n",
              "      <td>32.5</td>\n",
              "      <td>never smoked</td>\n",
              "      <td>1</td>\n",
              "    </tr>\n",
              "    <tr>\n",
              "      <th>2</th>\n",
              "      <td>Female</td>\n",
              "      <td>49</td>\n",
              "      <td>0</td>\n",
              "      <td>0</td>\n",
              "      <td>Yes</td>\n",
              "      <td>Private</td>\n",
              "      <td>Urban</td>\n",
              "      <td>171.23</td>\n",
              "      <td>34.4</td>\n",
              "      <td>smokes</td>\n",
              "      <td>1</td>\n",
              "    </tr>\n",
              "    <tr>\n",
              "      <th>3</th>\n",
              "      <td>Female</td>\n",
              "      <td>79</td>\n",
              "      <td>1</td>\n",
              "      <td>0</td>\n",
              "      <td>Yes</td>\n",
              "      <td>Self-employed</td>\n",
              "      <td>Rural</td>\n",
              "      <td>174.12</td>\n",
              "      <td>24.0</td>\n",
              "      <td>never smoked</td>\n",
              "      <td>1</td>\n",
              "    </tr>\n",
              "    <tr>\n",
              "      <th>4</th>\n",
              "      <td>Male</td>\n",
              "      <td>81</td>\n",
              "      <td>0</td>\n",
              "      <td>0</td>\n",
              "      <td>Yes</td>\n",
              "      <td>Private</td>\n",
              "      <td>Urban</td>\n",
              "      <td>186.21</td>\n",
              "      <td>29.0</td>\n",
              "      <td>formerly smoked</td>\n",
              "      <td>1</td>\n",
              "    </tr>\n",
              "    <tr>\n",
              "      <th>...</th>\n",
              "      <td>...</td>\n",
              "      <td>...</td>\n",
              "      <td>...</td>\n",
              "      <td>...</td>\n",
              "      <td>...</td>\n",
              "      <td>...</td>\n",
              "      <td>...</td>\n",
              "      <td>...</td>\n",
              "      <td>...</td>\n",
              "      <td>...</td>\n",
              "      <td>...</td>\n",
              "    </tr>\n",
              "    <tr>\n",
              "      <th>4067</th>\n",
              "      <td>Female</td>\n",
              "      <td>18</td>\n",
              "      <td>0</td>\n",
              "      <td>0</td>\n",
              "      <td>No</td>\n",
              "      <td>Private</td>\n",
              "      <td>Urban</td>\n",
              "      <td>82.85</td>\n",
              "      <td>46.9</td>\n",
              "      <td>Unknown</td>\n",
              "      <td>0</td>\n",
              "    </tr>\n",
              "    <tr>\n",
              "      <th>4068</th>\n",
              "      <td>Female</td>\n",
              "      <td>81</td>\n",
              "      <td>0</td>\n",
              "      <td>0</td>\n",
              "      <td>Yes</td>\n",
              "      <td>Self-employed</td>\n",
              "      <td>Urban</td>\n",
              "      <td>125.20</td>\n",
              "      <td>40.0</td>\n",
              "      <td>never smoked</td>\n",
              "      <td>0</td>\n",
              "    </tr>\n",
              "    <tr>\n",
              "      <th>4069</th>\n",
              "      <td>Female</td>\n",
              "      <td>35</td>\n",
              "      <td>0</td>\n",
              "      <td>0</td>\n",
              "      <td>Yes</td>\n",
              "      <td>Self-employed</td>\n",
              "      <td>Rural</td>\n",
              "      <td>82.99</td>\n",
              "      <td>30.6</td>\n",
              "      <td>never smoked</td>\n",
              "      <td>0</td>\n",
              "    </tr>\n",
              "    <tr>\n",
              "      <th>4070</th>\n",
              "      <td>Male</td>\n",
              "      <td>51</td>\n",
              "      <td>0</td>\n",
              "      <td>0</td>\n",
              "      <td>Yes</td>\n",
              "      <td>Private</td>\n",
              "      <td>Rural</td>\n",
              "      <td>166.29</td>\n",
              "      <td>25.6</td>\n",
              "      <td>formerly smoked</td>\n",
              "      <td>0</td>\n",
              "    </tr>\n",
              "    <tr>\n",
              "      <th>4071</th>\n",
              "      <td>Female</td>\n",
              "      <td>44</td>\n",
              "      <td>0</td>\n",
              "      <td>0</td>\n",
              "      <td>Yes</td>\n",
              "      <td>Govt_job</td>\n",
              "      <td>Urban</td>\n",
              "      <td>85.28</td>\n",
              "      <td>26.2</td>\n",
              "      <td>Unknown</td>\n",
              "      <td>0</td>\n",
              "    </tr>\n",
              "  </tbody>\n",
              "</table>\n",
              "<p>4072 rows × 11 columns</p>\n",
              "</div>"
            ],
            "text/plain": [
              "      gender  age  hypertension  heart_disease ever_married      work_type  \\\n",
              "0       Male   67             0              1          Yes        Private   \n",
              "1       Male   80             0              1          Yes        Private   \n",
              "2     Female   49             0              0          Yes        Private   \n",
              "3     Female   79             1              0          Yes  Self-employed   \n",
              "4       Male   81             0              0          Yes        Private   \n",
              "...      ...  ...           ...            ...          ...            ...   \n",
              "4067  Female   18             0              0           No        Private   \n",
              "4068  Female   81             0              0          Yes  Self-employed   \n",
              "4069  Female   35             0              0          Yes  Self-employed   \n",
              "4070    Male   51             0              0          Yes        Private   \n",
              "4071  Female   44             0              0          Yes       Govt_job   \n",
              "\n",
              "     Residence_type  avg_glucose_level   bmi   smoking_status  stroke  \n",
              "0             Urban             228.69  36.6  formerly smoked       1  \n",
              "1             Rural             105.92  32.5     never smoked       1  \n",
              "2             Urban             171.23  34.4           smokes       1  \n",
              "3             Rural             174.12  24.0     never smoked       1  \n",
              "4             Urban             186.21  29.0  formerly smoked       1  \n",
              "...             ...                ...   ...              ...     ...  \n",
              "4067          Urban              82.85  46.9          Unknown       0  \n",
              "4068          Urban             125.20  40.0     never smoked       0  \n",
              "4069          Rural              82.99  30.6     never smoked       0  \n",
              "4070          Rural             166.29  25.6  formerly smoked       0  \n",
              "4071          Urban              85.28  26.2          Unknown       0  \n",
              "\n",
              "[4072 rows x 11 columns]"
            ]
          },
          "execution_count": 99,
          "metadata": {},
          "output_type": "execute_result"
        }
      ],
      "source": [
        "stroke_dataset"
      ]
    },
    {
      "cell_type": "markdown",
      "metadata": {},
      "source": [
        "Glucose_level"
      ]
    },
    {
      "cell_type": "code",
      "execution_count": 100,
      "metadata": {},
      "outputs": [
        {
          "data": {
            "text/plain": [
              "count    4072.000000\n",
              "mean      107.601677\n",
              "std        46.945432\n",
              "min        55.120000\n",
              "25%        77.255000\n",
              "50%        92.205000\n",
              "75%       115.322500\n",
              "max       271.740000\n",
              "Name: avg_glucose_level, dtype: float64"
            ]
          },
          "execution_count": 100,
          "metadata": {},
          "output_type": "execute_result"
        }
      ],
      "source": [
        "stroke_dataset.avg_glucose_level.describe()"
      ]
    },
    {
      "cell_type": "code",
      "execution_count": 108,
      "metadata": {},
      "outputs": [
        {
          "data": {
            "text/plain": [
              "<AxesSubplot:xlabel='avg_glucose_level', ylabel='Count'>"
            ]
          },
          "execution_count": 108,
          "metadata": {},
          "output_type": "execute_result"
        },
        {
          "data": {
            "image/png": "[encoded data removed]",
            "text/plain": [
              "<Figure size 432x288 with 1 Axes>"
            ]
          },
          "metadata": {
            "needs_background": "light"
          },
          "output_type": "display_data"
        }
      ],
      "source": [
        "sns.histplot(data=stroke_dataset, x='avg_glucose_level')"
      ]
    },
    {
      "cell_type": "code",
      "execution_count": 110,
      "metadata": {},
      "outputs": [
        {
          "data": {
            "application/vnd.plotly.v1+json": {
              "config": {
                "plotlyServerURL": "https://plot.ly"
              },
              "data": [
                {
                  "alignmentgroup": "True",
                  "hovertemplate": "stroke=1<br>avg_glucose_level=%{x}<extra></extra>",
                  "legendgroup": "1",
                  "marker": {
                    "color": "#636efa"
                  },
                  "name": "1",
                  "notched": false,
                  "offsetgroup": "1",
                  "orientation": "h",
                  "showlegend": true,
                  "type": "box",
                  "x": [
                    228.69,
                    105.92,
                    171.23,
                    174.12,
                    186.21,
                    70.09,
                    94.39,
                    58.57,
                    80.43,
                    120.46,
                    104.51,
                    214.09,
                    167.41,
                    191.61,
                    221.29,
                    89.22,
                    193.94,
                    233.29,
                    228.7,
                    208.3,
                    102.87,
                    104.12,
                    100.98,
                    195.23,
                    212.08,
                    83.41,
                    196.92,
                    252.72,
                    84.2,
                    84.03,
                    219.72,
                    74.63,
                    92.62,
                    60.91,
                    78.03,
                    71.22,
                    144.9,
                    213.03,
                    243.58,
                    107.26,
                    99.33,
                    58.09,
                    127.29,
                    124.13,
                    196.71,
                    59.32,
                    194.99,
                    180.93,
                    185.17,
                    74.9,
                    61.94,
                    93.72,
                    113.01,
                    221.58,
                    104.47,
                    86.23,
                    72.67,
                    179.12,
                    116.55,
                    228.56,
                    96.59,
                    66.72,
                    240.09,
                    110.85,
                    143.43,
                    96.16,
                    88.92,
                    79.79,
                    96.97,
                    111.81,
                    59.35,
                    86.94,
                    98.55,
                    226.98,
                    72.81,
                    68.02,
                    68.56,
                    64.14,
                    235.63,
                    76.34,
                    240.59,
                    78.92,
                    82.81,
                    74.1,
                    190.32,
                    231.61,
                    78.7,
                    110.52,
                    73.18,
                    191.82,
                    93.05,
                    64.17,
                    129.98,
                    68.53,
                    224.1,
                    82.1,
                    216.94,
                    76.11,
                    72.96,
                    82.28,
                    105.22,
                    59.86,
                    62.55,
                    259.63,
                    249.31,
                    131.41,
                    73.54,
                    200.59,
                    190.14,
                    130.54,
                    182.99,
                    206.09,
                    263.32,
                    140.1,
                    207.28,
                    194.37,
                    199.2,
                    103.68,
                    116.44,
                    70.28,
                    72.17,
                    221.79,
                    151.16,
                    67.29,
                    67.41,
                    239.07,
                    223.83,
                    76.57,
                    77.82,
                    92.98,
                    231.56,
                    102.16,
                    221.89,
                    195.71,
                    74.02,
                    203.87,
                    89.13,
                    133.19,
                    162.23,
                    98.02,
                    91.54,
                    97.43,
                    91.02,
                    185.49,
                    64.44,
                    56.11,
                    213.22,
                    78.18,
                    111.04,
                    76.13,
                    112.24,
                    137.3,
                    116.69,
                    215.94,
                    86.62,
                    205.77,
                    112.16,
                    118.03,
                    271.74,
                    97.92,
                    200.62,
                    242.52,
                    93.81,
                    74.96,
                    175.29,
                    90,
                    109.47,
                    87.85,
                    106.74,
                    80.13,
                    90.19,
                    134.8,
                    106.58,
                    83.24,
                    103.43,
                    208.65,
                    74.11,
                    95.84,
                    205.33,
                    116.1,
                    210.4,
                    219.73,
                    250.89,
                    72.73,
                    205.35,
                    70.3,
                    104.86,
                    216.58,
                    184.4,
                    97.76,
                    66.03,
                    81.95,
                    97.73,
                    70.94,
                    199.84,
                    218.46,
                    211.06,
                    86.3,
                    162.14,
                    88.2,
                    91.92,
                    76.46,
                    197.28,
                    233.94,
                    247.51,
                    84.96,
                    78.8,
                    78.81
                  ],
                  "x0": " ",
                  "xaxis": "x",
                  "y0": " ",
                  "yaxis": "y"
                },
                {
                  "alignmentgroup": "True",
                  "hovertemplate": "stroke=0<br>avg_glucose_level=%{x}<extra></extra>",
                  "legendgroup": "0",
                  "marker": {
                    "color": "#EF553B"
                  },
                  "name": "0",
                  "notched": false,
                  "offsetgroup": "0",
                  "orientation": "h",
                  "showlegend": true,
                  "type": "box",
                  "x": [
                    87.96,
                    69.04,
                    210.95,
                    77.59,
                    243.53,
                    77.67,
                    205.84,
                    77.08,
                    57.08,
                    162.96,
                    73.5,
                    95.04,
                    85.37,
                    84.62,
                    82.67,
                    57.33,
                    67.84,
                    75.7,
                    129.54,
                    60.22,
                    198.21,
                    109.82,
                    60.84,
                    94.61,
                    97.49,
                    206.72,
                    214.45,
                    82.9,
                    103.26,
                    55.78,
                    149.75,
                    62.6,
                    94.09,
                    55.42,
                    117.92,
                    190.7,
                    79.81,
                    113.63,
                    141.24,
                    56.96,
                    203.04,
                    94.3,
                    81.51,
                    137.74,
                    81.84,
                    242.3,
                    102.64,
                    146.01,
                    220.49,
                    61.45,
                    88.19,
                    115.22,
                    97.93,
                    85.6,
                    79.83,
                    218.46,
                    62.2,
                    69.15,
                    127.71,
                    216.7,
                    71.89,
                    103.56,
                    69.94,
                    90.12,
                    95.1,
                    234.58,
                    235.85,
                    89.44,
                    111.38,
                    243.5,
                    182.2,
                    229.92,
                    82.24,
                    89.84,
                    84.38,
                    215.6,
                    91.61,
                    138.16,
                    75.23,
                    75.18,
                    239.64,
                    58.95,
                    99.92,
                    116.23,
                    118.82,
                    66.3,
                    101.41,
                    200.28,
                    136.8,
                    96.57,
                    66.42,
                    98.09,
                    205.23,
                    86.78,
                    126.82,
                    78.4,
                    63.69,
                    89.86,
                    110.99,
                    137.96,
                    210.78,
                    118.89,
                    72.55,
                    107.41,
                    74.91,
                    80.05,
                    99.8,
                    91.97,
                    64.4,
                    73.02,
                    138.29,
                    68.76,
                    101.52,
                    109.51,
                    91.72,
                    251.6,
                    123.1,
                    97.4,
                    68.34,
                    80.81,
                    120.31,
                    83.51,
                    74.09,
                    91.6,
                    213.37,
                    75.39,
                    122.41,
                    223.36,
                    107.52,
                    80.88,
                    93.48,
                    70.21,
                    86.67,
                    101.37,
                    105.22,
                    70.31,
                    178.29,
                    81.6,
                    147.48,
                    71.16,
                    203.81,
                    82,
                    97.55,
                    94.29,
                    90.07,
                    73.73,
                    79.58,
                    205.26,
                    58.63,
                    139.9,
                    211.03,
                    72.79,
                    91.65,
                    225.47,
                    94.48,
                    82.34,
                    180.63,
                    116.66,
                    112.09,
                    130.34,
                    82.59,
                    123.87,
                    98.7,
                    227.1,
                    66.07,
                    104.21,
                    145.15,
                    68.19,
                    97.53,
                    83.51,
                    86.46,
                    112.06,
                    201.76,
                    74.44,
                    95.93,
                    103.78,
                    115.43,
                    95.59,
                    101.52,
                    170.05,
                    217.3,
                    196.01,
                    92.21,
                    100.09,
                    93.88,
                    75.05,
                    70.08,
                    74.2,
                    69.01,
                    96.17,
                    87.24,
                    96.88,
                    73.32,
                    132.08,
                    98.99,
                    104.48,
                    98.01,
                    79.14,
                    89.32,
                    65.24,
                    80.98,
                    186.17,
                    69.24,
                    111.19,
                    93.28,
                    93.73,
                    77.49,
                    65.38,
                    94.18,
                    118.7,
                    96.29,
                    74.64,
                    96.99,
                    100.61,
                    97.08,
                    84.79,
                    78.75,
                    82.93,
                    88.78,
                    122.1,
                    74.81,
                    183.45,
                    114.94,
                    104.38,
                    102.91,
                    73.31,
                    68.52,
                    102.64,
                    70.92,
                    129.16,
                    113.85,
                    79.35,
                    80.79,
                    114.01,
                    93.74,
                    90.65,
                    98.41,
                    127.18,
                    89.44,
                    105.61,
                    80.83,
                    80.19,
                    60.34,
                    79.3,
                    98.44,
                    210.48,
                    70.34,
                    75.29,
                    100.35,
                    193.83,
                    183.34,
                    247.69,
                    76.2,
                    93.36,
                    61.29,
                    103.62,
                    191.47,
                    144.1,
                    239.82,
                    88.53,
                    114.79,
                    113.8,
                    71.91,
                    65.3,
                    189.57,
                    114.25,
                    81.26,
                    87.88,
                    112.17,
                    99.97,
                    207.58,
                    109.16,
                    74.46,
                    118.51,
                    107.47,
                    182.86,
                    59.17,
                    215.64,
                    196.36,
                    139.77,
                    141.23,
                    89.99,
                    108.53,
                    63.61,
                    85.54,
                    100.83,
                    59.82,
                    105.95,
                    188.11,
                    71.15,
                    204.86,
                    115.03,
                    79.87,
                    97.89,
                    125.26,
                    114.32,
                    83.51,
                    144.48,
                    228.08,
                    93.79,
                    147.14,
                    106.43,
                    88.04,
                    92.2,
                    219.53,
                    75.56,
                    158.31,
                    111.43,
                    219.97,
                    148.91,
                    69.4,
                    68.34,
                    58.37,
                    71.2,
                    101.5,
                    92.04,
                    73,
                    111.15,
                    58.65,
                    100.54,
                    111.73,
                    97.78,
                    85.79,
                    98.54,
                    94.62,
                    112.43,
                    99.67,
                    67.39,
                    95.12,
                    214.05,
                    79.09,
                    98.09,
                    76.36,
                    98.42,
                    82.01,
                    56.11,
                    111.85,
                    92.39,
                    112.54,
                    63.71,
                    70.35,
                    94.65,
                    64.64,
                    77.12,
                    55.32,
                    69.37,
                    57.57,
                    87.43,
                    98.73,
                    81.18,
                    56.23,
                    69.61,
                    100.26,
                    56.75,
                    77.46,
                    86.39,
                    116.38,
                    75.74,
                    92.14,
                    149.95,
                    55.25,
                    94.26,
                    94.34,
                    109.03,
                    81.03,
                    99.82,
                    140.08,
                    59.54,
                    80.33,
                    89.21,
                    91.45,
                    91.45,
                    89.63,
                    124.06,
                    99.47,
                    88.97,
                    80.93,
                    102.07,
                    91.69,
                    63.71,
                    200.49,
                    75.3,
                    240.71,
                    60.5,
                    131.85,
                    134.39,
                    56.18,
                    113.64,
                    156.57,
                    80.4,
                    59.26,
                    86.24,
                    197.1,
                    90.9,
                    84.59,
                    77.65,
                    64.41,
                    75.19,
                    67.97,
                    119.34,
                    103.51,
                    114.5,
                    95.01,
                    84.11,
                    74.02,
                    78.49,
                    74.22,
                    55.34,
                    75.04,
                    109.73,
                    96.78,
                    194.62,
                    70.02,
                    222.21,
                    62.41,
                    55.83,
                    65.12,
                    85.83,
                    103.86,
                    82.69,
                    250.2,
                    128.97,
                    84.31,
                    74.8,
                    97.06,
                    77.54,
                    92.78,
                    79.08,
                    106.18,
                    114.21,
                    91.08,
                    105.77,
                    74.88,
                    123.15,
                    184.25,
                    117.69,
                    55.26,
                    106.51,
                    55.27,
                    99.2,
                    98.92,
                    92.7,
                    106.7,
                    82.59,
                    91,
                    76.99,
                    254.6,
                    93.99,
                    109.68,
                    92.04,
                    111.41,
                    97.92,
                    65.61,
                    101.28,
                    88.31,
                    103.55,
                    60.26,
                    79.39,
                    122.01,
                    89.7,
                    95.1,
                    112.64,
                    79.8,
                    82.2,
                    108.89,
                    114.32,
                    116.14,
                    122.74,
                    94.04,
                    86.6,
                    82.32,
                    83.83,
                    106.98,
                    70.53,
                    212.01,
                    106.97,
                    126.35,
                    129.16,
                    88.66,
                    112.95,
                    81.59,
                    76.82,
                    73.75,
                    91.56,
                    104.55,
                    84.84,
                    86.06,
                    68.35,
                    121.04,
                    85.62,
                    74.23,
                    110.76,
                    79.44,
                    119.52,
                    90.42,
                    78.16,
                    79.13,
                    84.06,
                    69.21,
                    186.45,
                    58.47,
                    189.49,
                    99.6,
                    186.32,
                    74.51,
                    94.63,
                    91.98,
                    75.87,
                    77.19,
                    135.75,
                    100.15,
                    95.08,
                    125.38,
                    111.71,
                    94.64,
                    112.96,
                    105.36,
                    84.13,
                    102.47,
                    77.04,
                    87.01,
                    56.99,
                    73.01,
                    106.35,
                    103.61,
                    194.04,
                    111.99,
                    57.51,
                    60.2,
                    160,
                    86.96,
                    237.15,
                    99.06,
                    56.31,
                    84.31,
                    90.92,
                    104.33,
                    231.19,
                    94.3,
                    104.48,
                    72.62,
                    81.64,
                    90.78,
                    70.71,
                    72.36,
                    59.76,
                    63.64,
                    76.26,
                    82.06,
                    110.91,
                    77.16,
                    69.58,
                    96.26,
                    87.27,
                    65.36,
                    89.03,
                    91.34,
                    57.82,
                    81.15,
                    115.29,
                    111.61,
                    207.32,
                    87.11,
                    119.04,
                    86.05,
                    70.03,
                    207.64,
                    236.84,
                    78.11,
                    100.97,
                    99.21,
                    113.21,
                    92.95,
                    142.57,
                    92.87,
                    123,
                    100.54,
                    106.68,
                    86.4,
                    61.81,
                    128.28,
                    204.63,
                    89.98,
                    232.89,
                    98.58,
                    76.34,
                    92.81,
                    85.16,
                    104.62,
                    59.28,
                    77.42,
                    73.69,
                    74.9,
                    58.39,
                    102.05,
                    112.47,
                    72.84,
                    195.03,
                    170.95,
                    65.81,
                    83.65,
                    88.81,
                    123.36,
                    89.68,
                    109.22,
                    110.73,
                    99.14,
                    59.15,
                    77.44,
                    100.33,
                    57.93,
                    148.24,
                    91.96,
                    72.93,
                    84.27,
                    124.45,
                    56.42,
                    73.67,
                    74.04,
                    145.23,
                    100.8,
                    85.22,
                    72.49,
                    82.61,
                    79.85,
                    84.86,
                    89.17,
                    227.91,
                    102.01,
                    128.63,
                    144.1,
                    143.15,
                    116.67,
                    85.6,
                    142.12,
                    100.81,
                    69.17,
                    58.38,
                    86.34,
                    95.44,
                    94.78,
                    109.59,
                    79.26,
                    78.46,
                    85.29,
                    156.18,
                    69.52,
                    108.47,
                    105.63,
                    77.93,
                    95.2,
                    78.52,
                    114.89,
                    84.08,
                    110.55,
                    82.21,
                    82.38,
                    93.89,
                    75.08,
                    76.72,
                    76.5,
                    65.47,
                    99.16,
                    63.53,
                    78.65,
                    63.78,
                    77.52,
                    111.64,
                    113.01,
                    56.48,
                    204.5,
                    96.02,
                    206.25,
                    115.52,
                    93.67,
                    67.79,
                    56.07,
                    254.63,
                    96.63,
                    246.34,
                    195.16,
                    93.34,
                    162.3,
                    110.25,
                    69.7,
                    87.03,
                    112.98,
                    82.47,
                    75.88,
                    84.63,
                    109.56,
                    89.45,
                    91.65,
                    121.14,
                    87.77,
                    106.56,
                    93.88,
                    153.76,
                    88.65,
                    111.22,
                    223.68,
                    63.73,
                    103.94,
                    92.49,
                    229.2,
                    75.06,
                    85.57,
                    68.61,
                    65.98,
                    204.57,
                    64.99,
                    73.4,
                    82.83,
                    93.55,
                    90.4,
                    98.1,
                    142.02,
                    251.46,
                    89.96,
                    82.44,
                    80.85,
                    220.52,
                    86.73,
                    76.93,
                    113.1,
                    96.84,
                    57.26,
                    129.31,
                    56.47,
                    86.06,
                    86.97,
                    78.78,
                    195.04,
                    134.59,
                    90.66,
                    91.68,
                    91.68,
                    106.68,
                    82.31,
                    90.06,
                    65.47,
                    83.09,
                    63.18,
                    78.42,
                    65.08,
                    79.47,
                    95.52,
                    73,
                    138.07,
                    86.99,
                    112.07,
                    55.67,
                    90.55,
                    218.65,
                    83.56,
                    116.76,
                    83.5,
                    69.3,
                    67.55,
                    80.28,
                    211.49,
                    67.96,
                    99.29,
                    140.52,
                    75.62,
                    120.06,
                    117.45,
                    224.71,
                    82.39,
                    57.02,
                    115.98,
                    226.11,
                    97.59,
                    82.57,
                    79.34,
                    65.59,
                    101.65,
                    210.94,
                    77.92,
                    230.68,
                    62.68,
                    55.22,
                    78.94,
                    109.69,
                    79.33,
                    79.91,
                    68.4,
                    78.43,
                    198.02,
                    85.35,
                    204.17,
                    82.71,
                    121.19,
                    106.02,
                    267.76,
                    107.18,
                    74.58,
                    80.92,
                    90.77,
                    90.84,
                    59.2,
                    133.76,
                    61.36,
                    118.62,
                    68.98,
                    112.08,
                    96.2,
                    88.57,
                    180.76,
                    83.12,
                    94.89,
                    239.52,
                    99.15,
                    124.16,
                    93.68,
                    229.86,
                    78.73,
                    93.71,
                    76.66,
                    112.38,
                    89.3,
                    103.44,
                    210.96,
                    103.48,
                    96.42,
                    195.25,
                    81.02,
                    94.33,
                    78.43,
                    217.39,
                    82.77,
                    88.13,
                    102.77,
                    101.75,
                    113.34,
                    63.33,
                    69.34,
                    66.13,
                    67.53,
                    96.58,
                    57.89,
                    94.15,
                    89.53,
                    127.75,
                    76.79,
                    141.15,
                    88.63,
                    108.03,
                    104.07,
                    197.79,
                    150.45,
                    100.39,
                    79.92,
                    96.79,
                    61.27,
                    72.61,
                    82.41,
                    74.72,
                    88.34,
                    101.34,
                    119.01,
                    71.98,
                    91.63,
                    167.31,
                    63.65,
                    79.63,
                    87.49,
                    92.82,
                    72.2,
                    181.23,
                    63.37,
                    74.82,
                    93.04,
                    97.12,
                    82.81,
                    134.45,
                    85.82,
                    189.45,
                    144.16,
                    82.56,
                    206.4,
                    67.97,
                    71.7,
                    72.02,
                    61.81,
                    103.09,
                    73.75,
                    156.7,
                    70.87,
                    138.47,
                    64.66,
                    91.88,
                    74.79,
                    78.18,
                    77.82,
                    178.76,
                    121.43,
                    94.22,
                    197.58,
                    86.37,
                    112.09,
                    199.96,
                    85.33,
                    86.33,
                    80.47,
                    62.46,
                    78.85,
                    103.81,
                    78.04,
                    94.67,
                    62.25,
                    155.17,
                    62.78,
                    89.96,
                    103.25,
                    126.99,
                    113.63,
                    108.08,
                    108.34,
                    56.07,
                    101.79,
                    88.41,
                    101.05,
                    108.1,
                    93.17,
                    158.89,
                    205.77,
                    119.03,
                    237.21,
                    89.68,
                    246.53,
                    89.05,
                    98.12,
                    105.59,
                    61.78,
                    65.82,
                    90.16,
                    64.45,
                    97.89,
                    206.33,
                    74.29,
                    107.4,
                    87.72,
                    85.99,
                    100.84,
                    124.61,
                    100.85,
                    80.15,
                    107.29,
                    206.98,
                    227.28,
                    80.43,
                    228.7,
                    120.07,
                    93.47,
                    80.77,
                    150.27,
                    81.94,
                    70.75,
                    102.37,
                    169.97,
                    123.79,
                    84.21,
                    86.26,
                    92.86,
                    140.28,
                    244.28,
                    124.16,
                    93.55,
                    99.34,
                    59.87,
                    72.76,
                    61.1,
                    120.77,
                    126.34,
                    93.24,
                    154.75,
                    62.81,
                    79.53,
                    96.85,
                    251.99,
                    115.13,
                    78.99,
                    68.8,
                    83.84,
                    94.66,
                    107.98,
                    135.64,
                    121.11,
                    83.02,
                    222.29,
                    139.43,
                    213.11,
                    77.23,
                    58.48,
                    87.33,
                    102.34,
                    151.3,
                    144.23,
                    110.6,
                    80.28,
                    227.51,
                    201.01,
                    124.08,
                    107.91,
                    95.4,
                    65.9,
                    111.33,
                    104.36,
                    123.87,
                    210,
                    86.86,
                    81.28,
                    102.5,
                    78.05,
                    86.07,
                    59.05,
                    95.88,
                    70.18,
                    111.13,
                    79.3,
                    65.84,
                    123.49,
                    143.45,
                    89.11,
                    58.3,
                    78.68,
                    98.91,
                    67.92,
                    73,
                    97.5,
                    108.43,
                    90.43,
                    76.3,
                    121.27,
                    119.67,
                    226.93,
                    76.11,
                    253.16,
                    101.02,
                    238.53,
                    79.18,
                    207.79,
                    196.2,
                    231.76,
                    110.47,
                    77.52,
                    216.92,
                    157.01,
                    93.51,
                    102.54,
                    87.78,
                    126.67,
                    194.98,
                    58.87,
                    77.67,
                    83.14,
                    69.18,
                    218.54,
                    71.22,
                    82.07,
                    73,
                    72.63,
                    108.2,
                    123.95,
                    58.71,
                    98.46,
                    68.78,
                    101.43,
                    65.3,
                    72.49,
                    65.49,
                    63.4,
                    105.29,
                    78.34,
                    66.32,
                    168.15,
                    93.48,
                    79.2,
                    107.45,
                    83.86,
                    119.96,
                    70.58,
                    87.7,
                    65.29,
                    97.14,
                    110.68,
                    91.93,
                    183,
                    69.24,
                    102.28,
                    71.31,
                    89.75,
                    87.66,
                    178.33,
                    81.38,
                    70.45,
                    73.44,
                    146.44,
                    65.04,
                    151.25,
                    106.41,
                    197.09,
                    93.58,
                    80.06,
                    84.93,
                    62.99,
                    113.4,
                    101.92,
                    65.98,
                    84.3,
                    85.52,
                    83.79,
                    73.83,
                    66.11,
                    149.62,
                    242.84,
                    202.66,
                    216.9,
                    103.78,
                    114.88,
                    75.94,
                    71.44,
                    58.29,
                    115.83,
                    102.71,
                    99.69,
                    102.89,
                    56.63,
                    87.34,
                    109.51,
                    78.59,
                    105.47,
                    68.19,
                    114.47,
                    66.85,
                    94.71,
                    208.05,
                    222.6,
                    80.81,
                    64.51,
                    151.56,
                    199.14,
                    73.41,
                    109.65,
                    69.11,
                    114.41,
                    103.46,
                    95.36,
                    191.48,
                    84.75,
                    89.24,
                    70.13,
                    82.26,
                    200.16,
                    80.73,
                    75.09,
                    80.57,
                    77.04,
                    145.26,
                    82.08,
                    103.35,
                    123.65,
                    85.92,
                    80.8,
                    99.3,
                    62.56,
                    144.2,
                    71.38,
                    95.5,
                    67.06,
                    70.16,
                    104.24,
                    122.48,
                    215.9,
                    108.56,
                    69.88,
                    60.74,
                    233.52,
                    110.7,
                    78.93,
                    124.5,
                    92.82,
                    58.25,
                    213.54,
                    74.86,
                    78.35,
                    86.87,
                    124.01,
                    83.41,
                    70.65,
                    92.4,
                    73.36,
                    219.5,
                    83.79,
                    61.94,
                    63.19,
                    56.84,
                    217.66,
                    77.19,
                    76.22,
                    155.32,
                    70.67,
                    227.16,
                    58.69,
                    137.94,
                    60.6,
                    93.67,
                    79.56,
                    92.32,
                    80.63,
                    92.32,
                    59.89,
                    80.57,
                    88.52,
                    88.82,
                    102.08,
                    84.9,
                    82.21,
                    74.05,
                    176.48,
                    94.07,
                    85.12,
                    71.81,
                    94.4,
                    95.57,
                    66.29,
                    211.88,
                    76.55,
                    56.67,
                    100.52,
                    58.96,
                    96.77,
                    91.63,
                    225.6,
                    210.23,
                    92.82,
                    234.82,
                    74.51,
                    81.99,
                    87.69,
                    125.29,
                    111.64,
                    89.93,
                    72.06,
                    97.9,
                    230.59,
                    92.81,
                    168.15,
                    224.63,
                    108.12,
                    85.17,
                    84.14,
                    85.57,
                    82.81,
                    110.53,
                    61.88,
                    140.4,
                    88.9,
                    64.1,
                    97.58,
                    58.66,
                    88.24,
                    61.32,
                    62.99,
                    86.04,
                    83.3,
                    208.17,
                    81.54,
                    146.61,
                    84.56,
                    185.31,
                    102.53,
                    65.78,
                    62.6,
                    76.68,
                    90.95,
                    85.66,
                    68.37,
                    77.32,
                    187.87,
                    119.62,
                    222.85,
                    100.82,
                    136.1,
                    79.99,
                    118.21,
                    84.49,
                    89.61,
                    100.09,
                    198.36,
                    93.61,
                    75.43,
                    100.31,
                    105.63,
                    82.84,
                    58.88,
                    92.27,
                    115.23,
                    196.25,
                    114.33,
                    72.52,
                    63.47,
                    90.58,
                    92.26,
                    113.74,
                    72.79,
                    94.71,
                    194.53,
                    72.65,
                    86.68,
                    140.39,
                    104.7,
                    95.82,
                    204.05,
                    130.56,
                    67.78,
                    105.29,
                    135.19,
                    116.12,
                    59.63,
                    56.43,
                    199.18,
                    209.26,
                    91.21,
                    95.16,
                    217.11,
                    222.46,
                    82.44,
                    74.11,
                    131.23,
                    187.52,
                    83.26,
                    76.63,
                    65.09,
                    142.31,
                    80.99,
                    237.74,
                    154.08,
                    78.29,
                    164.67,
                    67.75,
                    90.35,
                    77.86,
                    71.88,
                    118.82,
                    121.66,
                    92.82,
                    95.46,
                    68.96,
                    90.26,
                    91.9,
                    91.08,
                    82.09,
                    149.9,
                    100.33,
                    91.25,
                    89.81,
                    97.32,
                    75.53,
                    121.44,
                    83.52,
                    57.92,
                    75.27,
                    80.24,
                    69.09,
                    62.67,
                    98.74,
                    56.51,
                    65.95,
                    62.47,
                    99.68,
                    223.35,
                    74.36,
                    102.97,
                    153.38,
                    67.8,
                    84.85,
                    135.89,
                    106.13,
                    74.33,
                    75.4,
                    87.69,
                    95.85,
                    90.36,
                    63.45,
                    201.07,
                    122.91,
                    60.99,
                    70.61,
                    124.34,
                    103.44,
                    75.5,
                    98.85,
                    96.06,
                    93.74,
                    65.6,
                    113.24,
                    94.77,
                    145.22,
                    84.79,
                    103.28,
                    96.18,
                    186.95,
                    68.66,
                    128.72,
                    85.04,
                    65.69,
                    97.52,
                    90.43,
                    81.71,
                    198.24,
                    90.51,
                    97.78,
                    80.74,
                    93,
                    95.37,
                    96.25,
                    129.16,
                    83.34,
                    95.01,
                    229.21,
                    80.08,
                    62,
                    118.69,
                    77.57,
                    108.75,
                    108.23,
                    151.33,
                    82.43,
                    107.17,
                    91.46,
                    81.05,
                    114.37,
                    100.29,
                    68.37,
                    87.95,
                    73.27,
                    107.29,
                    68.24,
                    74.01,
                    95.4,
                    95.75,
                    108.87,
                    209.06,
                    120.25,
                    85.51,
                    84.18,
                    82.37,
                    74.55,
                    114.45,
                    113.68,
                    107.91,
                    83.85,
                    72.13,
                    94.98,
                    228.42,
                    93.9,
                    93.13,
                    84.4,
                    82.13,
                    73.33,
                    75.88,
                    212.97,
                    100.41,
                    202.05,
                    71.42,
                    107.5,
                    55.57,
                    78.79,
                    65.28,
                    92.67,
                    114.18,
                    231.69,
                    101.89,
                    107.22,
                    101.99,
                    72.56,
                    94.47,
                    98.76,
                    116.93,
                    219.96,
                    88.97,
                    72.49,
                    107.27,
                    97.96,
                    197.69,
                    112.3,
                    75.77,
                    76.51,
                    93.14,
                    80.84,
                    199.88,
                    65.34,
                    98.71,
                    170.22,
                    73.5,
                    102.96,
                    80.72,
                    81.2,
                    114.76,
                    92.87,
                    113.05,
                    68.24,
                    74.35,
                    91.08,
                    88.83,
                    134.33,
                    208.78,
                    66.17,
                    222.29,
                    114.16,
                    220.36,
                    76.03,
                    73.06,
                    187.88,
                    79.89,
                    79.02,
                    191.66,
                    76.74,
                    72.29,
                    92.59,
                    80.42,
                    62.47,
                    63.94,
                    77.73,
                    115.79,
                    96.3,
                    107.46,
                    89.37,
                    217.75,
                    83.44,
                    93.88,
                    102.61,
                    81.76,
                    59.2,
                    226.88,
                    65.66,
                    58.7,
                    186.4,
                    122.32,
                    149.13,
                    169.49,
                    80.25,
                    203.81,
                    80.85,
                    120.58,
                    86.57,
                    90.01,
                    68.84,
                    158.48,
                    90.15,
                    80.09,
                    189.44,
                    249.29,
                    72.52,
                    96.93,
                    211.35,
                    60.96,
                    120.09,
                    92.13,
                    83.07,
                    97.24,
                    74.65,
                    85.84,
                    90.43,
                    74.35,
                    206.59,
                    196.33,
                    70.23,
                    242.94,
                    103.06,
                    80.86,
                    114.32,
                    83.91,
                    152.02,
                    75.19,
                    60.61,
                    89.14,
                    97.23,
                    135.19,
                    78.48,
                    75.92,
                    97.39,
                    134.61,
                    104.02,
                    56.9,
                    226.75,
                    76.28,
                    90.01,
                    107.84,
                    71.06,
                    185,
                    104.42,
                    136.2,
                    128.23,
                    104.23,
                    133.82,
                    80.82,
                    102.35,
                    88.48,
                    88.81,
                    75.09,
                    68.44,
                    65.36,
                    96.24,
                    77.29,
                    107.18,
                    130.07,
                    57.3,
                    101.35,
                    227.81,
                    66.67,
                    240.81,
                    152.87,
                    96.04,
                    60.35,
                    118.66,
                    58.51,
                    96.04,
                    110.92,
                    92.72,
                    56.34,
                    61.83,
                    131.99,
                    136.81,
                    239.28,
                    131.3,
                    117.75,
                    83.53,
                    145.5,
                    88.33,
                    101.25,
                    131.43,
                    231.5,
                    82.89,
                    192.37,
                    82.88,
                    99.4,
                    77.75,
                    75.03,
                    220.47,
                    180.8,
                    247.48,
                    216,
                    75.64,
                    95.07,
                    129.97,
                    124.26,
                    87.92,
                    95.36,
                    87.16,
                    219.39,
                    87.21,
                    220.47,
                    89.95,
                    110.07,
                    60.56,
                    89.83,
                    90.35,
                    71.5,
                    71.71,
                    173.96,
                    96.06,
                    113.2,
                    73.29,
                    65.71,
                    60.41,
                    89.11,
                    63.32,
                    85.68,
                    89.22,
                    91.68,
                    198.33,
                    79.59,
                    106.74,
                    191.33,
                    59.52,
                    206.52,
                    64.92,
                    80,
                    75.06,
                    91.18,
                    85.81,
                    111.15,
                    80.97,
                    89.88,
                    62.66,
                    87.08,
                    85,
                    100.49,
                    145.37,
                    79.73,
                    101.13,
                    101.98,
                    98.39,
                    128.04,
                    216.96,
                    94.92,
                    83.27,
                    96.86,
                    99.73,
                    65.77,
                    161.57,
                    74.32,
                    170.93,
                    74.43,
                    86.36,
                    97.06,
                    110.38,
                    62.48,
                    55.62,
                    84.9,
                    232.81,
                    86.55,
                    118.61,
                    80.21,
                    65.96,
                    85.13,
                    69.22,
                    140.93,
                    83.43,
                    207.95,
                    134.29,
                    86.25,
                    112.94,
                    73.54,
                    80.86,
                    83.91,
                    69.91,
                    95.62,
                    63.95,
                    122.5,
                    86,
                    120.27,
                    56.71,
                    131.63,
                    120.77,
                    100.42,
                    155.86,
                    66.01,
                    86.99,
                    90.55,
                    229.58,
                    60.06,
                    65.66,
                    104.7,
                    113.86,
                    165.99,
                    77.37,
                    93.55,
                    167.59,
                    98.03,
                    92.9,
                    117.34,
                    80.75,
                    114.34,
                    227.04,
                    87.56,
                    84.47,
                    96.26,
                    79.57,
                    78.44,
                    64.15,
                    74.5,
                    70.32,
                    84.48,
                    78.14,
                    133.58,
                    214.42,
                    80.63,
                    96,
                    131.4,
                    216.4,
                    108.8,
                    97.06,
                    266.59,
                    55.58,
                    65.87,
                    89.28,
                    56.12,
                    74.7,
                    83.06,
                    227.94,
                    84.88,
                    81.44,
                    68.48,
                    100.02,
                    72.49,
                    107.47,
                    205,
                    126.39,
                    92.08,
                    95.25,
                    75.91,
                    203.44,
                    88.23,
                    97.47,
                    59.28,
                    68.38,
                    55.46,
                    113.87,
                    96.35,
                    127.21,
                    78.9,
                    59.91,
                    160.94,
                    59.61,
                    87.94,
                    97.55,
                    116.02,
                    127.32,
                    75.5,
                    79.35,
                    108.56,
                    168.06,
                    75.52,
                    82.15,
                    200.28,
                    62.44,
                    84.31,
                    221.43,
                    165.47,
                    96.69,
                    145.03,
                    98.53,
                    70.52,
                    93.21,
                    82.39,
                    88.29,
                    80.18,
                    69.72,
                    192.16,
                    215.72,
                    87.84,
                    91.93,
                    58.63,
                    173.14,
                    106.83,
                    84.44,
                    92.16,
                    85.96,
                    202.57,
                    102.51,
                    62.6,
                    150.1,
                    94.15,
                    65.5,
                    78.96,
                    123.47,
                    90.4,
                    71.59,
                    209.5,
                    57.43,
                    87.93,
                    203.16,
                    112.12,
                    92.02,
                    60.98,
                    86.35,
                    71.26,
                    72.61,
                    110.78,
                    99.78,
                    201.45,
                    121.32,
                    83.89,
                    206.15,
                    102.9,
                    65.48,
                    123.23,
                    71.3,
                    102.21,
                    84.58,
                    77.3,
                    88.75,
                    79.18,
                    81.33,
                    126.68,
                    196.61,
                    219.92,
                    79.16,
                    99.68,
                    79.55,
                    87.86,
                    77.24,
                    120.94,
                    77.66,
                    231.95,
                    111.48,
                    84.25,
                    216.38,
                    95.01,
                    105.74,
                    58.41,
                    56.89,
                    86.25,
                    86.49,
                    83.16,
                    110.68,
                    70.06,
                    213.33,
                    93.52,
                    87.62,
                    77.67,
                    95.66,
                    172.33,
                    87.06,
                    93.02,
                    243.59,
                    86.7,
                    97.81,
                    116.04,
                    169.43,
                    68.41,
                    94.44,
                    73.48,
                    183.87,
                    66.08,
                    72.19,
                    101.09,
                    88.83,
                    69.99,
                    102.4,
                    87.26,
                    146.59,
                    59,
                    76.83,
                    90.92,
                    67.5,
                    97.16,
                    85.62,
                    129.43,
                    106.01,
                    227.98,
                    78.97,
                    95.04,
                    103.15,
                    82.91,
                    153.6,
                    129.43,
                    81,
                    71.81,
                    84.46,
                    101.32,
                    62.56,
                    208.2,
                    199.42,
                    91.28,
                    77.99,
                    149.68,
                    235.54,
                    84.46,
                    68.7,
                    178.89,
                    227.74,
                    73.62,
                    100.05,
                    213.8,
                    103.94,
                    250.8,
                    112.29,
                    65.98,
                    99.1,
                    104.34,
                    217,
                    57.47,
                    78.24,
                    94.38,
                    100.31,
                    74.29,
                    103.43,
                    99.83,
                    217.4,
                    79.79,
                    190.92,
                    94.76,
                    101.43,
                    115.86,
                    89.02,
                    93.62,
                    72.71,
                    94.45,
                    84.12,
                    89.11,
                    99.83,
                    69.67,
                    77.46,
                    100.54,
                    110.87,
                    73.6,
                    59.52,
                    182.9,
                    75.28,
                    100.75,
                    163.82,
                    110.42,
                    107.99,
                    90.22,
                    143.45,
                    78.57,
                    79.82,
                    95.88,
                    92.34,
                    116.84,
                    90.04,
                    255.17,
                    123.66,
                    112.16,
                    86.03,
                    227.96,
                    85.6,
                    111.68,
                    73.49,
                    87.82,
                    63.73,
                    85.55,
                    79.2,
                    105.93,
                    94.19,
                    69.28,
                    71.37,
                    110.18,
                    59.68,
                    94.24,
                    82.1,
                    62.62,
                    107.59,
                    116.98,
                    160.64,
                    81.13,
                    88.19,
                    127.13,
                    119.61,
                    143.47,
                    84.6,
                    158.93,
                    69.38,
                    72,
                    57.76,
                    65.42,
                    78.93,
                    98.34,
                    82.57,
                    124.37,
                    100.96,
                    59.85,
                    70.98,
                    82.12,
                    106.35,
                    96.01,
                    107.49,
                    88.47,
                    91.13,
                    80.72,
                    59.83,
                    60.22,
                    82.41,
                    102.42,
                    98.45,
                    93.51,
                    113.68,
                    97.41,
                    58.65,
                    81.68,
                    142.12,
                    125.3,
                    118.81,
                    84.16,
                    78.74,
                    57.51,
                    61.11,
                    78.3,
                    76.19,
                    115.99,
                    100.8,
                    98.27,
                    93.85,
                    94.69,
                    56.12,
                    196.81,
                    87.81,
                    222.66,
                    223.58,
                    85.77,
                    88.23,
                    73.65,
                    141.8,
                    102.88,
                    67.07,
                    69.88,
                    123.81,
                    73.36,
                    90.54,
                    69.24,
                    192.39,
                    74.35,
                    71.94,
                    82.35,
                    97.57,
                    83.3,
                    85.07,
                    79.96,
                    70.96,
                    82.86,
                    201.38,
                    91.82,
                    91.85,
                    99.23,
                    68.13,
                    93.76,
                    103.89,
                    89.53,
                    236.14,
                    99.76,
                    193.81,
                    97.27,
                    137.77,
                    105.19,
                    68.79,
                    94.19,
                    121.17,
                    106.41,
                    104.79,
                    82.18,
                    96.81,
                    107.42,
                    69.2,
                    92.73,
                    86.11,
                    111.78,
                    78.16,
                    105.77,
                    77.53,
                    77.35,
                    82.36,
                    239.95,
                    61.96,
                    72.1,
                    60.77,
                    71.06,
                    60.36,
                    83.33,
                    65.33,
                    106.08,
                    156.45,
                    60.05,
                    114.05,
                    202.21,
                    57.28,
                    63.6,
                    80.01,
                    58.42,
                    67.38,
                    73.58,
                    103.92,
                    80.22,
                    103.76,
                    77.06,
                    181.3,
                    85.29,
                    107.59,
                    70.73,
                    72.75,
                    95.47,
                    70.54,
                    100.03,
                    198.79,
                    147.04,
                    64.92,
                    154.6,
                    95.98,
                    102.51,
                    96.52,
                    232.12,
                    78.12,
                    70.04,
                    97.61,
                    113.11,
                    71.06,
                    81.94,
                    96.37,
                    114.16,
                    93.58,
                    73.89,
                    107.83,
                    107.21,
                    99.35,
                    203.57,
                    81.51,
                    69.26,
                    86.09,
                    72.94,
                    60.32,
                    133.24,
                    65.01,
                    74.63,
                    230.78,
                    72.5,
                    68.48,
                    85.03,
                    80.76,
                    95.36,
                    89.18,
                    91.53,
                    65.16,
                    74.53,
                    227.89,
                    121.46,
                    216.71,
                    75.25,
                    91.82,
                    56.37,
                    149.15,
                    202.67,
                    65.38,
                    90.31,
                    221.8,
                    73.39,
                    147.12,
                    109.85,
                    103.21,
                    81.25,
                    84.69,
                    87.1,
                    90.91,
                    64.4,
                    67.29,
                    124.48,
                    87.51,
                    93.15,
                    64.87,
                    90.68,
                    104.64,
                    92.44,
                    120.46,
                    89.87,
                    105.28,
                    131.8,
                    101.07,
                    79.8,
                    103.17,
                    62.52,
                    110.36,
                    140.07,
                    106.85,
                    102.07,
                    202.38,
                    67.07,
                    73.7,
                    77.59,
                    215.81,
                    65.4,
                    139.72,
                    149.17,
                    125.74,
                    90.21,
                    139.48,
                    90.77,
                    220.24,
                    81.42,
                    102.36,
                    82.85,
                    102.11,
                    80.92,
                    71.8,
                    88.47,
                    67.68,
                    83.58,
                    104.04,
                    69.4,
                    106.22,
                    112.46,
                    72.42,
                    267.61,
                    109.46,
                    120.05,
                    106.33,
                    83.13,
                    79.54,
                    91.36,
                    79.27,
                    113.21,
                    105.99,
                    59.93,
                    88.83,
                    115.42,
                    71.93,
                    161.95,
                    104.55,
                    82.02,
                    78.02,
                    115.21,
                    65.12,
                    88.2,
                    147.42,
                    86.53,
                    91.95,
                    63.72,
                    63.78,
                    55.64,
                    88.88,
                    114.61,
                    56.08,
                    59.62,
                    176.71,
                    80.07,
                    102.46,
                    161,
                    81.26,
                    157.67,
                    89.59,
                    64.02,
                    110.69,
                    71.97,
                    82.07,
                    207.62,
                    108.64,
                    201.58,
                    116.2,
                    231.43,
                    112.62,
                    220.26,
                    84.37,
                    82.83,
                    102.48,
                    69.12,
                    211.12,
                    108.72,
                    73.78,
                    59.48,
                    75.77,
                    80.96,
                    82.4,
                    78.93,
                    80.59,
                    70.59,
                    98.57,
                    61.87,
                    68.88,
                    69.23,
                    73.2,
                    103.45,
                    104.86,
                    90.3,
                    90.87,
                    76.21,
                    74.14,
                    87.25,
                    215.33,
                    88.38,
                    104.4,
                    104.92,
                    106.54,
                    62.91,
                    61.47,
                    88.5,
                    107.61,
                    90.77,
                    228.2,
                    92.15,
                    94.96,
                    89.52,
                    66.59,
                    80.1,
                    73.72,
                    90.49,
                    92.99,
                    65.51,
                    95.29,
                    83.7,
                    63.16,
                    87.77,
                    87.52,
                    113.65,
                    65.93,
                    93.78,
                    223.9,
                    77.54,
                    93.18,
                    169.74,
                    101.93,
                    82.25,
                    85.81,
                    85.27,
                    86.06,
                    104.36,
                    78.29,
                    207.96,
                    105.52,
                    109.27,
                    91.34,
                    176.78,
                    67.73,
                    70.29,
                    91.47,
                    205.01,
                    73.87,
                    64.44,
                    111.65,
                    90.65,
                    94.2,
                    56.95,
                    92.37,
                    191.78,
                    86.36,
                    82.72,
                    91.85,
                    88.89,
                    79.55,
                    108.62,
                    88.49,
                    91.85,
                    72.01,
                    81.96,
                    70.56,
                    71.02,
                    127.2,
                    69.76,
                    74.63,
                    102.27,
                    73.56,
                    57.77,
                    151.25,
                    78.32,
                    71.5,
                    84.7,
                    127.28,
                    80.72,
                    72.6,
                    69.77,
                    84.43,
                    84.13,
                    81.54,
                    57.17,
                    86.15,
                    163.02,
                    110.41,
                    102.58,
                    90.97,
                    140.96,
                    64.18,
                    127.57,
                    109.23,
                    124.49,
                    74.08,
                    75.98,
                    76.44,
                    214.43,
                    79.03,
                    66.46,
                    56.42,
                    112.72,
                    72.33,
                    73.48,
                    84.78,
                    164.77,
                    220.64,
                    69.53,
                    83.93,
                    112.54,
                    75.25,
                    204.77,
                    63.86,
                    72.2,
                    80.08,
                    114.32,
                    80.82,
                    93.67,
                    87.15,
                    80.72,
                    98.14,
                    134.24,
                    248.37,
                    70.55,
                    124.38,
                    92.21,
                    148.72,
                    79.25,
                    82.09,
                    194.53,
                    98.84,
                    135.74,
                    66.55,
                    115.69,
                    67.76,
                    88.65,
                    95.49,
                    59.07,
                    228.92,
                    62.89,
                    96.84,
                    81.25,
                    92.71,
                    85.59,
                    89.06,
                    87.44,
                    64.07,
                    79.39,
                    81.73,
                    105.52,
                    77.55,
                    226.73,
                    89.74,
                    219.17,
                    74.85,
                    55.96,
                    215.92,
                    104.05,
                    62.54,
                    76.81,
                    198.12,
                    78,
                    79.44,
                    75.82,
                    240.86,
                    263.56,
                    118.44,
                    97.37,
                    78.88,
                    83.61,
                    73.19,
                    87.87,
                    96.7,
                    91.05,
                    200.14,
                    73.04,
                    85.81,
                    65.41,
                    108.68,
                    88.79,
                    107.82,
                    97.39,
                    77.91,
                    103.6,
                    159.7,
                    118.22,
                    85.59,
                    84.42,
                    81.11,
                    207.71,
                    99.84,
                    98.05,
                    105.9,
                    146.21,
                    79.94,
                    67.06,
                    82.68,
                    228.05,
                    90.06,
                    119.9,
                    94.53,
                    64.66,
                    103.79,
                    88.51,
                    92.59,
                    102.89,
                    92.26,
                    80,
                    56.75,
                    104.66,
                    60.39,
                    223.14,
                    105.51,
                    71.06,
                    101.24,
                    91.19,
                    174.43,
                    214.51,
                    72.64,
                    141.16,
                    89.61,
                    76.42,
                    111.81,
                    57.57,
                    77.82,
                    91.02,
                    65.46,
                    131.19,
                    79.89,
                    231.31,
                    91.57,
                    238.78,
                    87.18,
                    78.94,
                    110.28,
                    71.66,
                    83.64,
                    233.59,
                    84.88,
                    97.95,
                    58.19,
                    70.11,
                    112.77,
                    75.46,
                    100.22,
                    81.77,
                    94.25,
                    188.13,
                    68.27,
                    100.12,
                    151.23,
                    112.41,
                    205.97,
                    112.19,
                    71.93,
                    138.02,
                    66.16,
                    105.73,
                    78.34,
                    102.1,
                    97.37,
                    193.87,
                    78.32,
                    130,
                    74,
                    111.04,
                    214.77,
                    97.25,
                    79.95,
                    162.24,
                    74.36,
                    98.35,
                    75.73,
                    85.86,
                    80.34,
                    108.18,
                    85.23,
                    189.88,
                    197.11,
                    100.08,
                    84.07,
                    99.65,
                    82.33,
                    108.71,
                    64.94,
                    83.5,
                    192.47,
                    125.89,
                    87.72,
                    68.94,
                    66.51,
                    85.82,
                    87.47,
                    85.12,
                    103.37,
                    81.68,
                    76.51,
                    65.12,
                    109.88,
                    199.38,
                    65.77,
                    55.72,
                    75.67,
                    88.18,
                    95.94,
                    86.93,
                    85.17,
                    111.1,
                    97.47,
                    79.21,
                    83.97,
                    98.55,
                    202.98,
                    60.7,
                    92.22,
                    79.94,
                    83.68,
                    69.92,
                    95.32,
                    107.78,
                    198.32,
                    100.16,
                    96.02,
                    112.69,
                    60.61,
                    79.77,
                    87.41,
                    226.38,
                    124.64,
                    69.42,
                    77.68,
                    112.79,
                    236.79,
                    219.82,
                    82.05,
                    104.08,
                    101.57,
                    71.32,
                    239.19,
                    78.45,
                    61.11,
                    83.15,
                    78.7,
                    111.94,
                    104.77,
                    104.26,
                    113.84,
                    133.62,
                    111.96,
                    112.44,
                    123.61,
                    206.62,
                    216.88,
                    110.38,
                    204.92,
                    56.74,
                    68.35,
                    83.52,
                    59.74,
                    81.59,
                    123.83,
                    226.84,
                    93.2,
                    85.84,
                    74.64,
                    80.17,
                    85.03,
                    234.35,
                    66.55,
                    88.38,
                    68.4,
                    96.95,
                    66.24,
                    84.86,
                    85.91,
                    75.34,
                    200.73,
                    114.09,
                    67.3,
                    72.54,
                    96.01,
                    89.16,
                    108.64,
                    83.66,
                    81.21,
                    86.96,
                    92.95,
                    85.52,
                    159.39,
                    202.51,
                    82.24,
                    91.85,
                    105.49,
                    101.53,
                    126.04,
                    95.49,
                    218,
                    79.7,
                    209.15,
                    70.22,
                    83.57,
                    60.6,
                    162.72,
                    73.27,
                    90,
                    78.28,
                    87.81,
                    196.5,
                    142.31,
                    94.96,
                    83.78,
                    86.1,
                    66.96,
                    76.7,
                    103.12,
                    84.03,
                    74.15,
                    73.29,
                    59.31,
                    209.5,
                    90.07,
                    119.32,
                    99.12,
                    152.84,
                    78.23,
                    76.05,
                    99.91,
                    76.1,
                    116.21,
                    55.28,
                    103.73,
                    153.08,
                    98.69,
                    94.11,
                    91.35,
                    82.48,
                    99.76,
                    111.1,
                    84.19,
                    126.35,
                    87.5,
                    133.13,
                    96.1,
                    108.61,
                    205.23,
                    76.74,
                    138.55,
                    234.27,
                    75.16,
                    101.19,
                    107.74,
                    62.32,
                    131.28,
                    67.02,
                    76.72,
                    125.98,
                    72.09,
                    88.05,
                    55.47,
                    145.94,
                    239.21,
                    196.08,
                    93.93,
                    83.74,
                    119.58,
                    65.79,
                    176.38,
                    175.74,
                    193.45,
                    85.84,
                    93.85,
                    86.21,
                    95.87,
                    180.45,
                    60.77,
                    102.84,
                    130.37,
                    65.44,
                    79.84,
                    62.61,
                    108.8,
                    92.35,
                    76.57,
                    69.5,
                    69.48,
                    89.18,
                    68.09,
                    92.71,
                    78.24,
                    84.66,
                    90.35,
                    68.12,
                    59.14,
                    85.64,
                    56.08,
                    99,
                    93.6,
                    114.09,
                    57.42,
                    100.01,
                    62,
                    103.61,
                    118.46,
                    94.77,
                    72.12,
                    155.23,
                    81.92,
                    67.1,
                    58.01,
                    173.9,
                    106.27,
                    96.28,
                    122.73,
                    104.12,
                    106.95,
                    94.63,
                    86.97,
                    99.94,
                    145.46,
                    74.86,
                    70.07,
                    104.21,
                    157.77,
                    101.81,
                    103,
                    101.85,
                    85.92,
                    56.85,
                    63.01,
                    65.48,
                    68.6,
                    81.68,
                    72.53,
                    81.78,
                    116.85,
                    96.21,
                    78.26,
                    82.53,
                    71.25,
                    129.73,
                    56.79,
                    100.16,
                    97.6,
                    90.54,
                    105.88,
                    217.94,
                    93.28,
                    111.27,
                    91.04,
                    87.2,
                    216.64,
                    74.28,
                    57.6,
                    173.97,
                    65.25,
                    124.37,
                    102.39,
                    79.17,
                    71.08,
                    81.54,
                    159.67,
                    93.96,
                    103.01,
                    92.49,
                    208.85,
                    122.39,
                    65.91,
                    219.7,
                    65.7,
                    67.08,
                    107.58,
                    95.87,
                    68.17,
                    95.37,
                    90,
                    106.1,
                    56.13,
                    104.03,
                    84.35,
                    67.99,
                    118.93,
                    185.28,
                    82.08,
                    88.32,
                    69.54,
                    62.12,
                    198.3,
                    100.06,
                    101.13,
                    91.09,
                    61.54,
                    62.02,
                    97.34,
                    67.1,
                    206.66,
                    95.79,
                    116.78,
                    117.63,
                    60.01,
                    64.6,
                    71.63,
                    87.79,
                    99.64,
                    200.68,
                    98.37,
                    117.98,
                    218.6,
                    101.3,
                    79.51,
                    223.26,
                    97.22,
                    221.83,
                    74.61,
                    60.91,
                    83.6,
                    77.5,
                    61.1,
                    100.71,
                    65.21,
                    119.77,
                    102.39,
                    59.67,
                    83.16,
                    218.1,
                    76.45,
                    200.46,
                    95.7,
                    70.23,
                    75.15,
                    90.67,
                    84.79,
                    147.5,
                    134.12,
                    82.62,
                    125.11,
                    92.14,
                    217.79,
                    95.62,
                    93.8,
                    90.61,
                    139.2,
                    77.01,
                    105.26,
                    99.07,
                    147.74,
                    61.29,
                    98.92,
                    233.47,
                    85.53,
                    76.7,
                    67.87,
                    77.26,
                    91.28,
                    129.19,
                    97.86,
                    112.33,
                    110.41,
                    181.23,
                    103.58,
                    81.96,
                    76.12,
                    64.27,
                    200.98,
                    101.96,
                    85.79,
                    71.46,
                    95.49,
                    87.62,
                    118.55,
                    82.14,
                    219.67,
                    135.84,
                    90.38,
                    156.69,
                    158.9,
                    247.97,
                    114.71,
                    58.55,
                    231.15,
                    68.18,
                    186.54,
                    96.14,
                    101.93,
                    83.1,
                    110.96,
                    122.83,
                    91.65,
                    84.1,
                    118.85,
                    128.72,
                    98.05,
                    96.19,
                    98.07,
                    71.4,
                    82.27,
                    158.33,
                    72.18,
                    95.94,
                    87.15,
                    89.31,
                    64.84,
                    92.76,
                    87,
                    145.25,
                    88.6,
                    57.59,
                    59.43,
                    65.43,
                    154.03,
                    139.81,
                    111.81,
                    106.84,
                    221.06,
                    69.97,
                    77.07,
                    59.49,
                    93.97,
                    163.17,
                    212.62,
                    128.63,
                    84.1,
                    77.6,
                    70.51,
                    109.19,
                    55.23,
                    120.15,
                    72.16,
                    95.89,
                    64.68,
                    70.51,
                    81.77,
                    66.47,
                    146.08,
                    91.68,
                    108.96,
                    113.41,
                    111.08,
                    217.74,
                    78.5,
                    89.06,
                    74.8,
                    80.2,
                    208.99,
                    99.72,
                    197.36,
                    86.06,
                    123.08,
                    75,
                    105.9,
                    73.87,
                    78.04,
                    107.74,
                    60.64,
                    82.57,
                    115.98,
                    110.38,
                    92.59,
                    82.64,
                    70.28,
                    106.54,
                    59.11,
                    58.89,
                    73.57,
                    72.04,
                    125.63,
                    77.94,
                    68.99,
                    65.36,
                    80.27,
                    81.73,
                    79.22,
                    142.63,
                    97.05,
                    70.38,
                    114.46,
                    64.62,
                    94.12,
                    70.19,
                    115.52,
                    103.29,
                    92.74,
                    232.64,
                    82.46,
                    63.57,
                    73.24,
                    78.43,
                    57.46,
                    104.16,
                    110.42,
                    119.4,
                    119.13,
                    120.22,
                    80.8,
                    57.96,
                    81.24,
                    70.91,
                    87.12,
                    126.09,
                    76.42,
                    56.33,
                    95.23,
                    71.18,
                    87.71,
                    115.68,
                    207.37,
                    69.72,
                    111.84,
                    201.96,
                    68.68,
                    56.9,
                    99.44,
                    78.85,
                    123.89,
                    90.44,
                    85.66,
                    71.79,
                    167.16,
                    131.05,
                    86.92,
                    59.62,
                    103.72,
                    77.1,
                    94.75,
                    76.09,
                    61.8,
                    83.73,
                    103.65,
                    86.19,
                    131.42,
                    69.46,
                    76.78,
                    103.78,
                    213.43,
                    93.52,
                    115.07,
                    83.16,
                    88.06,
                    80.57,
                    248.24,
                    57.79,
                    87.4,
                    58.01,
                    79.42,
                    82.94,
                    81.58,
                    62.21,
                    229.94,
                    117.77,
                    66.69,
                    122.23,
                    168.68,
                    119.9,
                    110.33,
                    77.95,
                    80.35,
                    57.38,
                    70.66,
                    202.06,
                    67.56,
                    86.4,
                    103.22,
                    88.85,
                    63.9,
                    81.32,
                    78.11,
                    134.65,
                    77.94,
                    56.94,
                    117.03,
                    207.84,
                    228.26,
                    84.43,
                    132.46,
                    75.13,
                    76.64,
                    85.9,
                    76.19,
                    85.77,
                    63.42,
                    203.76,
                    98.44,
                    79.57,
                    63.98,
                    101.46,
                    74.66,
                    68.66,
                    205.78,
                    111.24,
                    134.76,
                    110.1,
                    100.8,
                    113.08,
                    56.48,
                    77.77,
                    83.59,
                    179.67,
                    230.74,
                    216.19,
                    83.7,
                    200.66,
                    228.5,
                    70.43,
                    74.39,
                    87.91,
                    118.55,
                    232.29,
                    125.32,
                    78.98,
                    100.2,
                    200.91,
                    95.24,
                    56.64,
                    112.96,
                    236.04,
                    73,
                    61.13,
                    88.56,
                    66.16,
                    88.98,
                    94.39,
                    87.39,
                    77.91,
                    86.85,
                    94.37,
                    76.64,
                    254.95,
                    107.33,
                    80.94,
                    112.02,
                    196.58,
                    69.94,
                    96.02,
                    189.82,
                    89.68,
                    101.06,
                    62.66,
                    108.38,
                    78.79,
                    68.01,
                    90.11,
                    193.61,
                    195.74,
                    141.37,
                    90.71,
                    85.18,
                    130.07,
                    74.24,
                    79.98,
                    106.76,
                    76.34,
                    221.24,
                    55.93,
                    73.94,
                    65.58,
                    83.8,
                    95.87,
                    84.93,
                    103.08,
                    85.98,
                    83.75,
                    125.43,
                    101.58,
                    149.8,
                    112.55,
                    70.87,
                    92.96,
                    112.37,
                    151.26,
                    73.81,
                    77.2,
                    76.08,
                    123.98,
                    108.51,
                    98.07,
                    85.82,
                    86.21,
                    99.01,
                    85.07,
                    88,
                    144.14,
                    78.8,
                    86.78,
                    105.72,
                    64.37,
                    58.66,
                    192.5,
                    89.42,
                    212.92,
                    60.73,
                    82.26,
                    87.4,
                    86.95,
                    74,
                    73.98,
                    124.78,
                    191.94,
                    247.87,
                    83.2,
                    88.62,
                    81.51,
                    115.71,
                    229.73,
                    57.4,
                    100.47,
                    81.36,
                    261.67,
                    98.9,
                    95.19,
                    105.28,
                    89.41,
                    70.56,
                    62.68,
                    71.77,
                    77.99,
                    256.74,
                    93.72,
                    60.67,
                    112.08,
                    221.08,
                    101.81,
                    60.17,
                    65.29,
                    153.24,
                    61.42,
                    86.67,
                    82.42,
                    100.54,
                    111.48,
                    85.33,
                    67.97,
                    77.92,
                    80.54,
                    76.47,
                    86.07,
                    106.52,
                    89.73,
                    208.39,
                    128.61,
                    57.56,
                    227.23,
                    90.11,
                    203.27,
                    234.5,
                    71.12,
                    190.67,
                    82.63,
                    92.75,
                    117.63,
                    197.06,
                    216.07,
                    76.03,
                    62.44,
                    108.82,
                    101.66,
                    116.44,
                    93.3,
                    144.33,
                    98.02,
                    80.67,
                    76.35,
                    57.56,
                    179.14,
                    63.49,
                    145.18,
                    66.3,
                    120.56,
                    150.74,
                    81.38,
                    203.87,
                    84.68,
                    91.89,
                    88.97,
                    116.98,
                    106.53,
                    58.42,
                    78.05,
                    77.16,
                    86.3,
                    83.55,
                    102,
                    68.07,
                    82.62,
                    102.03,
                    235.06,
                    76.98,
                    82.31,
                    83.84,
                    98.14,
                    84.04,
                    74.34,
                    72.99,
                    99.96,
                    85.27,
                    60.32,
                    94.14,
                    195.43,
                    200.25,
                    90.31,
                    95.33,
                    223.64,
                    76.43,
                    98.66,
                    85.46,
                    199.78,
                    176.42,
                    101.56,
                    84.48,
                    72.84,
                    70.89,
                    108.14,
                    244.3,
                    88.04,
                    106.73,
                    106.03,
                    80.88,
                    127.4,
                    87.72,
                    58.23,
                    69.37,
                    58.64,
                    59.67,
                    105.08,
                    89.3,
                    61.38,
                    56.11,
                    75.53,
                    107.47,
                    76,
                    90.28,
                    65.22,
                    86.24,
                    166.38,
                    78.91,
                    226.28,
                    90.73,
                    172.86,
                    213.92,
                    92.23,
                    79.81,
                    81.78,
                    102,
                    68.42,
                    94.68,
                    125.33,
                    212.19,
                    89,
                    60.98,
                    58.19,
                    84.99,
                    62.13,
                    57.1,
                    97.95,
                    93.88,
                    90.3,
                    83.14,
                    100.47,
                    90.78,
                    66.46,
                    73.56,
                    200.8,
                    92.87,
                    99.44,
                    77.96,
                    60.13,
                    88.17,
                    72.34,
                    68.72,
                    222.58,
                    66.06,
                    156.43,
                    105.76,
                    73.07,
                    99.48,
                    79.6,
                    70,
                    112.98,
                    73.2,
                    102.73,
                    74.88,
                    122.43,
                    84.21,
                    80.42,
                    80.44,
                    80.63,
                    104.12,
                    96.82,
                    88.1,
                    64.85,
                    102.87,
                    97.68,
                    97.58,
                    74.16,
                    100.93,
                    232.78,
                    86.96,
                    67.5,
                    81.21,
                    110.14,
                    120.44,
                    187.47,
                    94.62,
                    89.57,
                    95.31,
                    75.07,
                    106.65,
                    234.06,
                    58.81,
                    242.62,
                    93.04,
                    63.56,
                    96.98,
                    66.7,
                    79.66,
                    90.16,
                    104.09,
                    90.96,
                    152.38,
                    114.54,
                    174.54,
                    106.47,
                    73.63,
                    98.52,
                    62.93,
                    76.56,
                    108.03,
                    83.16,
                    67.9,
                    115.46,
                    123.94,
                    231.54,
                    219.8,
                    187.99,
                    234.45,
                    75.47,
                    98.24,
                    66.2,
                    94.67,
                    75.95,
                    111.79,
                    86.91,
                    59.36,
                    66.67,
                    139.87,
                    67.92,
                    83.62,
                    70.53,
                    115.91,
                    59.74,
                    62.64,
                    78.68,
                    217.57,
                    63.28,
                    70.48,
                    77.29,
                    108.51,
                    97.65,
                    121.83,
                    58.35,
                    65.42,
                    69.34,
                    109.09,
                    66.71,
                    114.92,
                    165.36,
                    126.34,
                    92.86,
                    96.77,
                    89.32,
                    65.63,
                    136.18,
                    71.29,
                    76.58,
                    111.94,
                    81.64,
                    110.32,
                    79,
                    95.08,
                    57.83,
                    84.08,
                    234.51,
                    142.64,
                    69.77,
                    71.4,
                    96.85,
                    182.22,
                    67.26,
                    60.02,
                    113.45,
                    112.31,
                    68.53,
                    57.15,
                    214.73,
                    91.82,
                    63.41,
                    106.24,
                    83.01,
                    67.92,
                    74.99,
                    61.88,
                    65.67,
                    110.18,
                    119.3,
                    208.69,
                    95.18,
                    107.72,
                    90.29,
                    101.46,
                    86.58,
                    113.26,
                    84.92,
                    93.93,
                    129.31,
                    89.43,
                    66.55,
                    231.72,
                    96.69,
                    102.13,
                    100.88,
                    66.22,
                    206.53,
                    83.91,
                    67.92,
                    103.66,
                    70.73,
                    77.45,
                    193.8,
                    84.09,
                    87.06,
                    92.64,
                    99.36,
                    135.63,
                    95.44,
                    72.71,
                    65.45,
                    203.01,
                    110.84,
                    83.12,
                    55.12,
                    61.57,
                    83.1,
                    66.32,
                    72.56,
                    97.99,
                    63.27,
                    79.6,
                    177.56,
                    81.31,
                    59.91,
                    198.84,
                    87.17,
                    96.03,
                    84.54,
                    70.51,
                    56.87,
                    67.55,
                    243.52,
                    69.06,
                    73.89,
                    84.49,
                    73.71,
                    129.01,
                    72.96,
                    110.23,
                    79.49,
                    89.33,
                    68.38,
                    135.79,
                    93.2,
                    208.31,
                    111.33,
                    98.61,
                    86.61,
                    80.44,
                    91.21,
                    103.69,
                    74.12,
                    71.08,
                    58.39,
                    176.34,
                    73.76,
                    67.21,
                    111.36,
                    84.07,
                    117.31,
                    132.88,
                    211.83,
                    124.92,
                    57.42,
                    215.69,
                    154.67,
                    67.66,
                    153.48,
                    62.63,
                    77.93,
                    106.69,
                    83.07,
                    140.14,
                    111.37,
                    99,
                    83.88,
                    86.21,
                    57.06,
                    112.25,
                    81.06,
                    104.37,
                    124.31,
                    101.95,
                    116.95,
                    105.48,
                    100.6,
                    75.9,
                    267.6,
                    109.03,
                    225.35,
                    196.26,
                    95.42,
                    107.43,
                    56.85,
                    102.15,
                    88.68,
                    182.52,
                    93.97,
                    67.99,
                    83.37,
                    124.66,
                    212.87,
                    96.75,
                    71.34,
                    183.43,
                    101.19,
                    88.51,
                    126.85,
                    74.17,
                    76.04,
                    73.87,
                    99.07,
                    82.93,
                    133.24,
                    69.88,
                    69.12,
                    86.05,
                    185.27,
                    81.9,
                    99.58,
                    124.54,
                    153.34,
                    112.35,
                    160.76,
                    73.29,
                    206.49,
                    77.42,
                    117.59,
                    116.68,
                    253.86,
                    203.36,
                    125.87,
                    64.09,
                    65.33,
                    96.84,
                    175.92,
                    100.65,
                    112.39,
                    81.1,
                    98.3,
                    89.68,
                    95.16,
                    91.04,
                    96.86,
                    55.84,
                    84.04,
                    92.06,
                    89.61,
                    69.92,
                    89.29,
                    120.23,
                    60.22,
                    223.78,
                    211.58,
                    179.38,
                    193.88,
                    89.01,
                    118.41,
                    138.51,
                    120.03,
                    91.01,
                    135.32,
                    58.72,
                    90.42,
                    104,
                    102.5,
                    174.37,
                    90.52,
                    108.35,
                    72.03,
                    90.57,
                    97.04,
                    83.89,
                    152.56,
                    75.93,
                    76.89,
                    100.85,
                    95.05,
                    82.35,
                    76.62,
                    91.68,
                    71.97,
                    97.95,
                    77.93,
                    82.85,
                    125.2,
                    82.99,
                    166.29,
                    85.28
                  ],
                  "x0": " ",
                  "xaxis": "x",
                  "y0": " ",
                  "yaxis": "y"
                }
              ],
              "layout": {
                "boxmode": "group",
                "legend": {
                  "title": {
                    "text": "stroke"
                  },
                  "tracegroupgap": 0
                },
                "margin": {
                  "t": 60
                },
                "template": {
                  "data": {
                    "bar": [
                      {
                        "error_x": {
                          "color": "#2a3f5f"
                        },
                        "error_y": {
                          "color": "#2a3f5f"
                        },
                        "marker": {
                          "line": {
                            "color": "#E5ECF6",
                            "width": 0.5
                          },
                          "pattern": {
                            "fillmode": "overlay",
                            "size": 10,
                            "solidity": 0.2
                          }
                        },
                        "type": "bar"
                      }
                    ],
                    "barpolar": [
                      {
                        "marker": {
                          "line": {
                            "color": "#E5ECF6",
                            "width": 0.5
                          },
                          "pattern": {
                            "fillmode": "overlay",
                            "size": 10,
                            "solidity": 0.2
                          }
                        },
                        "type": "barpolar"
                      }
                    ],
                    "carpet": [
                      {
                        "aaxis": {
                          "endlinecolor": "#2a3f5f",
                          "gridcolor": "white",
                          "linecolor": "white",
                          "minorgridcolor": "white",
                          "startlinecolor": "#2a3f5f"
                        },
                        "baxis": {
                          "endlinecolor": "#2a3f5f",
                          "gridcolor": "white",
                          "linecolor": "white",
                          "minorgridcolor": "white",
                          "startlinecolor": "#2a3f5f"
                        },
                        "type": "carpet"
                      }
                    ],
                    "choropleth": [
                      {
                        "colorbar": {
                          "outlinewidth": 0,
                          "ticks": ""
                        },
                        "type": "choropleth"
                      }
                    ],
                    "contour": [
                      {
                        "colorbar": {
                          "outlinewidth": 0,
                          "ticks": ""
                        },
                        "colorscale": [
                          [
                            0,
                            "#0d0887"
                          ],
                          [
                            0.1111111111111111,
                            "#46039f"
                          ],
                          [
                            0.2222222222222222,
                            "#7201a8"
                          ],
                          [
                            0.3333333333333333,
                            "#9c179e"
                          ],
                          [
                            0.4444444444444444,
                            "#bd3786"
                          ],
                          [
                            0.5555555555555556,
                            "#d8576b"
                          ],
                          [
                            0.6666666666666666,
                            "#ed7953"
                          ],
                          [
                            0.7777777777777778,
                            "#fb9f3a"
                          ],
                          [
                            0.8888888888888888,
                            "#fdca26"
                          ],
                          [
                            1,
                            "#f0f921"
                          ]
                        ],
                        "type": "contour"
                      }
                    ],
                    "contourcarpet": [
                      {
                        "colorbar": {
                          "outlinewidth": 0,
                          "ticks": ""
                        },
                        "type": "contourcarpet"
                      }
                    ],
                    "heatmap": [
                      {
                        "colorbar": {
                          "outlinewidth": 0,
                          "ticks": ""
                        },
                        "colorscale": [
                          [
                            0,
                            "#0d0887"
                          ],
                          [
                            0.1111111111111111,
                            "#46039f"
                          ],
                          [
                            0.2222222222222222,
                            "#7201a8"
                          ],
                          [
                            0.3333333333333333,
                            "#9c179e"
                          ],
                          [
                            0.4444444444444444,
                            "#bd3786"
                          ],
                          [
                            0.5555555555555556,
                            "#d8576b"
                          ],
                          [
                            0.6666666666666666,
                            "#ed7953"
                          ],
                          [
                            0.7777777777777778,
                            "#fb9f3a"
                          ],
                          [
                            0.8888888888888888,
                            "#fdca26"
                          ],
                          [
                            1,
                            "#f0f921"
                          ]
                        ],
                        "type": "heatmap"
                      }
                    ],
                    "heatmapgl": [
                      {
                        "colorbar": {
                          "outlinewidth": 0,
                          "ticks": ""
                        },
                        "colorscale": [
                          [
                            0,
                            "#0d0887"
                          ],
                          [
                            0.1111111111111111,
                            "#46039f"
                          ],
                          [
                            0.2222222222222222,
                            "#7201a8"
                          ],
                          [
                            0.3333333333333333,
                            "#9c179e"
                          ],
                          [
                            0.4444444444444444,
                            "#bd3786"
                          ],
                          [
                            0.5555555555555556,
                            "#d8576b"
                          ],
                          [
                            0.6666666666666666,
                            "#ed7953"
                          ],
                          [
                            0.7777777777777778,
                            "#fb9f3a"
                          ],
                          [
                            0.8888888888888888,
                            "#fdca26"
                          ],
                          [
                            1,
                            "#f0f921"
                          ]
                        ],
                        "type": "heatmapgl"
                      }
                    ],
                    "histogram": [
                      {
                        "marker": {
                          "pattern": {
                            "fillmode": "overlay",
                            "size": 10,
                            "solidity": 0.2
                          }
                        },
                        "type": "histogram"
                      }
                    ],
                    "histogram2d": [
                      {
                        "colorbar": {
                          "outlinewidth": 0,
                          "ticks": ""
                        },
                        "colorscale": [
                          [
                            0,
                            "#0d0887"
                          ],
                          [
                            0.1111111111111111,
                            "#46039f"
                          ],
                          [
                            0.2222222222222222,
                            "#7201a8"
                          ],
                          [
                            0.3333333333333333,
                            "#9c179e"
                          ],
                          [
                            0.4444444444444444,
                            "#bd3786"
                          ],
                          [
                            0.5555555555555556,
                            "#d8576b"
                          ],
                          [
                            0.6666666666666666,
                            "#ed7953"
                          ],
                          [
                            0.7777777777777778,
                            "#fb9f3a"
                          ],
                          [
                            0.8888888888888888,
                            "#fdca26"
                          ],
                          [
                            1,
                            "#f0f921"
                          ]
                        ],
                        "type": "histogram2d"
                      }
                    ],
                    "histogram2dcontour": [
                      {
                        "colorbar": {
                          "outlinewidth": 0,
                          "ticks": ""
                        },
                        "colorscale": [
                          [
                            0,
                            "#0d0887"
                          ],
                          [
                            0.1111111111111111,
                            "#46039f"
                          ],
                          [
                            0.2222222222222222,
                            "#7201a8"
                          ],
                          [
                            0.3333333333333333,
                            "#9c179e"
                          ],
                          [
                            0.4444444444444444,
                            "#bd3786"
                          ],
                          [
                            0.5555555555555556,
                            "#d8576b"
                          ],
                          [
                            0.6666666666666666,
                            "#ed7953"
                          ],
                          [
                            0.7777777777777778,
                            "#fb9f3a"
                          ],
                          [
                            0.8888888888888888,
                            "#fdca26"
                          ],
                          [
                            1,
                            "#f0f921"
                          ]
                        ],
                        "type": "histogram2dcontour"
                      }
                    ],
                    "mesh3d": [
                      {
                        "colorbar": {
                          "outlinewidth": 0,
                          "ticks": ""
                        },
                        "type": "mesh3d"
                      }
                    ],
                    "parcoords": [
                      {
                        "line": {
                          "colorbar": {
                            "outlinewidth": 0,
                            "ticks": ""
                          }
                        },
                        "type": "parcoords"
                      }
                    ],
                    "pie": [
                      {
                        "automargin": true,
                        "type": "pie"
                      }
                    ],
                    "scatter": [
                      {
                        "fillpattern": {
                          "fillmode": "overlay",
                          "size": 10,
                          "solidity": 0.2
                        },
                        "type": "scatter"
                      }
                    ],
                    "scatter3d": [
                      {
                        "line": {
                          "colorbar": {
                            "outlinewidth": 0,
                            "ticks": ""
                          }
                        },
                        "marker": {
                          "colorbar": {
                            "outlinewidth": 0,
                            "ticks": ""
                          }
                        },
                        "type": "scatter3d"
                      }
                    ],
                    "scattercarpet": [
                      {
                        "marker": {
                          "colorbar": {
                            "outlinewidth": 0,
                            "ticks": ""
                          }
                        },
                        "type": "scattercarpet"
                      }
                    ],
                    "scattergeo": [
                      {
                        "marker": {
                          "colorbar": {
                            "outlinewidth": 0,
                            "ticks": ""
                          }
                        },
                        "type": "scattergeo"
                      }
                    ],
                    "scattergl": [
                      {
                        "marker": {
                          "colorbar": {
                            "outlinewidth": 0,
                            "ticks": ""
                          }
                        },
                        "type": "scattergl"
                      }
                    ],
                    "scattermapbox": [
                      {
                        "marker": {
                          "colorbar": {
                            "outlinewidth": 0,
                            "ticks": ""
                          }
                        },
                        "type": "scattermapbox"
                      }
                    ],
                    "scatterpolar": [
                      {
                        "marker": {
                          "colorbar": {
                            "outlinewidth": 0,
                            "ticks": ""
                          }
                        },
                        "type": "scatterpolar"
                      }
                    ],
                    "scatterpolargl": [
                      {
                        "marker": {
                          "colorbar": {
                            "outlinewidth": 0,
                            "ticks": ""
                          }
                        },
                        "type": "scatterpolargl"
                      }
                    ],
                    "scatterternary": [
                      {
                        "marker": {
                          "colorbar": {
                            "outlinewidth": 0,
                            "ticks": ""
                          }
                        },
                        "type": "scatterternary"
                      }
                    ],
                    "surface": [
                      {
                        "colorbar": {
                          "outlinewidth": 0,
                          "ticks": ""
                        },
                        "colorscale": [
                          [
                            0,
                            "#0d0887"
                          ],
                          [
                            0.1111111111111111,
                            "#46039f"
                          ],
                          [
                            0.2222222222222222,
                            "#7201a8"
                          ],
                          [
                            0.3333333333333333,
                            "#9c179e"
                          ],
                          [
                            0.4444444444444444,
                            "#bd3786"
                          ],
                          [
                            0.5555555555555556,
                            "#d8576b"
                          ],
                          [
                            0.6666666666666666,
                            "#ed7953"
                          ],
                          [
                            0.7777777777777778,
                            "#fb9f3a"
                          ],
                          [
                            0.8888888888888888,
                            "#fdca26"
                          ],
                          [
                            1,
                            "#f0f921"
                          ]
                        ],
                        "type": "surface"
                      }
                    ],
                    "table": [
                      {
                        "cells": {
                          "fill": {
                            "color": "#EBF0F8"
                          },
                          "line": {
                            "color": "white"
                          }
                        },
                        "header": {
                          "fill": {
                            "color": "#C8D4E3"
                          },
                          "line": {
                            "color": "white"
                          }
                        },
                        "type": "table"
                      }
                    ]
                  },
                  "layout": {
                    "annotationdefaults": {
                      "arrowcolor": "#2a3f5f",
                      "arrowhead": 0,
                      "arrowwidth": 1
                    },
                    "autotypenumbers": "strict",
                    "coloraxis": {
                      "colorbar": {
                        "outlinewidth": 0,
                        "ticks": ""
                      }
                    },
                    "colorscale": {
                      "diverging": [
                        [
                          0,
                          "#8e0152"
                        ],
                        [
                          0.1,
                          "#c51b7d"
                        ],
                        [
                          0.2,
                          "#de77ae"
                        ],
                        [
                          0.3,
                          "#f1b6da"
                        ],
                        [
                          0.4,
                          "#fde0ef"
                        ],
                        [
                          0.5,
                          "#f7f7f7"
                        ],
                        [
                          0.6,
                          "#e6f5d0"
                        ],
                        [
                          0.7,
                          "#b8e186"
                        ],
                        [
                          0.8,
                          "#7fbc41"
                        ],
                        [
                          0.9,
                          "#4d9221"
                        ],
                        [
                          1,
                          "#276419"
                        ]
                      ],
                      "sequential": [
                        [
                          0,
                          "#0d0887"
                        ],
                        [
                          0.1111111111111111,
                          "#46039f"
                        ],
                        [
                          0.2222222222222222,
                          "#7201a8"
                        ],
                        [
                          0.3333333333333333,
                          "#9c179e"
                        ],
                        [
                          0.4444444444444444,
                          "#bd3786"
                        ],
                        [
                          0.5555555555555556,
                          "#d8576b"
                        ],
                        [
                          0.6666666666666666,
                          "#ed7953"
                        ],
                        [
                          0.7777777777777778,
                          "#fb9f3a"
                        ],
                        [
                          0.8888888888888888,
                          "#fdca26"
                        ],
                        [
                          1,
                          "#f0f921"
                        ]
                      ],
                      "sequentialminus": [
                        [
                          0,
                          "#0d0887"
                        ],
                        [
                          0.1111111111111111,
                          "#46039f"
                        ],
                        [
                          0.2222222222222222,
                          "#7201a8"
                        ],
                        [
                          0.3333333333333333,
                          "#9c179e"
                        ],
                        [
                          0.4444444444444444,
                          "#bd3786"
                        ],
                        [
                          0.5555555555555556,
                          "#d8576b"
                        ],
                        [
                          0.6666666666666666,
                          "#ed7953"
                        ],
                        [
                          0.7777777777777778,
                          "#fb9f3a"
                        ],
                        [
                          0.8888888888888888,
                          "#fdca26"
                        ],
                        [
                          1,
                          "#f0f921"
                        ]
                      ]
                    },
                    "colorway": [
                      "#636efa",
                      "#EF553B",
                      "#00cc96",
                      "#ab63fa",
                      "#FFA15A",
                      "#19d3f3",
                      "#FF6692",
                      "#B6E880",
                      "#FF97FF",
                      "#FECB52"
                    ],
                    "font": {
                      "color": "#2a3f5f"
                    },
                    "geo": {
                      "bgcolor": "white",
                      "lakecolor": "white",
                      "landcolor": "#E5ECF6",
                      "showlakes": true,
                      "showland": true,
                      "subunitcolor": "white"
                    },
                    "hoverlabel": {
                      "align": "left"
                    },
                    "hovermode": "closest",
                    "mapbox": {
                      "style": "light"
                    },
                    "paper_bgcolor": "white",
                    "plot_bgcolor": "#E5ECF6",
                    "polar": {
                      "angularaxis": {
                        "gridcolor": "white",
                        "linecolor": "white",
                        "ticks": ""
                      },
                      "bgcolor": "#E5ECF6",
                      "radialaxis": {
                        "gridcolor": "white",
                        "linecolor": "white",
                        "ticks": ""
                      }
                    },
                    "scene": {
                      "xaxis": {
                        "backgroundcolor": "#E5ECF6",
                        "gridcolor": "white",
                        "gridwidth": 2,
                        "linecolor": "white",
                        "showbackground": true,
                        "ticks": "",
                        "zerolinecolor": "white"
                      },
                      "yaxis": {
                        "backgroundcolor": "#E5ECF6",
                        "gridcolor": "white",
                        "gridwidth": 2,
                        "linecolor": "white",
                        "showbackground": true,
                        "ticks": "",
                        "zerolinecolor": "white"
                      },
                      "zaxis": {
                        "backgroundcolor": "#E5ECF6",
                        "gridcolor": "white",
                        "gridwidth": 2,
                        "linecolor": "white",
                        "showbackground": true,
                        "ticks": "",
                        "zerolinecolor": "white"
                      }
                    },
                    "shapedefaults": {
                      "line": {
                        "color": "#2a3f5f"
                      }
                    },
                    "ternary": {
                      "aaxis": {
                        "gridcolor": "white",
                        "linecolor": "white",
                        "ticks": ""
                      },
                      "baxis": {
                        "gridcolor": "white",
                        "linecolor": "white",
                        "ticks": ""
                      },
                      "bgcolor": "#E5ECF6",
                      "caxis": {
                        "gridcolor": "white",
                        "linecolor": "white",
                        "ticks": ""
                      }
                    },
                    "title": {
                      "x": 0.05
                    },
                    "xaxis": {
                      "automargin": true,
                      "gridcolor": "white",
                      "linecolor": "white",
                      "ticks": "",
                      "title": {
                        "standoff": 15
                      },
                      "zerolinecolor": "white",
                      "zerolinewidth": 2
                    },
                    "yaxis": {
                      "automargin": true,
                      "gridcolor": "white",
                      "linecolor": "white",
                      "ticks": "",
                      "title": {
                        "standoff": 15
                      },
                      "zerolinecolor": "white",
                      "zerolinewidth": 2
                    }
                  }
                },
                "xaxis": {
                  "anchor": "y",
                  "domain": [
                    0,
                    1
                  ],
                  "title": {
                    "text": "avg_glucose_level"
                  }
                },
                "yaxis": {
                  "anchor": "x",
                  "domain": [
                    0,
                    1
                  ]
                }
              }
            }
          },
          "metadata": {},
          "output_type": "display_data"
        }
      ],
      "source": [
        "fig = px.box(stroke_dataset, x='avg_glucose_level', color='stroke')\n",
        "fig.show()"
      ]
    },
    {
      "cell_type": "code",
      "execution_count": 111,
      "metadata": {},
      "outputs": [],
      "source": [
        "not_stroke_avg_glu = stroke_dataset[stroke_dataset['stroke'] == 0]\n",
        "stroke_avg_glu =  stroke_dataset[stroke_dataset['stroke'] == 1]"
      ]
    },
    {
      "cell_type": "code",
      "execution_count": null,
      "metadata": {},
      "outputs": [],
      "source": []
    },
    {
      "cell_type": "code",
      "execution_count": null,
      "metadata": {},
      "outputs": [],
      "source": []
    },
    {
      "cell_type": "code",
      "execution_count": null,
      "metadata": {},
      "outputs": [],
      "source": []
    },
    {
      "cell_type": "code",
      "execution_count": null,
      "metadata": {},
      "outputs": [],
      "source": []
    },
    {
      "cell_type": "code",
      "execution_count": 45,
      "metadata": {},
      "outputs": [],
      "source": [
        "stroke_dataset.to_csv(r\"C:\\Users\\User\\Desktop\\my-projects\\stroke_prediction\\dataset\\updated_stoke_dataset.csv\", index=False)"
      ]
    },
    {
      "cell_type": "code",
      "execution_count": 47,
      "metadata": {},
      "outputs": [
        {
          "data": {
            "text/plain": [
              "Index(['gender', 'age', 'hypertension', 'heart_disease', 'ever_married',\n",
              "       'work_type', 'Residence_type', 'avg_glucose_level', 'bmi',\n",
              "       'smoking_status', 'stroke'],\n",
              "      dtype='object')"
            ]
          },
          "execution_count": 47,
          "metadata": {},
          "output_type": "execute_result"
        }
      ],
      "source": [
        "stroke_dataset.columns"
      ]
    },
    {
      "cell_type": "code",
      "execution_count": 73,
      "metadata": {},
      "outputs": [],
      "source": [
        "cat_columns = ['gender', 'hypertension', \n",
        "                'ever_married',\n",
        "                'work_type', 'Residence_type', \n",
        "                'smoking_status'\n",
        "  ]"
      ]
    },
    {
      "cell_type": "code",
      "execution_count": 74,
      "metadata": {},
      "outputs": [],
      "source": [
        "cat = stroke_dataset[cat_columns]"
      ]
    },
    {
      "cell_type": "code",
      "execution_count": 83,
      "metadata": {},
      "outputs": [],
      "source": [
        "#function for encoding categorical data to numeric\n",
        "def make_encoder(data):\n",
        "  cat_columns = ['gender', 'hypertension', \n",
        "                'ever_married',\n",
        "                'work_type', 'Residence_type', \n",
        "                'smoking_status'\n",
        "  ]\n",
        "  encoded_data = encoder.fit_transform(data[cat_columns])\n",
        "  encoded_data = encoded_data.toarray()\n",
        "  column_encoded_data = encoder.get_feature_names()\n",
        "  dataframe = pd.DataFrame(encoded_data, columns=column_encoded_data)\n",
        "  return dataframe, encoder\n",
        "\n",
        "encoded_data, data_encoder = make_encoder(cat)"
      ]
    },
    {
      "cell_type": "code",
      "execution_count": 84,
      "metadata": {},
      "outputs": [
        {
          "data": {
            "text/html": [
              "<div>\n",
              "<style scoped>\n",
              "    .dataframe tbody tr th:only-of-type {\n",
              "        vertical-align: middle;\n",
              "    }\n",
              "\n",
              "    .dataframe tbody tr th {\n",
              "        vertical-align: top;\n",
              "    }\n",
              "\n",
              "    .dataframe thead th {\n",
              "        text-align: right;\n",
              "    }\n",
              "</style>\n",
              "<table border=\"1\" class=\"dataframe\">\n",
              "  <thead>\n",
              "    <tr style=\"text-align: right;\">\n",
              "      <th></th>\n",
              "      <th>x0_Female</th>\n",
              "      <th>x0_Male</th>\n",
              "      <th>x1_0</th>\n",
              "      <th>x1_1</th>\n",
              "      <th>x2_No</th>\n",
              "      <th>x2_Yes</th>\n",
              "      <th>x3_Govt_job</th>\n",
              "      <th>x3_Never_worked</th>\n",
              "      <th>x3_Private</th>\n",
              "      <th>x3_Self-employed</th>\n",
              "      <th>x4_Rural</th>\n",
              "      <th>x4_Urban</th>\n",
              "      <th>x5_Unknown</th>\n",
              "      <th>x5_formerly smoked</th>\n",
              "      <th>x5_never smoked</th>\n",
              "      <th>x5_smokes</th>\n",
              "    </tr>\n",
              "  </thead>\n",
              "  <tbody>\n",
              "    <tr>\n",
              "      <th>0</th>\n",
              "      <td>0.0</td>\n",
              "      <td>1.0</td>\n",
              "      <td>1.0</td>\n",
              "      <td>0.0</td>\n",
              "      <td>0.0</td>\n",
              "      <td>1.0</td>\n",
              "      <td>0.0</td>\n",
              "      <td>0.0</td>\n",
              "      <td>1.0</td>\n",
              "      <td>0.0</td>\n",
              "      <td>0.0</td>\n",
              "      <td>1.0</td>\n",
              "      <td>0.0</td>\n",
              "      <td>1.0</td>\n",
              "      <td>0.0</td>\n",
              "      <td>0.0</td>\n",
              "    </tr>\n",
              "    <tr>\n",
              "      <th>1</th>\n",
              "      <td>0.0</td>\n",
              "      <td>1.0</td>\n",
              "      <td>1.0</td>\n",
              "      <td>0.0</td>\n",
              "      <td>0.0</td>\n",
              "      <td>1.0</td>\n",
              "      <td>0.0</td>\n",
              "      <td>0.0</td>\n",
              "      <td>1.0</td>\n",
              "      <td>0.0</td>\n",
              "      <td>1.0</td>\n",
              "      <td>0.0</td>\n",
              "      <td>0.0</td>\n",
              "      <td>0.0</td>\n",
              "      <td>1.0</td>\n",
              "      <td>0.0</td>\n",
              "    </tr>\n",
              "    <tr>\n",
              "      <th>2</th>\n",
              "      <td>1.0</td>\n",
              "      <td>0.0</td>\n",
              "      <td>1.0</td>\n",
              "      <td>0.0</td>\n",
              "      <td>0.0</td>\n",
              "      <td>1.0</td>\n",
              "      <td>0.0</td>\n",
              "      <td>0.0</td>\n",
              "      <td>1.0</td>\n",
              "      <td>0.0</td>\n",
              "      <td>0.0</td>\n",
              "      <td>1.0</td>\n",
              "      <td>0.0</td>\n",
              "      <td>0.0</td>\n",
              "      <td>0.0</td>\n",
              "      <td>1.0</td>\n",
              "    </tr>\n",
              "    <tr>\n",
              "      <th>3</th>\n",
              "      <td>1.0</td>\n",
              "      <td>0.0</td>\n",
              "      <td>0.0</td>\n",
              "      <td>1.0</td>\n",
              "      <td>0.0</td>\n",
              "      <td>1.0</td>\n",
              "      <td>0.0</td>\n",
              "      <td>0.0</td>\n",
              "      <td>0.0</td>\n",
              "      <td>1.0</td>\n",
              "      <td>1.0</td>\n",
              "      <td>0.0</td>\n",
              "      <td>0.0</td>\n",
              "      <td>0.0</td>\n",
              "      <td>1.0</td>\n",
              "      <td>0.0</td>\n",
              "    </tr>\n",
              "    <tr>\n",
              "      <th>4</th>\n",
              "      <td>0.0</td>\n",
              "      <td>1.0</td>\n",
              "      <td>1.0</td>\n",
              "      <td>0.0</td>\n",
              "      <td>0.0</td>\n",
              "      <td>1.0</td>\n",
              "      <td>0.0</td>\n",
              "      <td>0.0</td>\n",
              "      <td>1.0</td>\n",
              "      <td>0.0</td>\n",
              "      <td>0.0</td>\n",
              "      <td>1.0</td>\n",
              "      <td>0.0</td>\n",
              "      <td>1.0</td>\n",
              "      <td>0.0</td>\n",
              "      <td>0.0</td>\n",
              "    </tr>\n",
              "    <tr>\n",
              "      <th>...</th>\n",
              "      <td>...</td>\n",
              "      <td>...</td>\n",
              "      <td>...</td>\n",
              "      <td>...</td>\n",
              "      <td>...</td>\n",
              "      <td>...</td>\n",
              "      <td>...</td>\n",
              "      <td>...</td>\n",
              "      <td>...</td>\n",
              "      <td>...</td>\n",
              "      <td>...</td>\n",
              "      <td>...</td>\n",
              "      <td>...</td>\n",
              "      <td>...</td>\n",
              "      <td>...</td>\n",
              "      <td>...</td>\n",
              "    </tr>\n",
              "    <tr>\n",
              "      <th>4067</th>\n",
              "      <td>1.0</td>\n",
              "      <td>0.0</td>\n",
              "      <td>1.0</td>\n",
              "      <td>0.0</td>\n",
              "      <td>1.0</td>\n",
              "      <td>0.0</td>\n",
              "      <td>0.0</td>\n",
              "      <td>0.0</td>\n",
              "      <td>1.0</td>\n",
              "      <td>0.0</td>\n",
              "      <td>0.0</td>\n",
              "      <td>1.0</td>\n",
              "      <td>1.0</td>\n",
              "      <td>0.0</td>\n",
              "      <td>0.0</td>\n",
              "      <td>0.0</td>\n",
              "    </tr>\n",
              "    <tr>\n",
              "      <th>4068</th>\n",
              "      <td>1.0</td>\n",
              "      <td>0.0</td>\n",
              "      <td>1.0</td>\n",
              "      <td>0.0</td>\n",
              "      <td>0.0</td>\n",
              "      <td>1.0</td>\n",
              "      <td>0.0</td>\n",
              "      <td>0.0</td>\n",
              "      <td>0.0</td>\n",
              "      <td>1.0</td>\n",
              "      <td>0.0</td>\n",
              "      <td>1.0</td>\n",
              "      <td>0.0</td>\n",
              "      <td>0.0</td>\n",
              "      <td>1.0</td>\n",
              "      <td>0.0</td>\n",
              "    </tr>\n",
              "    <tr>\n",
              "      <th>4069</th>\n",
              "      <td>1.0</td>\n",
              "      <td>0.0</td>\n",
              "      <td>1.0</td>\n",
              "      <td>0.0</td>\n",
              "      <td>0.0</td>\n",
              "      <td>1.0</td>\n",
              "      <td>0.0</td>\n",
              "      <td>0.0</td>\n",
              "      <td>0.0</td>\n",
              "      <td>1.0</td>\n",
              "      <td>1.0</td>\n",
              "      <td>0.0</td>\n",
              "      <td>0.0</td>\n",
              "      <td>0.0</td>\n",
              "      <td>1.0</td>\n",
              "      <td>0.0</td>\n",
              "    </tr>\n",
              "    <tr>\n",
              "      <th>4070</th>\n",
              "      <td>0.0</td>\n",
              "      <td>1.0</td>\n",
              "      <td>1.0</td>\n",
              "      <td>0.0</td>\n",
              "      <td>0.0</td>\n",
              "      <td>1.0</td>\n",
              "      <td>0.0</td>\n",
              "      <td>0.0</td>\n",
              "      <td>1.0</td>\n",
              "      <td>0.0</td>\n",
              "      <td>1.0</td>\n",
              "      <td>0.0</td>\n",
              "      <td>0.0</td>\n",
              "      <td>1.0</td>\n",
              "      <td>0.0</td>\n",
              "      <td>0.0</td>\n",
              "    </tr>\n",
              "    <tr>\n",
              "      <th>4071</th>\n",
              "      <td>1.0</td>\n",
              "      <td>0.0</td>\n",
              "      <td>1.0</td>\n",
              "      <td>0.0</td>\n",
              "      <td>0.0</td>\n",
              "      <td>1.0</td>\n",
              "      <td>1.0</td>\n",
              "      <td>0.0</td>\n",
              "      <td>0.0</td>\n",
              "      <td>0.0</td>\n",
              "      <td>0.0</td>\n",
              "      <td>1.0</td>\n",
              "      <td>1.0</td>\n",
              "      <td>0.0</td>\n",
              "      <td>0.0</td>\n",
              "      <td>0.0</td>\n",
              "    </tr>\n",
              "  </tbody>\n",
              "</table>\n",
              "<p>4072 rows × 16 columns</p>\n",
              "</div>"
            ],
            "text/plain": [
              "      x0_Female  x0_Male  x1_0  x1_1  x2_No  x2_Yes  x3_Govt_job  \\\n",
              "0           0.0      1.0   1.0   0.0    0.0     1.0          0.0   \n",
              "1           0.0      1.0   1.0   0.0    0.0     1.0          0.0   \n",
              "2           1.0      0.0   1.0   0.0    0.0     1.0          0.0   \n",
              "3           1.0      0.0   0.0   1.0    0.0     1.0          0.0   \n",
              "4           0.0      1.0   1.0   0.0    0.0     1.0          0.0   \n",
              "...         ...      ...   ...   ...    ...     ...          ...   \n",
              "4067        1.0      0.0   1.0   0.0    1.0     0.0          0.0   \n",
              "4068        1.0      0.0   1.0   0.0    0.0     1.0          0.0   \n",
              "4069        1.0      0.0   1.0   0.0    0.0     1.0          0.0   \n",
              "4070        0.0      1.0   1.0   0.0    0.0     1.0          0.0   \n",
              "4071        1.0      0.0   1.0   0.0    0.0     1.0          1.0   \n",
              "\n",
              "      x3_Never_worked  x3_Private  x3_Self-employed  x4_Rural  x4_Urban  \\\n",
              "0                 0.0         1.0               0.0       0.0       1.0   \n",
              "1                 0.0         1.0               0.0       1.0       0.0   \n",
              "2                 0.0         1.0               0.0       0.0       1.0   \n",
              "3                 0.0         0.0               1.0       1.0       0.0   \n",
              "4                 0.0         1.0               0.0       0.0       1.0   \n",
              "...               ...         ...               ...       ...       ...   \n",
              "4067              0.0         1.0               0.0       0.0       1.0   \n",
              "4068              0.0         0.0               1.0       0.0       1.0   \n",
              "4069              0.0         0.0               1.0       1.0       0.0   \n",
              "4070              0.0         1.0               0.0       1.0       0.0   \n",
              "4071              0.0         0.0               0.0       0.0       1.0   \n",
              "\n",
              "      x5_Unknown  x5_formerly smoked  x5_never smoked  x5_smokes  \n",
              "0            0.0                 1.0              0.0        0.0  \n",
              "1            0.0                 0.0              1.0        0.0  \n",
              "2            0.0                 0.0              0.0        1.0  \n",
              "3            0.0                 0.0              1.0        0.0  \n",
              "4            0.0                 1.0              0.0        0.0  \n",
              "...          ...                 ...              ...        ...  \n",
              "4067         1.0                 0.0              0.0        0.0  \n",
              "4068         0.0                 0.0              1.0        0.0  \n",
              "4069         0.0                 0.0              1.0        0.0  \n",
              "4070         0.0                 1.0              0.0        0.0  \n",
              "4071         1.0                 0.0              0.0        0.0  \n",
              "\n",
              "[4072 rows x 16 columns]"
            ]
          },
          "execution_count": 84,
          "metadata": {},
          "output_type": "execute_result"
        }
      ],
      "source": [
        "encoded_data"
      ]
    },
    {
      "cell_type": "code",
      "execution_count": 90,
      "metadata": {},
      "outputs": [],
      "source": [
        "stroke_dataset.reset_index(drop=True, inplace=True)"
      ]
    },
    {
      "cell_type": "code",
      "execution_count": 91,
      "metadata": {},
      "outputs": [],
      "source": [
        "final_data = stroke_dataset.join(encoded_data)"
      ]
    },
    {
      "cell_type": "code",
      "execution_count": 92,
      "metadata": {},
      "outputs": [],
      "source": [
        "final_data.drop(cat_columns, axis=1, inplace=True)"
      ]
    },
    {
      "cell_type": "code",
      "execution_count": 93,
      "metadata": {},
      "outputs": [
        {
          "data": {
            "text/html": [
              "<div>\n",
              "<style scoped>\n",
              "    .dataframe tbody tr th:only-of-type {\n",
              "        vertical-align: middle;\n",
              "    }\n",
              "\n",
              "    .dataframe tbody tr th {\n",
              "        vertical-align: top;\n",
              "    }\n",
              "\n",
              "    .dataframe thead th {\n",
              "        text-align: right;\n",
              "    }\n",
              "</style>\n",
              "<table border=\"1\" class=\"dataframe\">\n",
              "  <thead>\n",
              "    <tr style=\"text-align: right;\">\n",
              "      <th></th>\n",
              "      <th>age</th>\n",
              "      <th>heart_disease</th>\n",
              "      <th>avg_glucose_level</th>\n",
              "      <th>bmi</th>\n",
              "      <th>stroke</th>\n",
              "      <th>x0_Female</th>\n",
              "      <th>x0_Male</th>\n",
              "      <th>x1_0</th>\n",
              "      <th>x1_1</th>\n",
              "      <th>x2_No</th>\n",
              "      <th>...</th>\n",
              "      <th>x3_Govt_job</th>\n",
              "      <th>x3_Never_worked</th>\n",
              "      <th>x3_Private</th>\n",
              "      <th>x3_Self-employed</th>\n",
              "      <th>x4_Rural</th>\n",
              "      <th>x4_Urban</th>\n",
              "      <th>x5_Unknown</th>\n",
              "      <th>x5_formerly smoked</th>\n",
              "      <th>x5_never smoked</th>\n",
              "      <th>x5_smokes</th>\n",
              "    </tr>\n",
              "  </thead>\n",
              "  <tbody>\n",
              "    <tr>\n",
              "      <th>0</th>\n",
              "      <td>67</td>\n",
              "      <td>1</td>\n",
              "      <td>228.69</td>\n",
              "      <td>36.6</td>\n",
              "      <td>1</td>\n",
              "      <td>0.0</td>\n",
              "      <td>1.0</td>\n",
              "      <td>1.0</td>\n",
              "      <td>0.0</td>\n",
              "      <td>0.0</td>\n",
              "      <td>...</td>\n",
              "      <td>0.0</td>\n",
              "      <td>0.0</td>\n",
              "      <td>1.0</td>\n",
              "      <td>0.0</td>\n",
              "      <td>0.0</td>\n",
              "      <td>1.0</td>\n",
              "      <td>0.0</td>\n",
              "      <td>1.0</td>\n",
              "      <td>0.0</td>\n",
              "      <td>0.0</td>\n",
              "    </tr>\n",
              "    <tr>\n",
              "      <th>1</th>\n",
              "      <td>80</td>\n",
              "      <td>1</td>\n",
              "      <td>105.92</td>\n",
              "      <td>32.5</td>\n",
              "      <td>1</td>\n",
              "      <td>0.0</td>\n",
              "      <td>1.0</td>\n",
              "      <td>1.0</td>\n",
              "      <td>0.0</td>\n",
              "      <td>0.0</td>\n",
              "      <td>...</td>\n",
              "      <td>0.0</td>\n",
              "      <td>0.0</td>\n",
              "      <td>1.0</td>\n",
              "      <td>0.0</td>\n",
              "      <td>1.0</td>\n",
              "      <td>0.0</td>\n",
              "      <td>0.0</td>\n",
              "      <td>0.0</td>\n",
              "      <td>1.0</td>\n",
              "      <td>0.0</td>\n",
              "    </tr>\n",
              "    <tr>\n",
              "      <th>2</th>\n",
              "      <td>49</td>\n",
              "      <td>0</td>\n",
              "      <td>171.23</td>\n",
              "      <td>34.4</td>\n",
              "      <td>1</td>\n",
              "      <td>1.0</td>\n",
              "      <td>0.0</td>\n",
              "      <td>1.0</td>\n",
              "      <td>0.0</td>\n",
              "      <td>0.0</td>\n",
              "      <td>...</td>\n",
              "      <td>0.0</td>\n",
              "      <td>0.0</td>\n",
              "      <td>1.0</td>\n",
              "      <td>0.0</td>\n",
              "      <td>0.0</td>\n",
              "      <td>1.0</td>\n",
              "      <td>0.0</td>\n",
              "      <td>0.0</td>\n",
              "      <td>0.0</td>\n",
              "      <td>1.0</td>\n",
              "    </tr>\n",
              "    <tr>\n",
              "      <th>3</th>\n",
              "      <td>79</td>\n",
              "      <td>0</td>\n",
              "      <td>174.12</td>\n",
              "      <td>24.0</td>\n",
              "      <td>1</td>\n",
              "      <td>1.0</td>\n",
              "      <td>0.0</td>\n",
              "      <td>0.0</td>\n",
              "      <td>1.0</td>\n",
              "      <td>0.0</td>\n",
              "      <td>...</td>\n",
              "      <td>0.0</td>\n",
              "      <td>0.0</td>\n",
              "      <td>0.0</td>\n",
              "      <td>1.0</td>\n",
              "      <td>1.0</td>\n",
              "      <td>0.0</td>\n",
              "      <td>0.0</td>\n",
              "      <td>0.0</td>\n",
              "      <td>1.0</td>\n",
              "      <td>0.0</td>\n",
              "    </tr>\n",
              "    <tr>\n",
              "      <th>4</th>\n",
              "      <td>81</td>\n",
              "      <td>0</td>\n",
              "      <td>186.21</td>\n",
              "      <td>29.0</td>\n",
              "      <td>1</td>\n",
              "      <td>0.0</td>\n",
              "      <td>1.0</td>\n",
              "      <td>1.0</td>\n",
              "      <td>0.0</td>\n",
              "      <td>0.0</td>\n",
              "      <td>...</td>\n",
              "      <td>0.0</td>\n",
              "      <td>0.0</td>\n",
              "      <td>1.0</td>\n",
              "      <td>0.0</td>\n",
              "      <td>0.0</td>\n",
              "      <td>1.0</td>\n",
              "      <td>0.0</td>\n",
              "      <td>1.0</td>\n",
              "      <td>0.0</td>\n",
              "      <td>0.0</td>\n",
              "    </tr>\n",
              "    <tr>\n",
              "      <th>...</th>\n",
              "      <td>...</td>\n",
              "      <td>...</td>\n",
              "      <td>...</td>\n",
              "      <td>...</td>\n",
              "      <td>...</td>\n",
              "      <td>...</td>\n",
              "      <td>...</td>\n",
              "      <td>...</td>\n",
              "      <td>...</td>\n",
              "      <td>...</td>\n",
              "      <td>...</td>\n",
              "      <td>...</td>\n",
              "      <td>...</td>\n",
              "      <td>...</td>\n",
              "      <td>...</td>\n",
              "      <td>...</td>\n",
              "      <td>...</td>\n",
              "      <td>...</td>\n",
              "      <td>...</td>\n",
              "      <td>...</td>\n",
              "      <td>...</td>\n",
              "    </tr>\n",
              "    <tr>\n",
              "      <th>4067</th>\n",
              "      <td>18</td>\n",
              "      <td>0</td>\n",
              "      <td>82.85</td>\n",
              "      <td>46.9</td>\n",
              "      <td>0</td>\n",
              "      <td>1.0</td>\n",
              "      <td>0.0</td>\n",
              "      <td>1.0</td>\n",
              "      <td>0.0</td>\n",
              "      <td>1.0</td>\n",
              "      <td>...</td>\n",
              "      <td>0.0</td>\n",
              "      <td>0.0</td>\n",
              "      <td>1.0</td>\n",
              "      <td>0.0</td>\n",
              "      <td>0.0</td>\n",
              "      <td>1.0</td>\n",
              "      <td>1.0</td>\n",
              "      <td>0.0</td>\n",
              "      <td>0.0</td>\n",
              "      <td>0.0</td>\n",
              "    </tr>\n",
              "    <tr>\n",
              "      <th>4068</th>\n",
              "      <td>81</td>\n",
              "      <td>0</td>\n",
              "      <td>125.20</td>\n",
              "      <td>40.0</td>\n",
              "      <td>0</td>\n",
              "      <td>1.0</td>\n",
              "      <td>0.0</td>\n",
              "      <td>1.0</td>\n",
              "      <td>0.0</td>\n",
              "      <td>0.0</td>\n",
              "      <td>...</td>\n",
              "      <td>0.0</td>\n",
              "      <td>0.0</td>\n",
              "      <td>0.0</td>\n",
              "      <td>1.0</td>\n",
              "      <td>0.0</td>\n",
              "      <td>1.0</td>\n",
              "      <td>0.0</td>\n",
              "      <td>0.0</td>\n",
              "      <td>1.0</td>\n",
              "      <td>0.0</td>\n",
              "    </tr>\n",
              "    <tr>\n",
              "      <th>4069</th>\n",
              "      <td>35</td>\n",
              "      <td>0</td>\n",
              "      <td>82.99</td>\n",
              "      <td>30.6</td>\n",
              "      <td>0</td>\n",
              "      <td>1.0</td>\n",
              "      <td>0.0</td>\n",
              "      <td>1.0</td>\n",
              "      <td>0.0</td>\n",
              "      <td>0.0</td>\n",
              "      <td>...</td>\n",
              "      <td>0.0</td>\n",
              "      <td>0.0</td>\n",
              "      <td>0.0</td>\n",
              "      <td>1.0</td>\n",
              "      <td>1.0</td>\n",
              "      <td>0.0</td>\n",
              "      <td>0.0</td>\n",
              "      <td>0.0</td>\n",
              "      <td>1.0</td>\n",
              "      <td>0.0</td>\n",
              "    </tr>\n",
              "    <tr>\n",
              "      <th>4070</th>\n",
              "      <td>51</td>\n",
              "      <td>0</td>\n",
              "      <td>166.29</td>\n",
              "      <td>25.6</td>\n",
              "      <td>0</td>\n",
              "      <td>0.0</td>\n",
              "      <td>1.0</td>\n",
              "      <td>1.0</td>\n",
              "      <td>0.0</td>\n",
              "      <td>0.0</td>\n",
              "      <td>...</td>\n",
              "      <td>0.0</td>\n",
              "      <td>0.0</td>\n",
              "      <td>1.0</td>\n",
              "      <td>0.0</td>\n",
              "      <td>1.0</td>\n",
              "      <td>0.0</td>\n",
              "      <td>0.0</td>\n",
              "      <td>1.0</td>\n",
              "      <td>0.0</td>\n",
              "      <td>0.0</td>\n",
              "    </tr>\n",
              "    <tr>\n",
              "      <th>4071</th>\n",
              "      <td>44</td>\n",
              "      <td>0</td>\n",
              "      <td>85.28</td>\n",
              "      <td>26.2</td>\n",
              "      <td>0</td>\n",
              "      <td>1.0</td>\n",
              "      <td>0.0</td>\n",
              "      <td>1.0</td>\n",
              "      <td>0.0</td>\n",
              "      <td>0.0</td>\n",
              "      <td>...</td>\n",
              "      <td>1.0</td>\n",
              "      <td>0.0</td>\n",
              "      <td>0.0</td>\n",
              "      <td>0.0</td>\n",
              "      <td>0.0</td>\n",
              "      <td>1.0</td>\n",
              "      <td>1.0</td>\n",
              "      <td>0.0</td>\n",
              "      <td>0.0</td>\n",
              "      <td>0.0</td>\n",
              "    </tr>\n",
              "  </tbody>\n",
              "</table>\n",
              "<p>4072 rows × 21 columns</p>\n",
              "</div>"
            ],
            "text/plain": [
              "      age  heart_disease  avg_glucose_level   bmi  stroke  x0_Female  x0_Male  \\\n",
              "0      67              1             228.69  36.6       1        0.0      1.0   \n",
              "1      80              1             105.92  32.5       1        0.0      1.0   \n",
              "2      49              0             171.23  34.4       1        1.0      0.0   \n",
              "3      79              0             174.12  24.0       1        1.0      0.0   \n",
              "4      81              0             186.21  29.0       1        0.0      1.0   \n",
              "...   ...            ...                ...   ...     ...        ...      ...   \n",
              "4067   18              0              82.85  46.9       0        1.0      0.0   \n",
              "4068   81              0             125.20  40.0       0        1.0      0.0   \n",
              "4069   35              0              82.99  30.6       0        1.0      0.0   \n",
              "4070   51              0             166.29  25.6       0        0.0      1.0   \n",
              "4071   44              0              85.28  26.2       0        1.0      0.0   \n",
              "\n",
              "      x1_0  x1_1  x2_No  ...  x3_Govt_job  x3_Never_worked  x3_Private  \\\n",
              "0      1.0   0.0    0.0  ...          0.0              0.0         1.0   \n",
              "1      1.0   0.0    0.0  ...          0.0              0.0         1.0   \n",
              "2      1.0   0.0    0.0  ...          0.0              0.0         1.0   \n",
              "3      0.0   1.0    0.0  ...          0.0              0.0         0.0   \n",
              "4      1.0   0.0    0.0  ...          0.0              0.0         1.0   \n",
              "...    ...   ...    ...  ...          ...              ...         ...   \n",
              "4067   1.0   0.0    1.0  ...          0.0              0.0         1.0   \n",
              "4068   1.0   0.0    0.0  ...          0.0              0.0         0.0   \n",
              "4069   1.0   0.0    0.0  ...          0.0              0.0         0.0   \n",
              "4070   1.0   0.0    0.0  ...          0.0              0.0         1.0   \n",
              "4071   1.0   0.0    0.0  ...          1.0              0.0         0.0   \n",
              "\n",
              "      x3_Self-employed  x4_Rural  x4_Urban  x5_Unknown  x5_formerly smoked  \\\n",
              "0                  0.0       0.0       1.0         0.0                 1.0   \n",
              "1                  0.0       1.0       0.0         0.0                 0.0   \n",
              "2                  0.0       0.0       1.0         0.0                 0.0   \n",
              "3                  1.0       1.0       0.0         0.0                 0.0   \n",
              "4                  0.0       0.0       1.0         0.0                 1.0   \n",
              "...                ...       ...       ...         ...                 ...   \n",
              "4067               0.0       0.0       1.0         1.0                 0.0   \n",
              "4068               1.0       0.0       1.0         0.0                 0.0   \n",
              "4069               1.0       1.0       0.0         0.0                 0.0   \n",
              "4070               0.0       1.0       0.0         0.0                 1.0   \n",
              "4071               0.0       0.0       1.0         1.0                 0.0   \n",
              "\n",
              "      x5_never smoked  x5_smokes  \n",
              "0                 0.0        0.0  \n",
              "1                 1.0        0.0  \n",
              "2                 0.0        1.0  \n",
              "3                 1.0        0.0  \n",
              "4                 0.0        0.0  \n",
              "...               ...        ...  \n",
              "4067              0.0        0.0  \n",
              "4068              1.0        0.0  \n",
              "4069              1.0        0.0  \n",
              "4070              0.0        0.0  \n",
              "4071              0.0        0.0  \n",
              "\n",
              "[4072 rows x 21 columns]"
            ]
          },
          "execution_count": 93,
          "metadata": {},
          "output_type": "execute_result"
        }
      ],
      "source": [
        "final_data"
      ]
    },
    {
      "cell_type": "code",
      "execution_count": 95,
      "metadata": {},
      "outputs": [
        {
          "data": {
            "text/plain": [
              "['C:\\\\Users\\\\User\\\\Desktop\\\\my-projects\\\\stroke_prediction\\\\models/data_encoder.pkl']"
            ]
          },
          "execution_count": 95,
          "metadata": {},
          "output_type": "execute_result"
        }
      ],
      "source": [
        "import joblib\n",
        "\n",
        "joblib.dump(data_encoder, r\"C:\\Users\\User\\Desktop\\my-projects\\stroke_prediction\\models/data_encoder.pkl\")"
      ]
    },
    {
      "cell_type": "code",
      "execution_count": 96,
      "metadata": {},
      "outputs": [],
      "source": [
        "def splitting(data):\n",
        "    train, test = train_test_split(data, test_size=0.2)\n",
        "    train.to_csv(r\"C:\\Users\\User\\Desktop\\my-projects\\stroke_prediction\\dataset\\train_dataset.csv\", index=False)\n",
        "    test.to_csv(r\"C:\\Users\\User\\Desktop\\my-projects\\stroke_prediction\\dataset\\test_dataset.csv\", index=False)\n",
        "\n",
        "splitting(final_data)"
      ]
    },
    {
      "cell_type": "code",
      "execution_count": null,
      "metadata": {},
      "outputs": [],
      "source": []
    }
  ],
  "metadata": {
    "colab": {
      "name": "EDA_Stroke_dataset.ipynb",
      "provenance": []
    },
    "kernelspec": {
      "display_name": "Python 3.8.0 ('myenv')",
      "language": "python",
      "name": "python3"
    },
    "language_info": {
      "codemirror_mode": {
        "name": "ipython",
        "version": 3
      },
      "file_extension": ".py",
      "mimetype": "text/x-python",
      "name": "python",
      "nbconvert_exporter": "python",
      "pygments_lexer": "ipython3",
      "version": "3.8.0"
    },
    "vscode": {
      "interpreter": {
        "hash": "1f3c63be497089d92c7178fa8268554d9acd64372db5485435c07c4b1e5eb569"
      }
    }
  },
  "nbformat": 4,
  "nbformat_minor": 0
}
